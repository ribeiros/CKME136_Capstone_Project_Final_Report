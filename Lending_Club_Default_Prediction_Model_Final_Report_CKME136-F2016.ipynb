{
 "cells": [
  {
   "cell_type": "markdown",
   "metadata": {},
   "source": [
    "# Lending Club - Loan Repayment Prediction Model - Final Report\n",
    "\n",
    "## Introduction\n",
    "The goal of each and every business is to make profit.  For a lender, profit depends on whether or not the borrower repays the principal as well as interest.  Without repayment the lender will incur a loss and that loss can even potentially be greater than the initial loan amount when lawyer, court and collection fees are taken into consideration.  Therefore, it is critically important for a lender to be able to identify whether a potential borrower can and will make all of his or her loan payments.  The purpose of this project is to identify the characteristics (limited to those found in the dataset) of persons who are likely to default on their loans and provide a simple framework for borrowers to make such a distinction.  In order to make predictions on which potential borrower is or isn’t likely to default, binary classification predictive models will be created using a variety of machine learning algorithms.  The framework for lenders to make predictions concerning potential borrowers will come in the form of a decision tree.  "
   ]
  },
  {
   "cell_type": "markdown",
   "metadata": {},
   "source": [
    "## Literature Review\n",
    "\n",
    "**Benchmarking state-of-the-art classification algorithms for credit scoring: A ten-year update**<sup>2</sup>\n",
    "\n",
    "http://www.business-school.ed.ac.uk/waf/crc_archive/2013/42.pdf\n",
    "\n",
    "Essentially this paper is a modern update to the landmark benchmarking study of classification algorithms for credit scoring by Baesens, Van Gestel, Viaene, Stepanova, Suykens and Vanthienen in 2003<sup>1</sup>.  Since 2003 many new techniques and algorithms have been developed in predictive modeling<sup>2</sup>.  This paper builds upon Baesens et al. by including all of the newer state-of-the-art techniques as well as those covered in the previous study.\n",
    "I chose this paper because its goal of comparing of classification algorithms for credit scoring is highly related to the problem this project aims to solve.  The paper describes a vector x of m dimensions with each dimension as a feature characterizing an application for a credit products such as a loan<sup>2</sup>.  The dataset used in this project is in the same format, where each row (vector) represents an individual loan.  The study then goes on to discuss a binary response variable which indicates the existence or non-existence of a default event<sup>2</sup>.  The probability of a default event given x is the classification problem being addressed in the study.  Finally, a decision maker will take this probability and if it falls under a given threshold the application will be accepted, otherwise it will be rejected.  This is essentially the approach I am taking for this capstone project.  The Lending Club data set I am using for this project contains over 100 features characterizing the borrower, my vector x.  The data set also contains a feature stating the current status of the loan with various possible values, each of which can easily be grouped into default or non-default statuses.  This is effectively my binary response variable as described in the study.  Finally my goal is to estimate the probability of default given a set of borrower characteristics and use that to determine whether they are likely or unlikely to default.  Again, this is parallel to the study.\n",
    "The study considered the following classification algorithms.\n",
    "<img src=\"images/algorithms1_1.png\" style=\"width: 600px;\"/>\n",
    "<img src=\"images/algorithms2.png\" style=\"width: 600px;\"/>\n",
    "\n",
    "The following table measures the performance of each algorithm in credit scoring classification using Area Under a ROC Curve (AUC).  According to the study across all performance measures the top three most accurate classifiers are Random Forests, Bagged (MLP) Neural Networks, and Bagged Decision Trees.\n",
    "<img src=\"auc_table.png\" style=\"width: 600px;\"/>\n",
    "![alt text](images/auc_table.png \"AUC Table\")\n",
    "![alt text][logo]\n",
    "[logo]: images/auc_table.png \"Logo Title Text 2\"\n",
    "\n",
    "\n",
    "\n",
    "\n",
    "**An Empirical Comparison of Supervised Learning Algorithms**<sup>3</sup>\n",
    "\n",
    "https://www.cs.cornell.edu/~caruana/ctp/ct.papers/caruana.icml06.pdf\n",
    "\n",
    "This study compares the performance of eight machine learning algorithms namely, SVMs, neural nets, logistic regression, naïve bayes, memory based learning, random forests, decision trees, bagged trees, boosted trees, and boosted stumps.  The performance metrics used are, accuracy, F-score, Lift, ROC Area, average precision, squared error and cross entropy.  The study concludes that bagged trees, random forests and neural nets have the best average performance (prior to calibration) over all the metrics and over all the problems.  When calibration is taken into account, the overall best performing algorithm is boosted decision trees (calibrated)<sup>3</sup>.  In close second is Random forests, followed by bagged decision trees (uncalibrated). \n",
    "<img src=\"images/study2.png\" style=\"width: 600px;\"/>\n",
    "\n",
    "**Conclusion**\n",
    "\n",
    "I was fascinated to discover that from both of the studies I researched, ensemble methods were generally the best performers.  I was also pleasantly surprised to find that in both studies, the top three performing algorithms were almost identical.  According to Benchmarking state-of-the-art classification algorithms for credit scoring: A ten-year update, the top three classifiers were Random Forests, Bagged (MLP) Neural Networks, and Bagged Decision Trees.  Meanwhile according to An Empirical Comparison of Supervised Learning Algorithms, the top three are Boosted Decision Trees, Random Forests and Bagged Decision Trees. In both studies Random Forests and Bagged Decision Trees come out on top.  It’s important to note that An Empirical Comparison of Supervised Learning Algorithms did not include Bagged Neural Networks.  Given the agreement among both studies I have decided to use Random Forests and Bagged Decision Trees for this project. For the sake of comparison I am also going to use Support Vector Machines (SVM).  \n",
    "In addition to selecting classification algorithms, metrics for measuring the performance of said algorithms are required.  Given the similarities of the goals of my project and the aims of Benchmarking state-of-the-art classification algorithms for credit scoring: A ten-year update, I have decided to use some of its performance measures.  Specifically, Percentage Correctly Classified (PCC), and the area under a ROC curve (AUC).\n"
   ]
  },
  {
   "cell_type": "markdown",
   "metadata": {},
   "source": [
    "#### Install all required packages"
   ]
  },
  {
   "cell_type": "code",
   "execution_count": 18,
   "metadata": {
    "collapsed": false
   },
   "outputs": [
    {
     "name": "stderr",
     "output_type": "stream",
     "text": [
      "Warning message:\n",
      "\"package 'ggplot2' is in use and will not be installed\"Warning message:\n",
      "\"dependencies 'graph', 'Rgraphviz' are not available\""
     ]
    },
    {
     "name": "stdout",
     "output_type": "stream",
     "text": [
      "package 'psych' successfully unpacked and MD5 sums checked\n",
      "\n",
      "The downloaded binary packages are in\n",
      "\tC:\\Users\\Ethan\\AppData\\Local\\Temp\\Rtmp6HLphQ\\downloaded_packages\n"
     ]
    },
    {
     "name": "stderr",
     "output_type": "stream",
     "text": [
      "Warning message:\n",
      "\"package 'gmodels' is in use and will not be installed\""
     ]
    },
    {
     "name": "stdout",
     "output_type": "stream",
     "text": [
      "package 'party' successfully unpacked and MD5 sums checked\n",
      "\n",
      "The downloaded binary packages are in\n",
      "\tC:\\Users\\Ethan\\AppData\\Local\\Temp\\Rtmp6HLphQ\\downloaded_packages\n",
      "package 'unbalanced' successfully unpacked and MD5 sums checked\n",
      "\n",
      "The downloaded binary packages are in\n",
      "\tC:\\Users\\Ethan\\AppData\\Local\\Temp\\Rtmp6HLphQ\\downloaded_packages\n",
      "package 'hmeasure' successfully unpacked and MD5 sums checked\n",
      "\n",
      "The downloaded binary packages are in\n",
      "\tC:\\Users\\Ethan\\AppData\\Local\\Temp\\Rtmp6HLphQ\\downloaded_packages\n",
      "package 'pROC' successfully unpacked and MD5 sums checked\n",
      "\n",
      "The downloaded binary packages are in\n",
      "\tC:\\Users\\Ethan\\AppData\\Local\\Temp\\Rtmp6HLphQ\\downloaded_packages\n",
      "package 'adabag' successfully unpacked and MD5 sums checked\n",
      "\n",
      "The downloaded binary packages are in\n",
      "\tC:\\Users\\Ethan\\AppData\\Local\\Temp\\Rtmp6HLphQ\\downloaded_packages\n"
     ]
    },
    {
     "name": "stderr",
     "output_type": "stream",
     "text": [
      "Warning message:\n",
      "\"package 'caret' was built under R version 3.3.2\"Loading required package: lattice\n",
      "Warning message:\n",
      "\"package 'psych' was built under R version 3.3.2\"\n",
      "Attaching package: 'psych'\n",
      "\n",
      "The following objects are masked from 'package:ggplot2':\n",
      "\n",
      "    %+%, alpha\n",
      "\n",
      "Warning message:\n",
      "\"package 'party' was built under R version 3.3.2\"Loading required package: grid\n",
      "Loading required package: mvtnorm\n",
      "Warning message:\n",
      "\"package 'mvtnorm' was built under R version 3.3.2\"Loading required package: modeltools\n",
      "Warning message:\n",
      "\"package 'modeltools' was built under R version 3.3.2\"Loading required package: stats4\n",
      "Loading required package: strucchange\n",
      "Warning message:\n",
      "\"package 'strucchange' was built under R version 3.3.2\"Loading required package: zoo\n",
      "\n",
      "Attaching package: 'zoo'\n",
      "\n",
      "The following objects are masked from 'package:base':\n",
      "\n",
      "    as.Date, as.Date.numeric\n",
      "\n",
      "Loading required package: sandwich\n",
      "Warning message:\n",
      "\"package 'sandwich' was built under R version 3.3.2\"Warning message:\n",
      "\"package 'unbalanced' was built under R version 3.3.2\"Loading required package: mlr\n",
      "Warning message:\n",
      "\"package 'mlr' was built under R version 3.3.2\"Loading required package: BBmisc\n",
      "Warning message:\n",
      "\"package 'BBmisc' was built under R version 3.3.2\"\n",
      "Attaching package: 'BBmisc'\n",
      "\n",
      "The following object is masked from 'package:grid':\n",
      "\n",
      "    explode\n",
      "\n",
      "Loading required package: ParamHelpers\n",
      "Loading required package: stringi\n",
      "\n",
      "Attaching package: 'mlr'\n",
      "\n",
      "The following object is masked _by_ '.GlobalEnv':\n",
      "\n",
      "    db\n",
      "\n",
      "The following object is masked from 'package:caret':\n",
      "\n",
      "    train\n",
      "\n",
      "Loading required package: foreach\n",
      "Loading required package: doParallel\n",
      "Warning message:\n",
      "\"package 'doParallel' was built under R version 3.3.2\"Loading required package: iterators\n",
      "Loading required package: parallel\n",
      "Warning message:\n",
      "\"package 'pROC' was built under R version 3.3.2\"Type 'citation(\"pROC\")' for a citation.\n",
      "\n",
      "Attaching package: 'pROC'\n",
      "\n",
      "The following object is masked from 'package:gmodels':\n",
      "\n",
      "    ci\n",
      "\n",
      "The following objects are masked from 'package:stats':\n",
      "\n",
      "    cov, smooth, var\n",
      "\n"
     ]
    }
   ],
   "source": [
    "#install.packages(\"caret\", repos='http://cran.us.r-project.org',dependencies = TRUE)\n",
    "install.packages(\"ggplot2\", repos='http://cran.us.r-project.org',dependencies = TRUE)\n",
    "install.packages(\"psych\", repos='http://cran.us.r-project.org',dependencies = TRUE)\n",
    "install.packages(\"gmodels\", repos='http://cran.us.r-project.org',dependencies = TRUE)\n",
    "install.packages(\"party\", repos='http://cran.us.r-project.org',dependencies = TRUE)\n",
    "#install.packages(\"e1071\", repos='http://cran.us.r-project.org',dependencies = TRUE)\n",
    "install.packages(\"unbalanced\", repos='http://cran.us.r-project.org',dependencies = TRUE)\n",
    "install.packages(\"hmeasure\", repos='http://cran.us.r-project.org',dependencies = TRUE)\n",
    "install.packages(\"pROC\", repos='http://cran.us.r-project.org',dependencies = TRUE)\n",
    "install.packages(\"adabag\", repos='http://cran.us.r-project.org',dependencies = TRUE)\n",
    "library(caret)\n",
    "library(psych)\n",
    "library(lattice)\n",
    "library(party)\n",
    "library(unbalanced)\n",
    "#library(hmeasure)\n",
    "library(pROC)"
   ]
  },
  {
   "cell_type": "markdown",
   "metadata": {},
   "source": [
    "## Dataset\n",
    "\n",
    "The dataset for this project is the Loan Data dataset from the Lending Club (https://www.lendingclub.com/info/download-data.action). Only 36 month term data from 2007 to February 2013 is being used because it is important that all loans examined are well past their due date.  A borrower which defaults on a current loan may do so due to a temporary job loss or a myriad of other reasons.  The borrower may then recover and return to good standing once again.  Using 36 month term data up until February 2013, ensures that labelling potentially temporary defaults as permanent does not occur."
   ]
  },
  {
   "cell_type": "markdown",
   "metadata": {},
   "source": [
    "#### Loading Raw Data"
   ]
  },
  {
   "cell_type": "code",
   "execution_count": 1,
   "metadata": {
    "collapsed": true
   },
   "outputs": [],
   "source": [
    "lending_club_2012_2013 <- read.csv(\"lending_club_rfe/LoanStats3b_securev1.csv\", header=TRUE)\n",
    "lending_club_2007_2011 <- read.csv(\"lending_club_rfe/LoanStats3a_securev1.csv\", header=TRUE)"
   ]
  },
  {
   "cell_type": "markdown",
   "metadata": {},
   "source": [
    "#### Pruning data set to include only 36 month term loans issued up to February 2013\n",
    "The reason for this is because all 36 month loans issued February 2013 or earlier have fully come to term."
   ]
  },
  {
   "cell_type": "code",
   "execution_count": 2,
   "metadata": {
    "collapsed": false
   },
   "outputs": [],
   "source": [
    "lending_club_jan_2013 <- subset(lending_club_2012_2013,issue_d == \"Jan-2013\")\n",
    "lending_club_feb_2013 <- subset(lending_club_2012_2013,issue_d == \"Feb-2013\")\n",
    "lending_club_2012 <- subset(lending_club_2012_2013,grepl(\"2012\",issue_d))\n",
    "lending_club_2012_2013_36 <- subset(rbind(lending_club_2012,lending_club_feb_2013,lending_club_jan_2013),grepl(\"36\",term))\n",
    "lending_club_2011 <- subset(lending_club_2007_2011, grepl(\"2011\",issue_d))\n",
    "lending_club_2007_2010 <- lending_club_2007_2011[-NROW(lending_club_2011),]\n",
    "lending_club_final <- rbind(lending_club_2007_2010,lending_club_2011,lending_club_2012_2013_36)"
   ]
  },
  {
   "cell_type": "markdown",
   "metadata": {},
   "source": [
    "#### Number of records in the initial dataset \n",
    "Please note that each record in the dataset represents an individual loan."
   ]
  },
  {
   "cell_type": "code",
   "execution_count": 3,
   "metadata": {
    "collapsed": false
   },
   "outputs": [
    {
     "data": {
      "text/html": [
       "119276"
      ],
      "text/latex": [
       "119276"
      ],
      "text/markdown": [
       "119276"
      ],
      "text/plain": [
       "[1] 119276"
      ]
     },
     "metadata": {},
     "output_type": "display_data"
    }
   ],
   "source": [
    "nrow(lending_club_final)"
   ]
  },
  {
   "cell_type": "markdown",
   "metadata": {},
   "source": [
    "#### Number of features (columns) in the initial dataset"
   ]
  },
  {
   "cell_type": "code",
   "execution_count": 4,
   "metadata": {
    "collapsed": false
   },
   "outputs": [
    {
     "data": {
      "text/html": [
       "115"
      ],
      "text/latex": [
       "115"
      ],
      "text/markdown": [
       "115"
      ],
      "text/plain": [
       "[1] 115"
      ]
     },
     "metadata": {},
     "output_type": "display_data"
    }
   ],
   "source": [
    "ncol(lending_club_final)"
   ]
  },
  {
   "cell_type": "markdown",
   "metadata": {},
   "source": [
    "#### Adding label (default) to the data set\n",
    "default:\n",
    "\n",
    "1 = true (default has occured)\n",
    "\n",
    "0 = false (default has not occured)\n",
    "\n",
    "**default is the dependent variable which the predictive model aims to predict**"
   ]
  },
  {
   "cell_type": "code",
   "execution_count": 22,
   "metadata": {
    "collapsed": false
   },
   "outputs": [],
   "source": [
    "# add label (default_status) to dataset\n",
    "status <- c(\"Current\",\"Fully Paid\",\"Late (16-30 days)\",\"Does not meet the credit policy. Status:Charged Off\",\"Charged Off\",\"Default\",\"In Grace Period\",\"Late (31-120 days)\",\"Does not meet the credit policy. Status:Fully Paid\")\n",
    "default_status <- c(0,0,1,1,1,1,1,1,0)\n",
    "lending_club_default <- data.frame(default = default_status[match(lending_club_final$loan_status, status)])\n",
    "lending_club_final <- cbind(lending_club_final,lending_club_default)\n",
    "\n",
    "# remove all records which have default as NA\n",
    "lending_club_final <- lending_club_final[-which(is.na(lending_club_final$default)==TRUE),]"
   ]
  },
  {
   "cell_type": "markdown",
   "metadata": {},
   "source": [
    "#### Cleaning data set and removing variables/features not known at issuance of loan\n",
    "The dataset contains variables/features which are only known after the loan is issued. Since the aim of this project is create a predictive model to be used by lenders before the issuance of a loan, the following will be removed:\n",
    "\n",
    "total_rec_int  \n",
    "total_pymnt_inv  \n",
    "total_pymnt\n",
    "total_rec_prncp\n",
    "collection_recovery_fee  \n",
    "recoveries  \n",
    "last_pymnt_amnt  \n",
    "total_rec_late_fee  \n",
    "last_pymnt_d  \n",
    "last_pymnt_amnt  \n",
    "next_pymnt_d  \n",
    "out_prncp  \n",
    "out_prncp_inv\n",
    "issue_d"
   ]
  },
  {
   "cell_type": "code",
   "execution_count": 23,
   "metadata": {
    "collapsed": true
   },
   "outputs": [],
   "source": [
    "lending_club_final <- lending_club_final[, !(colnames(lending_club_final) %in% c(\"total_rec_int\",\"total_pymnt_inv\",\"total_pymnt\"\n",
    "                                                                                 ,\"total_rec_prncp\",\"collection_recovery_fee\",\n",
    "                                                                                 \"recoveries\",\"last_pymnt_amnt\",\n",
    "                                                                                 \"total_rec_late_fee\",\"last_pymnt_d\",\n",
    "                                                                                 \"last_pymnt_amnt\",\"next_pymnt_d\",\"out_prncp\",\n",
    "                                                                                 \"out_prncp_inv\",\"issue_d\"))]"
   ]
  },
  {
   "cell_type": "markdown",
   "metadata": {},
   "source": [
    "#### Number of Features in Dataset Before Eliminating 'All NA' Fields"
   ]
  },
  {
   "cell_type": "code",
   "execution_count": 24,
   "metadata": {
    "collapsed": false
   },
   "outputs": [
    {
     "data": {
      "text/html": [
       "104"
      ],
      "text/latex": [
       "104"
      ],
      "text/markdown": [
       "104"
      ],
      "text/plain": [
       "[1] 104"
      ]
     },
     "metadata": {},
     "output_type": "display_data"
    }
   ],
   "source": [
    "length(colnames(lending_club_final))"
   ]
  },
  {
   "cell_type": "markdown",
   "metadata": {},
   "source": [
    "#### Eliminate features which are all NA and populate NA's with column (feature) averages"
   ]
  },
  {
   "cell_type": "code",
   "execution_count": 25,
   "metadata": {
    "collapsed": false
   },
   "outputs": [],
   "source": [
    "# find which varaibles/features are all NA\n",
    "na_pct <- sapply(lending_club_final, function(y) sum(is.na(y))/length(y))\n",
    "na_pct <- data.frame(na_pct)\n",
    "all_na <- na_pct == 1\n",
    "\n",
    "# remove variables/features which are all NA\n",
    "lending_club_final <- lending_club_final[,-which(all_na==TRUE)]\n",
    "\n",
    "# Find which variables/features have some NA values\n",
    "na_pct <- sapply(lending_club_final, function(y) sum(is.na(y))/length(y))\n",
    "na_pct <- data.frame(na_pct)\n",
    "sig_na <- na_pct > 0\n",
    "sig_na.df <- as.data.frame(sig_na)\n",
    "sig_na.df <- subset(sig_na.df, sig_na.df$na_pct==TRUE)\n",
    "sig_na_col <- row.names(sig_na.df)\n",
    "\n",
    "# create a data frame of variables/features with some NA values\n",
    "lending_club_final_na_sig <- lending_club_final[,which(names(lending_club_final) %in% sig_na_col)]\n",
    "\n",
    "# remove variables/features which have some NA values\n",
    "lending_club_final <- lending_club_final[,-which(sig_na==TRUE)]\n",
    "\n",
    "# change the datatypes of the dataframe above to integer\n",
    "lending_club_final_na_sig_int <- as.data.frame(lapply(lending_club_final_na_sig,as.integer))\n",
    "\n",
    "# apply column averages to NA values\n",
    "for(i in 1:ncol(lending_club_final_na_sig_int)){\n",
    "  lending_club_final_na_sig_int[is.na(lending_club_final_na_sig_int[,i]), i] <- mean(lending_club_final_na_sig_int[,i], \n",
    "                                                                                        na.rm = TRUE)\n",
    "}\n",
    "\n",
    "# bring it all together\n",
    "lending_club_final <- cbind(lending_club_final_na_sig_int,lending_club_final)"
   ]
  },
  {
   "cell_type": "markdown",
   "metadata": {},
   "source": [
    "#### Number of Features in Dataset After Eliminating 'All NA' Features"
   ]
  },
  {
   "cell_type": "code",
   "execution_count": 26,
   "metadata": {
    "collapsed": false
   },
   "outputs": [
    {
     "data": {
      "text/html": [
       "87"
      ],
      "text/latex": [
       "87"
      ],
      "text/markdown": [
       "87"
      ],
      "text/plain": [
       "[1] 87"
      ]
     },
     "metadata": {},
     "output_type": "display_data"
    }
   ],
   "source": [
    "length(colnames(lending_club_final))"
   ]
  },
  {
   "cell_type": "markdown",
   "metadata": {},
   "source": [
    "#### Features After Initial Cleansing"
   ]
  },
  {
   "cell_type": "code",
   "execution_count": 27,
   "metadata": {
    "collapsed": false
   },
   "outputs": [
    {
     "data": {
      "text/html": [
       "<ol class=list-inline>\n",
       "\t<li>\"emp_title\"</li>\n",
       "\t<li>\"annual_inc\"</li>\n",
       "\t<li>\"title\"</li>\n",
       "\t<li>\"delinq_2yrs\"</li>\n",
       "\t<li>\"inq_last_6mths\"</li>\n",
       "\t<li>\"mths_since_last_delinq\"</li>\n",
       "\t<li>\"mths_since_last_record\"</li>\n",
       "\t<li>\"open_acc\"</li>\n",
       "\t<li>\"pub_rec\"</li>\n",
       "\t<li>\"total_acc\"</li>\n",
       "\t<li>\"collections_12_mths_ex_med\"</li>\n",
       "\t<li>\"mths_since_last_major_derog\"</li>\n",
       "\t<li>\"acc_now_delinq\"</li>\n",
       "\t<li>\"tot_coll_amt\"</li>\n",
       "\t<li>\"tot_cur_bal\"</li>\n",
       "\t<li>\"total_rev_hi_lim\"</li>\n",
       "\t<li>\"acc_open_past_24mths\"</li>\n",
       "\t<li>\"avg_cur_bal\"</li>\n",
       "\t<li>\"bc_open_to_buy\"</li>\n",
       "\t<li>\"bc_util\"</li>\n",
       "\t<li>\"chargeoff_within_12_mths\"</li>\n",
       "\t<li>\"delinq_amnt\"</li>\n",
       "\t<li>\"mo_sin_old_il_acct\"</li>\n",
       "\t<li>\"mo_sin_old_rev_tl_op\"</li>\n",
       "\t<li>\"mo_sin_rcnt_rev_tl_op\"</li>\n",
       "\t<li>\"mo_sin_rcnt_tl\"</li>\n",
       "\t<li>\"mort_acc\"</li>\n",
       "\t<li>\"mths_since_recent_bc\"</li>\n",
       "\t<li>\"mths_since_recent_bc_dlq\"</li>\n",
       "\t<li>\"mths_since_recent_inq\"</li>\n",
       "\t<li>\"mths_since_recent_revol_delinq\"</li>\n",
       "\t<li>\"num_accts_ever_120_pd\"</li>\n",
       "\t<li>\"num_actv_bc_tl\"</li>\n",
       "\t<li>\"num_actv_rev_tl\"</li>\n",
       "\t<li>\"num_bc_sats\"</li>\n",
       "\t<li>\"num_bc_tl\"</li>\n",
       "\t<li>\"num_il_tl\"</li>\n",
       "\t<li>\"num_op_rev_tl\"</li>\n",
       "\t<li>\"num_rev_accts\"</li>\n",
       "\t<li>\"num_rev_tl_bal_gt_0\"</li>\n",
       "\t<li>\"num_sats\"</li>\n",
       "\t<li>\"num_tl_120dpd_2m\"</li>\n",
       "\t<li>\"num_tl_30dpd\"</li>\n",
       "\t<li>\"num_tl_90g_dpd_24m\"</li>\n",
       "\t<li>\"num_tl_op_past_12m\"</li>\n",
       "\t<li>\"pct_tl_nvr_dlq\"</li>\n",
       "\t<li>\"percent_bc_gt_75\"</li>\n",
       "\t<li>\"pub_rec_bankruptcies\"</li>\n",
       "\t<li>\"tax_liens\"</li>\n",
       "\t<li>\"tot_hi_cred_lim\"</li>\n",
       "\t<li>\"total_bal_ex_mort\"</li>\n",
       "\t<li>\"total_bc_limit\"</li>\n",
       "\t<li>\"total_il_high_credit_limit\"</li>\n",
       "\t<li>\"id\"</li>\n",
       "\t<li>\"member_id\"</li>\n",
       "\t<li>\"loan_amnt\"</li>\n",
       "\t<li>\"funded_amnt\"</li>\n",
       "\t<li>\"funded_amnt_inv\"</li>\n",
       "\t<li>\"term\"</li>\n",
       "\t<li>\"int_rate\"</li>\n",
       "\t<li>\"installment\"</li>\n",
       "\t<li>\"grade\"</li>\n",
       "\t<li>\"sub_grade\"</li>\n",
       "\t<li>\"emp_length\"</li>\n",
       "\t<li>\"home_ownership\"</li>\n",
       "\t<li>\"verification_status\"</li>\n",
       "\t<li>\"issue_d\"</li>\n",
       "\t<li>\"loan_status\"</li>\n",
       "\t<li>\"pymnt_plan\"</li>\n",
       "\t<li>\"url\"</li>\n",
       "\t<li>\"desc\"</li>\n",
       "\t<li>\"purpose\"</li>\n",
       "\t<li>\"zip_code\"</li>\n",
       "\t<li>\"addr_state\"</li>\n",
       "\t<li>\"dti\"</li>\n",
       "\t<li>\"earliest_cr_line\"</li>\n",
       "\t<li>\"fico_range_low\"</li>\n",
       "\t<li>\"fico_range_high\"</li>\n",
       "\t<li>\"revol_bal\"</li>\n",
       "\t<li>\"revol_util\"</li>\n",
       "\t<li>\"initial_list_status\"</li>\n",
       "\t<li>\"last_credit_pull_d\"</li>\n",
       "\t<li>\"last_fico_range_high\"</li>\n",
       "\t<li>\"last_fico_range_low\"</li>\n",
       "\t<li>\"policy_code\"</li>\n",
       "\t<li>\"application_type\"</li>\n",
       "\t<li>\"default\"</li>\n",
       "</ol>\n"
      ],
      "text/latex": [
       "\\begin{enumerate*}\n",
       "\\item \"emp\\_title\"\n",
       "\\item \"annual\\_inc\"\n",
       "\\item \"title\"\n",
       "\\item \"delinq\\_2yrs\"\n",
       "\\item \"inq\\_last\\_6mths\"\n",
       "\\item \"mths\\_since\\_last\\_delinq\"\n",
       "\\item \"mths\\_since\\_last\\_record\"\n",
       "\\item \"open\\_acc\"\n",
       "\\item \"pub\\_rec\"\n",
       "\\item \"total\\_acc\"\n",
       "\\item \"collections\\_12\\_mths\\_ex\\_med\"\n",
       "\\item \"mths\\_since\\_last\\_major\\_derog\"\n",
       "\\item \"acc\\_now\\_delinq\"\n",
       "\\item \"tot\\_coll\\_amt\"\n",
       "\\item \"tot\\_cur\\_bal\"\n",
       "\\item \"total\\_rev\\_hi\\_lim\"\n",
       "\\item \"acc\\_open\\_past\\_24mths\"\n",
       "\\item \"avg\\_cur\\_bal\"\n",
       "\\item \"bc\\_open\\_to\\_buy\"\n",
       "\\item \"bc\\_util\"\n",
       "\\item \"chargeoff\\_within\\_12\\_mths\"\n",
       "\\item \"delinq\\_amnt\"\n",
       "\\item \"mo\\_sin\\_old\\_il\\_acct\"\n",
       "\\item \"mo\\_sin\\_old\\_rev\\_tl\\_op\"\n",
       "\\item \"mo\\_sin\\_rcnt\\_rev\\_tl\\_op\"\n",
       "\\item \"mo\\_sin\\_rcnt\\_tl\"\n",
       "\\item \"mort\\_acc\"\n",
       "\\item \"mths\\_since\\_recent\\_bc\"\n",
       "\\item \"mths\\_since\\_recent\\_bc\\_dlq\"\n",
       "\\item \"mths\\_since\\_recent\\_inq\"\n",
       "\\item \"mths\\_since\\_recent\\_revol\\_delinq\"\n",
       "\\item \"num\\_accts\\_ever\\_120\\_pd\"\n",
       "\\item \"num\\_actv\\_bc\\_tl\"\n",
       "\\item \"num\\_actv\\_rev\\_tl\"\n",
       "\\item \"num\\_bc\\_sats\"\n",
       "\\item \"num\\_bc\\_tl\"\n",
       "\\item \"num\\_il\\_tl\"\n",
       "\\item \"num\\_op\\_rev\\_tl\"\n",
       "\\item \"num\\_rev\\_accts\"\n",
       "\\item \"num\\_rev\\_tl\\_bal\\_gt\\_0\"\n",
       "\\item \"num\\_sats\"\n",
       "\\item \"num\\_tl\\_120dpd\\_2m\"\n",
       "\\item \"num\\_tl\\_30dpd\"\n",
       "\\item \"num\\_tl\\_90g\\_dpd\\_24m\"\n",
       "\\item \"num\\_tl\\_op\\_past\\_12m\"\n",
       "\\item \"pct\\_tl\\_nvr\\_dlq\"\n",
       "\\item \"percent\\_bc\\_gt\\_75\"\n",
       "\\item \"pub\\_rec\\_bankruptcies\"\n",
       "\\item \"tax\\_liens\"\n",
       "\\item \"tot\\_hi\\_cred\\_lim\"\n",
       "\\item \"total\\_bal\\_ex\\_mort\"\n",
       "\\item \"total\\_bc\\_limit\"\n",
       "\\item \"total\\_il\\_high\\_credit\\_limit\"\n",
       "\\item \"id\"\n",
       "\\item \"member\\_id\"\n",
       "\\item \"loan\\_amnt\"\n",
       "\\item \"funded\\_amnt\"\n",
       "\\item \"funded\\_amnt\\_inv\"\n",
       "\\item \"term\"\n",
       "\\item \"int\\_rate\"\n",
       "\\item \"installment\"\n",
       "\\item \"grade\"\n",
       "\\item \"sub\\_grade\"\n",
       "\\item \"emp\\_length\"\n",
       "\\item \"home\\_ownership\"\n",
       "\\item \"verification\\_status\"\n",
       "\\item \"issue\\_d\"\n",
       "\\item \"loan\\_status\"\n",
       "\\item \"pymnt\\_plan\"\n",
       "\\item \"url\"\n",
       "\\item \"desc\"\n",
       "\\item \"purpose\"\n",
       "\\item \"zip\\_code\"\n",
       "\\item \"addr\\_state\"\n",
       "\\item \"dti\"\n",
       "\\item \"earliest\\_cr\\_line\"\n",
       "\\item \"fico\\_range\\_low\"\n",
       "\\item \"fico\\_range\\_high\"\n",
       "\\item \"revol\\_bal\"\n",
       "\\item \"revol\\_util\"\n",
       "\\item \"initial\\_list\\_status\"\n",
       "\\item \"last\\_credit\\_pull\\_d\"\n",
       "\\item \"last\\_fico\\_range\\_high\"\n",
       "\\item \"last\\_fico\\_range\\_low\"\n",
       "\\item \"policy\\_code\"\n",
       "\\item \"application\\_type\"\n",
       "\\item \"default\"\n",
       "\\end{enumerate*}\n"
      ],
      "text/markdown": [
       "1. \"emp_title\"\n",
       "2. \"annual_inc\"\n",
       "3. \"title\"\n",
       "4. \"delinq_2yrs\"\n",
       "5. \"inq_last_6mths\"\n",
       "6. \"mths_since_last_delinq\"\n",
       "7. \"mths_since_last_record\"\n",
       "8. \"open_acc\"\n",
       "9. \"pub_rec\"\n",
       "10. \"total_acc\"\n",
       "11. \"collections_12_mths_ex_med\"\n",
       "12. \"mths_since_last_major_derog\"\n",
       "13. \"acc_now_delinq\"\n",
       "14. \"tot_coll_amt\"\n",
       "15. \"tot_cur_bal\"\n",
       "16. \"total_rev_hi_lim\"\n",
       "17. \"acc_open_past_24mths\"\n",
       "18. \"avg_cur_bal\"\n",
       "19. \"bc_open_to_buy\"\n",
       "20. \"bc_util\"\n",
       "21. \"chargeoff_within_12_mths\"\n",
       "22. \"delinq_amnt\"\n",
       "23. \"mo_sin_old_il_acct\"\n",
       "24. \"mo_sin_old_rev_tl_op\"\n",
       "25. \"mo_sin_rcnt_rev_tl_op\"\n",
       "26. \"mo_sin_rcnt_tl\"\n",
       "27. \"mort_acc\"\n",
       "28. \"mths_since_recent_bc\"\n",
       "29. \"mths_since_recent_bc_dlq\"\n",
       "30. \"mths_since_recent_inq\"\n",
       "31. \"mths_since_recent_revol_delinq\"\n",
       "32. \"num_accts_ever_120_pd\"\n",
       "33. \"num_actv_bc_tl\"\n",
       "34. \"num_actv_rev_tl\"\n",
       "35. \"num_bc_sats\"\n",
       "36. \"num_bc_tl\"\n",
       "37. \"num_il_tl\"\n",
       "38. \"num_op_rev_tl\"\n",
       "39. \"num_rev_accts\"\n",
       "40. \"num_rev_tl_bal_gt_0\"\n",
       "41. \"num_sats\"\n",
       "42. \"num_tl_120dpd_2m\"\n",
       "43. \"num_tl_30dpd\"\n",
       "44. \"num_tl_90g_dpd_24m\"\n",
       "45. \"num_tl_op_past_12m\"\n",
       "46. \"pct_tl_nvr_dlq\"\n",
       "47. \"percent_bc_gt_75\"\n",
       "48. \"pub_rec_bankruptcies\"\n",
       "49. \"tax_liens\"\n",
       "50. \"tot_hi_cred_lim\"\n",
       "51. \"total_bal_ex_mort\"\n",
       "52. \"total_bc_limit\"\n",
       "53. \"total_il_high_credit_limit\"\n",
       "54. \"id\"\n",
       "55. \"member_id\"\n",
       "56. \"loan_amnt\"\n",
       "57. \"funded_amnt\"\n",
       "58. \"funded_amnt_inv\"\n",
       "59. \"term\"\n",
       "60. \"int_rate\"\n",
       "61. \"installment\"\n",
       "62. \"grade\"\n",
       "63. \"sub_grade\"\n",
       "64. \"emp_length\"\n",
       "65. \"home_ownership\"\n",
       "66. \"verification_status\"\n",
       "67. \"issue_d\"\n",
       "68. \"loan_status\"\n",
       "69. \"pymnt_plan\"\n",
       "70. \"url\"\n",
       "71. \"desc\"\n",
       "72. \"purpose\"\n",
       "73. \"zip_code\"\n",
       "74. \"addr_state\"\n",
       "75. \"dti\"\n",
       "76. \"earliest_cr_line\"\n",
       "77. \"fico_range_low\"\n",
       "78. \"fico_range_high\"\n",
       "79. \"revol_bal\"\n",
       "80. \"revol_util\"\n",
       "81. \"initial_list_status\"\n",
       "82. \"last_credit_pull_d\"\n",
       "83. \"last_fico_range_high\"\n",
       "84. \"last_fico_range_low\"\n",
       "85. \"policy_code\"\n",
       "86. \"application_type\"\n",
       "87. \"default\"\n",
       "\n",
       "\n"
      ],
      "text/plain": [
       " [1] \"emp_title\"                      \"annual_inc\"                    \n",
       " [3] \"title\"                          \"delinq_2yrs\"                   \n",
       " [5] \"inq_last_6mths\"                 \"mths_since_last_delinq\"        \n",
       " [7] \"mths_since_last_record\"         \"open_acc\"                      \n",
       " [9] \"pub_rec\"                        \"total_acc\"                     \n",
       "[11] \"collections_12_mths_ex_med\"     \"mths_since_last_major_derog\"   \n",
       "[13] \"acc_now_delinq\"                 \"tot_coll_amt\"                  \n",
       "[15] \"tot_cur_bal\"                    \"total_rev_hi_lim\"              \n",
       "[17] \"acc_open_past_24mths\"           \"avg_cur_bal\"                   \n",
       "[19] \"bc_open_to_buy\"                 \"bc_util\"                       \n",
       "[21] \"chargeoff_within_12_mths\"       \"delinq_amnt\"                   \n",
       "[23] \"mo_sin_old_il_acct\"             \"mo_sin_old_rev_tl_op\"          \n",
       "[25] \"mo_sin_rcnt_rev_tl_op\"          \"mo_sin_rcnt_tl\"                \n",
       "[27] \"mort_acc\"                       \"mths_since_recent_bc\"          \n",
       "[29] \"mths_since_recent_bc_dlq\"       \"mths_since_recent_inq\"         \n",
       "[31] \"mths_since_recent_revol_delinq\" \"num_accts_ever_120_pd\"         \n",
       "[33] \"num_actv_bc_tl\"                 \"num_actv_rev_tl\"               \n",
       "[35] \"num_bc_sats\"                    \"num_bc_tl\"                     \n",
       "[37] \"num_il_tl\"                      \"num_op_rev_tl\"                 \n",
       "[39] \"num_rev_accts\"                  \"num_rev_tl_bal_gt_0\"           \n",
       "[41] \"num_sats\"                       \"num_tl_120dpd_2m\"              \n",
       "[43] \"num_tl_30dpd\"                   \"num_tl_90g_dpd_24m\"            \n",
       "[45] \"num_tl_op_past_12m\"             \"pct_tl_nvr_dlq\"                \n",
       "[47] \"percent_bc_gt_75\"               \"pub_rec_bankruptcies\"          \n",
       "[49] \"tax_liens\"                      \"tot_hi_cred_lim\"               \n",
       "[51] \"total_bal_ex_mort\"              \"total_bc_limit\"                \n",
       "[53] \"total_il_high_credit_limit\"     \"id\"                            \n",
       "[55] \"member_id\"                      \"loan_amnt\"                     \n",
       "[57] \"funded_amnt\"                    \"funded_amnt_inv\"               \n",
       "[59] \"term\"                           \"int_rate\"                      \n",
       "[61] \"installment\"                    \"grade\"                         \n",
       "[63] \"sub_grade\"                      \"emp_length\"                    \n",
       "[65] \"home_ownership\"                 \"verification_status\"           \n",
       "[67] \"issue_d\"                        \"loan_status\"                   \n",
       "[69] \"pymnt_plan\"                     \"url\"                           \n",
       "[71] \"desc\"                           \"purpose\"                       \n",
       "[73] \"zip_code\"                       \"addr_state\"                    \n",
       "[75] \"dti\"                            \"earliest_cr_line\"              \n",
       "[77] \"fico_range_low\"                 \"fico_range_high\"               \n",
       "[79] \"revol_bal\"                      \"revol_util\"                    \n",
       "[81] \"initial_list_status\"            \"last_credit_pull_d\"            \n",
       "[83] \"last_fico_range_high\"           \"last_fico_range_low\"           \n",
       "[85] \"policy_code\"                    \"application_type\"              \n",
       "[87] \"default\"                       "
      ]
     },
     "metadata": {},
     "output_type": "display_data"
    }
   ],
   "source": [
    "# columns/features in dataset\n",
    "colnames(lending_club_final)"
   ]
  },
  {
   "cell_type": "markdown",
   "metadata": {},
   "source": [
    "From looking at the variables, intuitively I would guess the following are significant:\n",
    "1. int_rate: Interest rate\n",
    "2. emp_length: Employment length in years. The longer the period of employment the more stable the income.\n",
    "3. loan_amnt: The loan amount. The larger the loan the more difficult to pay off. \n",
    "4. annual_inc: Annual income. \n",
    "5. delinq_2yrs: The number of 30+ days past-due incidences of delinquency in the borrower's credit file for the past 2 years. This gives some insight as to the borrower's reliability.\n",
    "6. fico_range_low: The lower boundary range the borrower’s last FICO pulled belongs to. Credit score is very important.\n",
    "7. fico_range_high: The upper boundary range the borrower’s last FICO pulled belongs to. Credit score is very important.\n",
    "8. dti: Debt to income ratio. The higher the ratio, the more likely the borrower is to default.\n",
    "9. last_fico_range_high: The upper boundary range the borrower’s last FICO pulled belongs to. \n",
    "10. last_fico_range_low: The lower boundary range the borrower’s last FICO pulled belongs to.\n",
    "\n",
    "In the next section, each of the features above will compared to default for correlation. \n",
    "\n",
    "Please note, for a full description of all of the features in this dataset please refer to Appendix A. "
   ]
  },
  {
   "cell_type": "markdown",
   "metadata": {},
   "source": [
    "##### int_rate"
   ]
  },
  {
   "cell_type": "code",
   "execution_count": 28,
   "metadata": {
    "collapsed": false
   },
   "outputs": [
    {
     "data": {},
     "metadata": {},
     "output_type": "display_data"
    },
    {
     "data": {
      "image/png": "[encoded data removed]",
      "text/plain": [
       "plot without title"
      ]
     },
     "metadata": {},
     "output_type": "display_data"
    }
   ],
   "source": [
    "library(ggplot2)\n",
    "ggplot(lending_club_final, aes(as.factor(default), as.double(int_rate))) + geom_boxplot() +\n",
    "labs(title=\"Loan Amount vs. Interest Rate\", x=\"default status\", y=\"interest rate\")"
   ]
  },
  {
   "cell_type": "markdown",
   "metadata": {},
   "source": [
    "As can be seen from the boxplot above, default is more likely among higher interest rates. This is as expected."
   ]
  },
  {
   "cell_type": "markdown",
   "metadata": {},
   "source": [
    "##### emp_length"
   ]
  },
  {
   "cell_type": "code",
   "execution_count": 29,
   "metadata": {
    "collapsed": false
   },
   "outputs": [
    {
     "name": "stdout",
     "output_type": "stream",
     "text": [
      "\n",
      " \n",
      "   Cell Contents\n",
      "|-------------------------|\n",
      "|                       N |\n",
      "|           N / Row Total |\n",
      "|           N / Col Total |\n",
      "|         N / Table Total |\n",
      "|-------------------------|\n",
      "\n",
      " \n",
      "Total Observations in Table:  119273 \n",
      "\n",
      " \n",
      "                  | default.factor \n",
      "emp_length.factor |         0 |         1 | Row Total | \n",
      "------------------|-----------|-----------|-----------|\n",
      "         < 1 year |      9815 |      1669 |     11484 | \n",
      "                  |     0.855 |     0.145 |     0.096 | \n",
      "                  |     0.096 |     0.097 |           | \n",
      "                  |     0.082 |     0.014 |           | \n",
      "------------------|-----------|-----------|-----------|\n",
      "           1 year |      7710 |      1267 |      8977 | \n",
      "                  |     0.859 |     0.141 |     0.075 | \n",
      "                  |     0.075 |     0.074 |           | \n",
      "                  |     0.065 |     0.011 |           | \n",
      "------------------|-----------|-----------|-----------|\n",
      "        10+ years |     25854 |      4320 |     30174 | \n",
      "                  |     0.857 |     0.143 |     0.253 | \n",
      "                  |     0.253 |     0.252 |           | \n",
      "                  |     0.217 |     0.036 |           | \n",
      "------------------|-----------|-----------|-----------|\n",
      "          2 years |     10407 |      1638 |     12045 | \n",
      "                  |     0.864 |     0.136 |     0.101 | \n",
      "                  |     0.102 |     0.096 |           | \n",
      "                  |     0.087 |     0.014 |           | \n",
      "------------------|-----------|-----------|-----------|\n",
      "          3 years |      9085 |      1528 |     10613 | \n",
      "                  |     0.856 |     0.144 |     0.089 | \n",
      "                  |     0.089 |     0.089 |           | \n",
      "                  |     0.076 |     0.013 |           | \n",
      "------------------|-----------|-----------|-----------|\n",
      "          4 years |      8247 |      1311 |      9558 | \n",
      "                  |     0.863 |     0.137 |     0.080 | \n",
      "                  |     0.081 |     0.076 |           | \n",
      "                  |     0.069 |     0.011 |           | \n",
      "------------------|-----------|-----------|-----------|\n",
      "          5 years |      8592 |      1415 |     10007 | \n",
      "                  |     0.859 |     0.141 |     0.084 | \n",
      "                  |     0.084 |     0.083 |           | \n",
      "                  |     0.072 |     0.012 |           | \n",
      "------------------|-----------|-----------|-----------|\n",
      "          6 years |      6550 |      1084 |      7634 | \n",
      "                  |     0.858 |     0.142 |     0.064 | \n",
      "                  |     0.064 |     0.063 |           | \n",
      "                  |     0.055 |     0.009 |           | \n",
      "------------------|-----------|-----------|-----------|\n",
      "          7 years |      5133 |       910 |      6043 | \n",
      "                  |     0.849 |     0.151 |     0.051 | \n",
      "                  |     0.050 |     0.053 |           | \n",
      "                  |     0.043 |     0.008 |           | \n",
      "------------------|-----------|-----------|-----------|\n",
      "          8 years |      4114 |       681 |      4795 | \n",
      "                  |     0.858 |     0.142 |     0.040 | \n",
      "                  |     0.040 |     0.040 |           | \n",
      "                  |     0.034 |     0.006 |           | \n",
      "------------------|-----------|-----------|-----------|\n",
      "          9 years |      3400 |       524 |      3924 | \n",
      "                  |     0.866 |     0.134 |     0.033 | \n",
      "                  |     0.033 |     0.031 |           | \n",
      "                  |     0.029 |     0.004 |           | \n",
      "------------------|-----------|-----------|-----------|\n",
      "              n/a |      3224 |       795 |      4019 | \n",
      "                  |     0.802 |     0.198 |     0.034 | \n",
      "                  |     0.032 |     0.046 |           | \n",
      "                  |     0.027 |     0.007 |           | \n",
      "------------------|-----------|-----------|-----------|\n",
      "     Column Total |    102131 |     17142 |    119273 | \n",
      "                  |     0.856 |     0.144 |           | \n",
      "------------------|-----------|-----------|-----------|\n",
      "\n",
      " \n"
     ]
    },
    {
     "data": {
      "image/png": "[encoded data removed]",
      "text/plain": [
       "plot without title"
      ]
     },
     "metadata": {},
     "output_type": "display_data"
    }
   ],
   "source": [
    "#install.packages(\"gmodels\", repos='http://cran.us.r-project.org',dependencies = TRUE)\n",
    "library(gmodels)\n",
    "\n",
    "emp_length.factor <- lending_club_final$emp_length\n",
    "default.factor <- as.factor(lending_club_final$default)\n",
    "\n",
    "emp_length.levels <- levels(emp_length.factor)\n",
    "emp_length.levels <- emp_length.levels[2:nlevels(lending_club_final$emp_length)]\n",
    "emp_length.len <- length(emp_length.levels)\n",
    "\n",
    "joint <- CrossTable(emp_length.factor, default.factor, prop.chisq=FALSE)\n",
    "joint_counts <- joint$prop.col\n",
    "barplot(joint_counts, beside=TRUE, ylab=\"proportion\", xlab=\"default status\", col=rainbow(emp_length.len))\n",
    "legend(\"topright\", emp_length.levels, pch=15, col=rainbow(emp_length.len))"
   ]
  },
  {
   "cell_type": "markdown",
   "metadata": {},
   "source": [
    "As can be seen from the diagram above, the distribution of loans by employment length is essentially the same for those who defaulted and those who did not. Therefore, emp_lengh does not have much of a bearing in whether a borrower is likely or not to default."
   ]
  },
  {
   "cell_type": "markdown",
   "metadata": {},
   "source": [
    "##### Loan Amount (loan_amnt)"
   ]
  },
  {
   "cell_type": "code",
   "execution_count": 30,
   "metadata": {
    "collapsed": false
   },
   "outputs": [
    {
     "data": {},
     "metadata": {},
     "output_type": "display_data"
    },
    {
     "data": {
      "image/png": "[encoded data removed]",
      "text/plain": [
       "plot without title"
      ]
     },
     "metadata": {},
     "output_type": "display_data"
    }
   ],
   "source": [
    "ggplot(lending_club_final, aes(as.factor(default), loan_amnt)) + geom_boxplot() +\n",
    "labs(title=\"Loan Amount vs. Default Status\", x=\"default status\", y=\"loan amount\")"
   ]
  },
  {
   "cell_type": "markdown",
   "metadata": {},
   "source": [
    "As can be seen from the boxplot above, the loan amount has little bearing on whether or not a borrower is going to default."
   ]
  },
  {
   "cell_type": "markdown",
   "metadata": {},
   "source": [
    "##### Annual Income (annual_inc)"
   ]
  },
  {
   "cell_type": "code",
   "execution_count": 31,
   "metadata": {
    "collapsed": false
   },
   "outputs": [
    {
     "data": {},
     "metadata": {},
     "output_type": "display_data"
    },
    {
     "data": {
      "image/png": "[encoded data removed]",
      "text/plain": [
       "plot without title"
      ]
     },
     "metadata": {},
     "output_type": "display_data"
    }
   ],
   "source": [
    "ggplot(lending_club_final, aes(as.factor(default), annual_inc)) + geom_boxplot()"
   ]
  },
  {
   "cell_type": "markdown",
   "metadata": {},
   "source": [
    "The boxplot is not visible due to extreme outliers. I will redo boxplot without outliers. "
   ]
  },
  {
   "cell_type": "code",
   "execution_count": 32,
   "metadata": {
    "collapsed": false
   },
   "outputs": [
    {
     "data": {
      "text/plain": [
       "   Min. 1st Qu.  Median    Mean 3rd Qu.    Max. \n",
       "   1896   41000   60000   68910   83000 7142000 "
      ]
     },
     "metadata": {},
     "output_type": "display_data"
    }
   ],
   "source": [
    "summary(lending_club_final$annual_inc)"
   ]
  },
  {
   "cell_type": "markdown",
   "metadata": {},
   "source": [
    "The outlier problem is further illustrated by the summary table above. The minimum annual income is \\$1896 and the maximum is $7,142,000.  That's a range of over 7 million!"
   ]
  },
  {
   "cell_type": "code",
   "execution_count": 33,
   "metadata": {
    "collapsed": false
   },
   "outputs": [
    {
     "data": {
      "image/png": "[encoded data removed]",
      "text/plain": [
       "Plot with title \"Annual Income vs. Default Status\""
      ]
     },
     "metadata": {},
     "output_type": "display_data"
    }
   ],
   "source": [
    "boxplot(annual_inc~as.factor(default),outline=FALSE, data=lending_club_final, ylab=\"annual income\", xlab=\"default status\")\n",
    "title(\"Annual Income vs. Default Status\")"
   ]
  },
  {
   "cell_type": "markdown",
   "metadata": {},
   "source": [
    "From the boxplot above we can see that those who defaulted were more likely to have a lower income. This is as expected."
   ]
  },
  {
   "cell_type": "markdown",
   "metadata": {},
   "source": [
    "##### Number of delinquencies in the last 2 years (delinq_2yrs)"
   ]
  },
  {
   "cell_type": "code",
   "execution_count": 34,
   "metadata": {
    "collapsed": false
   },
   "outputs": [
    {
     "data": {
      "text/plain": [
       "   Min. 1st Qu.  Median    Mean 3rd Qu.    Max. \n",
       " 0.0000  0.0000  0.0000  0.1726  0.0000 18.0000 "
      ]
     },
     "metadata": {},
     "output_type": "display_data"
    },
    {
     "data": {
      "text/plain": [
       "                   default\n",
       "delinq_2yrs                    0            1\n",
       "  0                 8.803595e-01 8.683351e-01\n",
       "  0.172637616987018 2.545750e-04 1.750088e-04\n",
       "  1                 8.836690e-02 9.555478e-02\n",
       "  2                 2.057162e-02 2.356785e-02\n",
       "  3                 6.325210e-03 7.058686e-03\n",
       "  4                 2.065974e-03 2.800140e-03\n",
       "  5                 1.047674e-03 1.166725e-03\n",
       "  6                 4.601933e-04 5.250263e-04\n",
       "  7                 2.545750e-04 3.500175e-04\n",
       "  8                 6.853942e-05 1.750088e-04\n",
       "  9                 8.812212e-05 0.000000e+00\n",
       "  10                3.916539e-05 5.833625e-05\n",
       "  11                4.895673e-05 1.750088e-04\n",
       "  12                1.958269e-05 0.000000e+00\n",
       "  13                1.958269e-05 0.000000e+00\n",
       "  14                0.000000e+00 5.833625e-05\n",
       "  18                9.791346e-06 0.000000e+00"
      ]
     },
     "metadata": {},
     "output_type": "display_data"
    },
    {
     "data": {
      "text/plain": [
       "$`0`\n",
       "   vars      n mean   sd median trimmed mad min max range skew kurtosis se\n",
       "X1    1 102131 0.17 0.56      0    0.02   0   0  18    18 5.83    61.53  0\n",
       "\n",
       "$`1`\n",
       "   vars     n mean   sd median trimmed mad min max range skew kurtosis se\n",
       "X1    1 17142 0.19 0.61      0    0.04   0   0  14    14 5.85    60.48  0\n",
       "\n",
       "attr(,\"call\")\n",
       "by.default(data = x, INDICES = group, FUN = describe, type = type)"
      ]
     },
     "metadata": {},
     "output_type": "display_data"
    },
    {
     "data": {},
     "metadata": {},
     "output_type": "display_data"
    },
    {
     "data": {
      "image/png": "[encoded data removed]",
      "text/plain": [
       "plot without title"
      ]
     },
     "metadata": {},
     "output_type": "display_data"
    }
   ],
   "source": [
    "summary(lending_club_final$delinq_2yrs)\n",
    "delinq_2.table <- table(delinq_2yrs=lending_club_final$delinq_2yrs,default=as.factor(lending_club_final$default))\n",
    "prop.table(delinq_2.table,2)\n",
    "\n",
    "#install.packages(\"psych\", repos='http://cran.us.r-project.org',dependencies = TRUE)\n",
    "#library(psych)\n",
    "describeBy(lending_club_final$delinq_2yrs, as.factor(lending_club_final$default))\n",
    "\n",
    "#library(lattice)\n",
    "stripplot(lending_club_final$delinq_2yrs~as.factor(lending_club_final$default), jitter=TRUE, \n",
    "          main=\"Delinq. 2 Years vs. Default Status\", xlab=\"default status\", ylab=\"delinq_2yrs\")"
   ]
  },
  {
   "cell_type": "markdown",
   "metadata": {},
   "source": [
    "The distributions for the number of delinquencies in the last 2 years by default status are very similar. Number of delinquencies has little bearing on default status. "
   ]
  },
  {
   "cell_type": "markdown",
   "metadata": {},
   "source": [
    "##### fico_range_low"
   ]
  },
  {
   "cell_type": "code",
   "execution_count": 35,
   "metadata": {
    "collapsed": false
   },
   "outputs": [
    {
     "data": {
      "text/plain": [
       "$`0`\n",
       "   vars      n   mean    sd median trimmed   mad min max range skew kurtosis\n",
       "X1    1 102131 708.85 35.12    700  705.68 37.06 610 845   235 0.74    -0.06\n",
       "     se\n",
       "X1 0.11\n",
       "\n",
       "$`1`\n",
       "   vars     n   mean    sd median trimmed   mad min max range skew kurtosis\n",
       "X1    1 17142 696.79 30.01    690  693.48 29.65 615 825   210 0.96     0.64\n",
       "     se\n",
       "X1 0.23\n",
       "\n",
       "attr(,\"call\")\n",
       "by.default(data = x, INDICES = group, FUN = describe, type = type)"
      ]
     },
     "metadata": {},
     "output_type": "display_data"
    },
    {
     "data": {},
     "metadata": {},
     "output_type": "display_data"
    },
    {
     "data": {
      "image/png": "[encoded data removed]",
      "text/plain": [
       "plot without title"
      ]
     },
     "metadata": {},
     "output_type": "display_data"
    }
   ],
   "source": [
    "describeBy(lending_club_final$fico_range_low, as.factor(lending_club_final$default))\n",
    "ggplot(lending_club_final, aes(as.factor(default), fico_range_low)) + geom_boxplot() +\n",
    "    labs(title=\"FICO Range Low vs. Default Status\", x=\"default status\", y=\"FICO range low\")"
   ]
  },
  {
   "cell_type": "markdown",
   "metadata": {},
   "source": [
    "From the boxplots we can see that those who defaulted were more likely to have a lower fico_range_low. This is as expected."
   ]
  },
  {
   "cell_type": "markdown",
   "metadata": {},
   "source": [
    "##### fico_range_high"
   ]
  },
  {
   "cell_type": "code",
   "execution_count": 36,
   "metadata": {
    "collapsed": false
   },
   "outputs": [
    {
     "data": {
      "text/plain": [
       "$`0`\n",
       "   vars      n   mean    sd median trimmed   mad min max range skew kurtosis\n",
       "X1    1 102131 712.85 35.12    704  709.68 37.06 614 850   236 0.74    -0.06\n",
       "     se\n",
       "X1 0.11\n",
       "\n",
       "$`1`\n",
       "   vars     n   mean    sd median trimmed   mad min max range skew kurtosis\n",
       "X1    1 17142 700.79 30.01    694  697.48 29.65 619 829   210 0.96     0.64\n",
       "     se\n",
       "X1 0.23\n",
       "\n",
       "attr(,\"call\")\n",
       "by.default(data = x, INDICES = group, FUN = describe, type = type)"
      ]
     },
     "metadata": {},
     "output_type": "display_data"
    },
    {
     "data": {},
     "metadata": {},
     "output_type": "display_data"
    },
    {
     "data": {
      "image/png": "[encoded data removed]",
      "text/plain": [
       "plot without title"
      ]
     },
     "metadata": {},
     "output_type": "display_data"
    }
   ],
   "source": [
    "describeBy(lending_club_final$fico_range_high, as.factor(lending_club_final$default))\n",
    "ggplot(lending_club_final, aes(as.factor(default), fico_range_high)) + geom_boxplot() +\n",
    "    labs(title=\"FICO Range High vs. Default Status\", x=\"default status\", y=\"FICO range high\")"
   ]
  },
  {
   "cell_type": "markdown",
   "metadata": {},
   "source": [
    "From the boxplots we can see that those who defaulted were more likely to have a lower fico_range_high. This is as expected."
   ]
  },
  {
   "cell_type": "markdown",
   "metadata": {},
   "source": [
    "##### Debt-to-Income Ratio (dti)"
   ]
  },
  {
   "cell_type": "code",
   "execution_count": 37,
   "metadata": {
    "collapsed": false
   },
   "outputs": [
    {
     "data": {
      "text/plain": [
       "$`0`\n",
       "   vars      n  mean   sd median trimmed  mad min   max range skew kurtosis\n",
       "X1    1 102131 14.82 7.31  14.65   14.69 8.02   0 34.99 34.99 0.16    -0.54\n",
       "     se\n",
       "X1 0.02\n",
       "\n",
       "$`1`\n",
       "   vars     n  mean   sd median trimmed  mad min   max range skew kurtosis   se\n",
       "X1    1 17142 15.77 7.32  15.86   15.74 7.84   0 34.95 34.95 0.05    -0.51 0.06\n",
       "\n",
       "attr(,\"call\")\n",
       "by.default(data = x, INDICES = group, FUN = describe, type = type)"
      ]
     },
     "metadata": {},
     "output_type": "display_data"
    },
    {
     "data": {},
     "metadata": {},
     "output_type": "display_data"
    },
    {
     "data": {
      "image/png": "[encoded data removed]",
      "text/plain": [
       "plot without title"
      ]
     },
     "metadata": {},
     "output_type": "display_data"
    }
   ],
   "source": [
    "describeBy(lending_club_final$dti, as.factor(lending_club_final$default))\n",
    "\n",
    "ggplot(lending_club_final, aes(as.factor(default), dti)) + geom_boxplot() +\n",
    "    labs(title=\"DTI Ratio vs. Default Status\", x=\"default status\", y=\"dti\")"
   ]
  },
  {
   "cell_type": "markdown",
   "metadata": {},
   "source": [
    "The boxplots above demonstrate that those who defaulted were more likely have a higher DTI (Debt-to-Income) ratio. This is as expected."
   ]
  },
  {
   "cell_type": "markdown",
   "metadata": {},
   "source": [
    "##### last_fico_range_high"
   ]
  },
  {
   "cell_type": "code",
   "execution_count": 38,
   "metadata": {
    "collapsed": false
   },
   "outputs": [
    {
     "data": {
      "text/plain": [
       "$`0`\n",
       "   vars      n   mean    sd median trimmed  mad min max range  skew kurtosis\n",
       "X1    1 102131 704.46 68.25    709   708.9 59.3   0 850   850 -1.36     8.83\n",
       "     se\n",
       "X1 0.21\n",
       "\n",
       "$`1`\n",
       "   vars     n   mean    sd median trimmed   mad min max range  skew kurtosis\n",
       "X1    1 17142 590.82 58.71    594  590.24 66.72   0 850   850 -0.04     0.53\n",
       "     se\n",
       "X1 0.45\n",
       "\n",
       "attr(,\"call\")\n",
       "by.default(data = x, INDICES = group, FUN = describe, type = type)"
      ]
     },
     "metadata": {},
     "output_type": "display_data"
    },
    {
     "data": {},
     "metadata": {},
     "output_type": "display_data"
    },
    {
     "data": {
      "image/png": "[encoded data removed]",
      "text/plain": [
       "plot without title"
      ]
     },
     "metadata": {},
     "output_type": "display_data"
    }
   ],
   "source": [
    "describeBy(lending_club_final$last_fico_range_high, as.factor(lending_club_final$default))\n",
    "\n",
    "ggplot(lending_club_final, aes(as.factor(default), last_fico_range_high)) + geom_boxplot() +\n",
    "    labs(title=\"Last FICO Range High vs. Default Status\", x=\"default status\", y=\"last_fico_range_high\")"
   ]
  },
  {
   "cell_type": "markdown",
   "metadata": {},
   "source": [
    "As expected borrowers who default are more likely to have a lower low range FICO score. The interesting thing about this feature is that it seems to have a much larger impact on default status than the other low range FICO score (fico_range_low) and all other features examined so far. I imagine this is becuase last_fico_range_low is a more recent FICO score and better reflects the borrowers current financial situation."
   ]
  },
  {
   "cell_type": "markdown",
   "metadata": {},
   "source": [
    "##### last_fico_range_low"
   ]
  },
  {
   "cell_type": "code",
   "execution_count": 39,
   "metadata": {
    "collapsed": false
   },
   "outputs": [
    {
     "data": {
      "text/plain": [
       "$`0`\n",
       "   vars      n   mean    sd median trimmed  mad min max range skew kurtosis\n",
       "X1    1 102131 698.19 81.92    705   704.9 59.3   0 845   845 -3.5    26.62\n",
       "     se\n",
       "X1 0.26\n",
       "\n",
       "$`1`\n",
       "   vars     n   mean     sd median trimmed   mad min max range  skew kurtosis\n",
       "X1    1 17142 543.68 175.68    590  586.24 66.72   0 845   845 -2.49     5.08\n",
       "     se\n",
       "X1 1.34\n",
       "\n",
       "attr(,\"call\")\n",
       "by.default(data = x, INDICES = group, FUN = describe, type = type)"
      ]
     },
     "metadata": {},
     "output_type": "display_data"
    },
    {
     "data": {},
     "metadata": {},
     "output_type": "display_data"
    },
    {
     "data": {
      "image/png": "[encoded data removed]",
      "text/plain": [
       "plot without title"
      ]
     },
     "metadata": {},
     "output_type": "display_data"
    }
   ],
   "source": [
    "describeBy(lending_club_final$last_fico_range_low, as.factor(lending_club_final$default))\n",
    "\n",
    "ggplot(lending_club_final, aes(as.factor(default), last_fico_range_low)) + geom_boxplot() +\n",
    "    labs(title=\"Last FICO Range Low vs. Default Status\", x=\"default status\", y=\"last_fico_range_low\")"
   ]
  },
  {
   "cell_type": "markdown",
   "metadata": {},
   "source": [
    "As expected having a lower, high range recent FICO score is more likely among borrowers who default. Again similar to last_fico_range_high, last_fico_range_low has a significant impact on whether the borrower is likel to default for similar reasons."
   ]
  },
  {
   "cell_type": "markdown",
   "metadata": {},
   "source": [
    "#### Converting Data Types\n",
    "Some data types are not accepted by various machine learning algorithms. Some of them are converted here. "
   ]
  },
  {
   "cell_type": "code",
   "execution_count": 40,
   "metadata": {
    "collapsed": false
   },
   "outputs": [],
   "source": [
    "# convert issue_d to POSIX because as factors they have too many levels!\n",
    "lending_club_final$issue_d <- as.vector(sapply(lending_club_final$issue_d, function(x) paste0(x,\"-01\")))\n",
    "lending_club_final$issue_d <- as.Date(lending_club_final$issue_d,\"%b-%Y-%d\")\n",
    "lending_club_final$issue_d <- as.numeric(as.POSIXct(lending_club_final$issue_d, format=\"%Y-b%-%d\"))\n",
    "\n",
    "# convert int_rate to numeric\n",
    "lending_club_final$int_rate <- as.character(lending_club_final$int_rate)\n",
    "lending_club_final$int_rate <- as.numeric(substr(lending_club_final$int_rate,1,nchar(lending_club_final$int_rate)-1))\n",
    " \n",
    "# convert earliest_cr_line to POSIX\n",
    "lending_club_final$earliest_cr_line <- as.vector(sapply(lending_club_final$earliest_cr_line, function(x) paste0(x,\"-01\")))\n",
    "lending_club_final$earliest_cr_line <- as.Date(lending_club_final$earliest_cr_line,\"%b-%Y-%d\")\n",
    "lending_club_final$earliest_cr_line <- as.numeric(as.POSIXct(lending_club_final$earliest_cr_line, format=\"%Y-b%-%d\"))    \n",
    "\n",
    "# convert revol_util to numeric\n",
    "lending_club_final$revol_util <- as.character(lending_club_final$revol_util)\n",
    "lending_club_final$revol_util <- as.numeric(substr(lending_club_final$revol_util,1,nchar(lending_club_final$revol_util)-1))\n",
    "\n",
    "# convert last_credit_pull_d to POSIX because as factors they have too many levels!\n",
    "lending_club_final$last_credit_pull_d <- as.vector(sapply(lending_club_final$last_credit_pull_d, function(x) paste0(x,\"-01\")))\n",
    "lending_club_final$last_credit_pull_d <- as.Date(lending_club_final$last_credit_pull_d,\"%b-%Y-%d\")\n",
    "lending_club_final$last_credit_pull_d <- as.numeric(as.POSIXct(lending_club_final$last_credit_pull_d, format=\"%Y-b%-%d\"))\n",
    "        \n",
    "# remove useless variables\n",
    "to_remove <- c(\"url\",\"desc\",\"title\",\"emp_title\",\"id\",\"loan_status\",\"zip_code\")\n",
    "lending_club_final <- lending_club_final[ , !(names(lending_club_final) %in% to_remove)]"
   ]
  },
  {
   "cell_type": "markdown",
   "metadata": {},
   "source": [
    "#### Remove incomplete records\n",
    "Incomplete records should be removed as long as they are a small portion of the data set < 3%"
   ]
  },
  {
   "cell_type": "code",
   "execution_count": 41,
   "metadata": {
    "collapsed": false
   },
   "outputs": [
    {
     "name": "stdout",
     "output_type": "stream",
     "text": [
      "[1] 0.001224083\n"
     ]
    }
   ],
   "source": [
    "nrows <- nrow(lending_club_final)\n",
    "ncomplete <- sum(complete.cases(lending_club_final))\n",
    "print(1-(ncomplete/nrows))"
   ]
  },
  {
   "cell_type": "markdown",
   "metadata": {},
   "source": [
    "Since incomplete rows represent < 3% of data set, remove them. "
   ]
  },
  {
   "cell_type": "markdown",
   "metadata": {},
   "source": [
    "#### Number of records after incomplete records removed"
   ]
  },
  {
   "cell_type": "code",
   "execution_count": 42,
   "metadata": {
    "collapsed": false
   },
   "outputs": [
    {
     "data": {
      "text/html": [
       "119127"
      ],
      "text/latex": [
       "119127"
      ],
      "text/markdown": [
       "119127"
      ],
      "text/plain": [
       "[1] 119127"
      ]
     },
     "metadata": {},
     "output_type": "display_data"
    }
   ],
   "source": [
    "lending_club_final <- lending_club_final[complete.cases(lending_club_final),]\n",
    "\n",
    "# how many records in data set so far\n",
    "lcf_before_na_rm <- nrow(lending_club_final)\n",
    "lcf_before_na_rm"
   ]
  },
  {
   "cell_type": "markdown",
   "metadata": {},
   "source": [
    "#### Correlation Analysis\n",
    "In this section I will find pair-wise correlations. Highly correlated features are redundant an can possibly diminish the performance of a prediction model."
   ]
  },
  {
   "cell_type": "code",
   "execution_count": 43,
   "metadata": {
    "collapsed": false,
    "scrolled": true
   },
   "outputs": [
    {
     "name": "stderr",
     "output_type": "stream",
     "text": [
      "Warning message:\n",
      "\"package 'corrplot' was built under R version 3.3.2\""
     ]
    },
    {
     "data": {
      "image/png": "[encoded data removed]",
      "text/plain": [
       "Plot with title \"\""
      ]
     },
     "metadata": {},
     "output_type": "display_data"
    }
   ],
   "source": [
    "lending_club_final_fact_as_num <- lending_club_final\n",
    "\n",
    "# change factor columns/ features to numeric\n",
    "indx <- sapply(lending_club_final_fact_as_num, is.factor)\n",
    "lending_club_final_fact_as_num[indx] <- lapply(lending_club_final_fact_as_num[indx], function(x) seq_along(levels(x))[x])\n",
    "\n",
    "# create subset of dataset with only numeric features    \n",
    "num_feat <- sapply(lending_club_final_fact_as_num, is.numeric)\n",
    "lending_club_final_num_only <- lending_club_final_fact_as_num[,num_feat] \n",
    "\n",
    "# eliminate columns/features which are all the same value\n",
    "unilength <- sapply(lending_club_final_num_only,function(x) length(unique(x)))\n",
    "lending_club_final_num_only <- subset(lending_club_final_num_only, select=unilength>1)\n",
    "    \n",
    "# calculate correlation matrix\n",
    "correlationMatrix <- cor(lending_club_final_num_only)\n",
    "\n",
    "# summarize the correlation matrix\n",
    "#print(correlationMatrix)\n",
    "\n",
    "# find features that are highly correlated\n",
    "highlyCorrelated <- findCorrelation(correlationMatrix, cutoff=0.6)\n",
    "highCorrelationMatrix <- correlationMatrix[highlyCorrelated,highlyCorrelated]\n",
    "\n",
    "# plot correlation of highly correlated features\n",
    "library(corrplot)\n",
    "corrplot(highCorrelationMatrix, method=\"circle\")"
   ]
  },
  {
   "cell_type": "markdown",
   "metadata": {},
   "source": [
    "#### Dataset Balance\n",
    "In this section I am going to check if the dataset is balanced. In other words, is the proportion of loans which defaulted similar to those who did not? People normally pay off their loans so the data should be unbalanced in favour of non-default.\n",
    "\n",
    "How many records per class? 0 = non-default, 1 = default"
   ]
  },
  {
   "cell_type": "code",
   "execution_count": 44,
   "metadata": {
    "collapsed": false
   },
   "outputs": [
    {
     "data": {
      "text/plain": [
       "\n",
       "     0      1 \n",
       "102021  17106 "
      ]
     },
     "metadata": {},
     "output_type": "display_data"
    }
   ],
   "source": [
    "table(lending_club_final$default)"
   ]
  },
  {
   "cell_type": "markdown",
   "metadata": {},
   "source": [
    "What is the proportion per class? 0 = non-default, 1 = default"
   ]
  },
  {
   "cell_type": "code",
   "execution_count": 45,
   "metadata": {
    "collapsed": false
   },
   "outputs": [
    {
     "data": {
      "text/plain": [
       "\n",
       "        0         1 \n",
       "0.8564053 0.1435947 "
      ]
     },
     "metadata": {},
     "output_type": "display_data"
    }
   ],
   "source": [
    "prop.table(table(lending_club_final$default))"
   ]
  },
  {
   "cell_type": "markdown",
   "metadata": {},
   "source": [
    "As we can see the dataset is unbalanced and will have to be balanced before creating our predictive models."
   ]
  },
  {
   "cell_type": "markdown",
   "metadata": {},
   "source": [
    "## Approach\n",
    "\n",
    "<img src=\"images/approach.png\" style=\"width: 800px;\"/>\n",
    "\n",
    "#### Step 1: Load, Cleanse and Balance\n",
    "Load dataset and perform initial cleansing.  Cleansing will entail removing features which only contain NA values, imputing values into features which have a large proportion of NA values, changing feature data types in order to perform correlation analysis. Imputing will be done by populating NA's with the column average. Finally, the dataset will tested for imbalance and corrected if necessary.\n",
    "\n",
    "#### Step 2: Feature Selection\n",
    "Determine which features are significant and which will be used in the predictive models. Some feature analysis will be performed in order to understand the data but Recursive Feature Elimination (RFE) will be relied upon to determine the optimal feature subset.\n",
    "\n",
    "#### Step 3: Create and Train Model\n",
    "Using the pruned dataset consisting of features determined from steps 1 and 2, create a test and training dataset.  Create predictive models on the training dataset for the following algorithms: Random Forests, Bagged Decision Trees, and Support Vector Machines (SVM). Note: Each model is created using the same training dataset.\n",
    "\n",
    "#### Step 4: Make Predictions\n",
    "Use the models on the test dataset and record the results.\n",
    "\n",
    "#### Step 5: Measure Performance\n",
    "This is a sub-step of step 5.  For each result set in step 5, measure the Percentage Correctly Classified (PCC), the area under a ROC curve (AUC), and accuracy, then compare the performance of each of the classification algorithms.\n",
    "\n",
    "#### Step 6: Causes of Default\n",
    "Using the knowledge gained from all of the previous steps, determine the causes of loan default."
   ]
  },
  {
   "cell_type": "markdown",
   "metadata": {},
   "source": [
    "## Predictive Models"
   ]
  },
  {
   "cell_type": "markdown",
   "metadata": {},
   "source": [
    "#### Create training and test data sets"
   ]
  },
  {
   "cell_type": "code",
   "execution_count": 46,
   "metadata": {
    "collapsed": false
   },
   "outputs": [],
   "source": [
    "train_rows <- sample(nrow(lending_club_final),(nrow(lending_club_final)*0.6))\n",
    "lending_club.train <- lending_club_final[train_rows,]\n",
    "lending_club.test <- lending_club_final[-train_rows,]"
   ]
  },
  {
   "cell_type": "markdown",
   "metadata": {},
   "source": [
    "#### Before balancing the dataset"
   ]
  },
  {
   "cell_type": "code",
   "execution_count": 47,
   "metadata": {
    "collapsed": false
   },
   "outputs": [
    {
     "data": {
      "text/plain": [
       "\n",
       "    0     1 \n",
       "61128 10348 "
      ]
     },
     "metadata": {},
     "output_type": "display_data"
    },
    {
     "data": {
      "text/plain": [
       "\n",
       "        0         1 \n",
       "0.8552241 0.1447759 "
      ]
     },
     "metadata": {},
     "output_type": "display_data"
    },
    {
     "data": {
      "image/png": "[encoded data removed]",
      "text/plain": [
       "Plot with title \"Histogram of lending_club.train$default\""
      ]
     },
     "metadata": {},
     "output_type": "display_data"
    }
   ],
   "source": [
    "# How many records per class?\n",
    "table(lending_club.train$default)\n",
    "\n",
    "# Plot histogram of class distribution\n",
    "hist(lending_club.train$default)\n",
    "\n",
    "# Percentage of total dataset per class (0= non-default, 1= default)\n",
    "prop.table(table(lending_club.train$default))\n",
    "\n",
    "hist(lending_club.train$default)"
   ]
  },
  {
   "cell_type": "markdown",
   "metadata": {},
   "source": [
    "#### Balancing the Training Dataset - Using SMOTE"
   ]
  },
  {
   "cell_type": "code",
   "execution_count": 48,
   "metadata": {
    "collapsed": false
   },
   "outputs": [],
   "source": [
    "#install.packages(\"unbalanced\", repos='http://cran.us.r-project.org',dependencies = TRUE)\n",
    "#library(unbalanced)\n",
    "\n",
    "n <- ncol(lending_club.train)\n",
    "y <- as.factor(lending_club.train$default)\n",
    "x <- lending_club.train[ ,-n]\n",
    "lending_club.train.smote <- ubSMOTE(X=x, Y=y)\n",
    "lending_club.train.smote$default <- as.numeric(as.character(lending_club.train.smote$Y))"
   ]
  },
  {
   "cell_type": "code",
   "execution_count": 49,
   "metadata": {
    "collapsed": false
   },
   "outputs": [],
   "source": [
    "lending_club.train <- cbind(lending_club.train.smote$X, default=lending_club.train.smote$default)"
   ]
  },
  {
   "cell_type": "markdown",
   "metadata": {},
   "source": [
    "##### After balancing the dataset"
   ]
  },
  {
   "cell_type": "code",
   "execution_count": 50,
   "metadata": {
    "collapsed": false
   },
   "outputs": [
    {
     "data": {
      "text/plain": [
       "\n",
       "    0     1 \n",
       "41392 31044 "
      ]
     },
     "metadata": {},
     "output_type": "display_data"
    },
    {
     "data": {
      "text/plain": [
       "\n",
       "        0         1 \n",
       "0.5714286 0.4285714 "
      ]
     },
     "metadata": {},
     "output_type": "display_data"
    },
    {
     "data": {
      "image/png": "[encoded data removed]",
      "text/plain": [
       "Plot with title \"Histogram of lending_club.train$default\""
      ]
     },
     "metadata": {},
     "output_type": "display_data"
    }
   ],
   "source": [
    "# How many records per class?\n",
    "table(lending_club.train$default)\n",
    "\n",
    "# Plot histogram of class distribution\n",
    "hist(lending_club.train$default)\n",
    "\n",
    "# Percentage of total dataset per class (0= non-default, 1= default)\n",
    "prop.table(table(lending_club.train$default))\n",
    "\n",
    "hist(lending_club.train$default)"
   ]
  },
  {
   "cell_type": "markdown",
   "metadata": {},
   "source": [
    "### Random Forest\n",
    "#### Train model and make predictions - Pre-RFE\n",
    "I am training the random forest algorithm against all of the variables/features. This model will be a baseline to compare to others."
   ]
  },
  {
   "cell_type": "code",
   "execution_count": 51,
   "metadata": {
    "collapsed": false
   },
   "outputs": [
    {
     "name": "stderr",
     "output_type": "stream",
     "text": [
      "Warning message:\n",
      "\"package 'e1071' was built under R version 3.3.2\"\n",
      "Attaching package: 'e1071'\n",
      "\n",
      "The following object is masked from 'package:mlr':\n",
      "\n",
      "    impute\n",
      "\n",
      "randomForest 4.6-12\n",
      "Type rfNews() to see new features/changes/bug fixes.\n",
      "\n",
      "Attaching package: 'randomForest'\n",
      "\n",
      "The following object is masked from 'package:psych':\n",
      "\n",
      "    outlier\n",
      "\n",
      "The following object is masked from 'package:ggplot2':\n",
      "\n",
      "    margin\n",
      "\n"
     ]
    }
   ],
   "source": [
    "library(caret)\n",
    "#install.packages(\"e1071\", repos='http://cran.us.r-project.org',dependencies = TRUE)\n",
    "library(e1071)\n",
    "library(randomForest)\n",
    "set.seed(9)\n",
    "\n",
    "ptm <- proc.time()\n",
    "#########################\n",
    "rf.fit <- randomForest(as.factor(default)~., data=lending_club.train, importance=TRUE, ntree=400)\n",
    "\n",
    "# Generate predictions based on model\n",
    "lending_club.test$default.pred <- predict(rf.fit,lending_club.test)\n",
    "########################\n",
    "rf.pre.time <- proc.time() - ptm"
   ]
  },
  {
   "cell_type": "markdown",
   "metadata": {},
   "source": [
    "#### Measure performance - Random Forest Pre-RFE"
   ]
  },
  {
   "cell_type": "code",
   "execution_count": 52,
   "metadata": {
    "collapsed": false
   },
   "outputs": [
    {
     "data": {
      "text/plain": [
       "Confusion Matrix and Statistics\n",
       "\n",
       "          Reference\n",
       "Prediction     0     1\n",
       "         0 39634  2548\n",
       "         1  1259  4210\n",
       "                                          \n",
       "               Accuracy : 0.9201          \n",
       "                 95% CI : (0.9176, 0.9225)\n",
       "    No Information Rate : 0.8582          \n",
       "    P-Value [Acc > NIR] : < 2.2e-16       \n",
       "                                          \n",
       "                  Kappa : 0.6434          \n",
       " Mcnemar's Test P-Value : < 2.2e-16       \n",
       "                                          \n",
       "            Sensitivity : 0.9692          \n",
       "            Specificity : 0.6230          \n",
       "         Pos Pred Value : 0.9396          \n",
       "         Neg Pred Value : 0.7698          \n",
       "             Prevalence : 0.8582          \n",
       "         Detection Rate : 0.8318          \n",
       "   Detection Prevalence : 0.8852          \n",
       "      Balanced Accuracy : 0.7961          \n",
       "                                          \n",
       "       'Positive' Class : 0               \n",
       "                                          "
      ]
     },
     "metadata": {},
     "output_type": "display_data"
    },
    {
     "data": {
      "text/html": [
       "0.796088854500257"
      ],
      "text/latex": [
       "0.796088854500257"
      ],
      "text/markdown": [
       "0.796088854500257"
      ],
      "text/plain": [
       "Area under the curve: 0.7961"
      ]
     },
     "metadata": {},
     "output_type": "display_data"
    }
   ],
   "source": [
    "# Create Confusion Matrix\n",
    "cm.pre_rfe <- confusionMatrix(lending_club.test$default.pred,lending_club.test$default)\n",
    "cm.pre_rfe\n",
    "\n",
    "# area under a ROC curve\n",
    "#auc(lending_club.test$default,as.numeric(lending_club.test$default.pred))"
   ]
  },
  {
   "cell_type": "markdown",
   "metadata": {},
   "source": [
    "#### Recursive Feature Elimination (RFE)\n",
    "So far we have not considered significance when cleansing the data set.  RFE analysis will identify a data set subset for optimal results."
   ]
  },
  {
   "cell_type": "code",
   "execution_count": 53,
   "metadata": {
    "collapsed": false
   },
   "outputs": [
    {
     "name": "stderr",
     "output_type": "stream",
     "text": [
      "\n",
      "Attaching package: 'plyr'\n",
      "\n",
      "The following object is masked from 'package:modeltools':\n",
      "\n",
      "    empty\n",
      "\n"
     ]
    },
    {
     "name": "stdout",
     "output_type": "stream",
     "text": [
      "[1] 24\n"
     ]
    }
   ],
   "source": [
    "# Let's use RFE to see if we can prune some variables/features and hopefully get a better result\n",
    "set.seed(77)\n",
    "\n",
    "# 10-fold cross-validation\n",
    "control <- rfeControl(functions=rfFuncs, method=\"cv\", number=10)\n",
    "lending_club.train.rfe <- lending_club.train[sample(nrow(lending_club.train),2000),]\n",
    "rfe.train <- rfe(lending_club.train.rfe[,1:79], as.factor(lending_club.train.rfe[,80]), sizes=1:79, rfeControl=control)\n",
    "\n",
    "# how big is the optimal variable subset?\n",
    "print(rfe.train$bestSubset)"
   ]
  },
  {
   "cell_type": "markdown",
   "metadata": {},
   "source": [
    "#### Plot the number of variables vs. RMSE"
   ]
  },
  {
   "cell_type": "code",
   "execution_count": 54,
   "metadata": {
    "collapsed": false
   },
   "outputs": [
    {
     "data": {},
     "metadata": {},
     "output_type": "display_data"
    },
    {
     "data": {
      "image/png": "[encoded data removed]",
      "text/plain": [
       "plot without title"
      ]
     },
     "metadata": {},
     "output_type": "display_data"
    }
   ],
   "source": [
    "plot(rfe.train, type=c(\"g\", \"o\"), cex = 1.0, col = 1:79)"
   ]
  },
  {
   "cell_type": "markdown",
   "metadata": {},
   "source": [
    "#### What specific variables/features comprise the optimal subset?"
   ]
  },
  {
   "cell_type": "code",
   "execution_count": 55,
   "metadata": {
    "collapsed": false
   },
   "outputs": [
    {
     "data": {
      "text/html": [
       "<ol class=list-inline>\n",
       "\t<li>\"last_credit_pull_d\"</li>\n",
       "\t<li>\"last_fico_range_low\"</li>\n",
       "\t<li>\"last_fico_range_high\"</li>\n",
       "\t<li>\"collections_12_mths_ex_med\"</li>\n",
       "\t<li>\"chargeoff_within_12_mths\"</li>\n",
       "\t<li>\"mths_since_last_record\"</li>\n",
       "\t<li>\"pub_rec_bankruptcies\"</li>\n",
       "\t<li>\"dti\"</li>\n",
       "\t<li>\"funded_amnt\"</li>\n",
       "\t<li>\"loan_amnt\"</li>\n",
       "\t<li>\"inq_last_6mths\"</li>\n",
       "\t<li>\"int_rate\"</li>\n",
       "\t<li>\"issue_d\"</li>\n",
       "\t<li>\"installment\"</li>\n",
       "\t<li>\"member_id\"</li>\n",
       "\t<li>\"funded_amnt_inv\"</li>\n",
       "\t<li>\"annual_inc\"</li>\n",
       "\t<li>\"fico_range_high\"</li>\n",
       "\t<li>\"num_tl_120dpd_2m\"</li>\n",
       "\t<li>\"tot_coll_amt\"</li>\n",
       "\t<li>\"mths_since_last_delinq\"</li>\n",
       "\t<li>\"grade\"</li>\n",
       "\t<li>\"fico_range_low\"</li>\n",
       "\t<li>\"num_tl_30dpd\"</li>\n",
       "</ol>\n"
      ],
      "text/latex": [
       "\\begin{enumerate*}\n",
       "\\item \"last\\_credit\\_pull\\_d\"\n",
       "\\item \"last\\_fico\\_range\\_low\"\n",
       "\\item \"last\\_fico\\_range\\_high\"\n",
       "\\item \"collections\\_12\\_mths\\_ex\\_med\"\n",
       "\\item \"chargeoff\\_within\\_12\\_mths\"\n",
       "\\item \"mths\\_since\\_last\\_record\"\n",
       "\\item \"pub\\_rec\\_bankruptcies\"\n",
       "\\item \"dti\"\n",
       "\\item \"funded\\_amnt\"\n",
       "\\item \"loan\\_amnt\"\n",
       "\\item \"inq\\_last\\_6mths\"\n",
       "\\item \"int\\_rate\"\n",
       "\\item \"issue\\_d\"\n",
       "\\item \"installment\"\n",
       "\\item \"member\\_id\"\n",
       "\\item \"funded\\_amnt\\_inv\"\n",
       "\\item \"annual\\_inc\"\n",
       "\\item \"fico\\_range\\_high\"\n",
       "\\item \"num\\_tl\\_120dpd\\_2m\"\n",
       "\\item \"tot\\_coll\\_amt\"\n",
       "\\item \"mths\\_since\\_last\\_delinq\"\n",
       "\\item \"grade\"\n",
       "\\item \"fico\\_range\\_low\"\n",
       "\\item \"num\\_tl\\_30dpd\"\n",
       "\\end{enumerate*}\n"
      ],
      "text/markdown": [
       "1. \"last_credit_pull_d\"\n",
       "2. \"last_fico_range_low\"\n",
       "3. \"last_fico_range_high\"\n",
       "4. \"collections_12_mths_ex_med\"\n",
       "5. \"chargeoff_within_12_mths\"\n",
       "6. \"mths_since_last_record\"\n",
       "7. \"pub_rec_bankruptcies\"\n",
       "8. \"dti\"\n",
       "9. \"funded_amnt\"\n",
       "10. \"loan_amnt\"\n",
       "11. \"inq_last_6mths\"\n",
       "12. \"int_rate\"\n",
       "13. \"issue_d\"\n",
       "14. \"installment\"\n",
       "15. \"member_id\"\n",
       "16. \"funded_amnt_inv\"\n",
       "17. \"annual_inc\"\n",
       "18. \"fico_range_high\"\n",
       "19. \"num_tl_120dpd_2m\"\n",
       "20. \"tot_coll_amt\"\n",
       "21. \"mths_since_last_delinq\"\n",
       "22. \"grade\"\n",
       "23. \"fico_range_low\"\n",
       "24. \"num_tl_30dpd\"\n",
       "\n",
       "\n"
      ],
      "text/plain": [
       " [1] \"last_credit_pull_d\"         \"last_fico_range_low\"       \n",
       " [3] \"last_fico_range_high\"       \"collections_12_mths_ex_med\"\n",
       " [5] \"chargeoff_within_12_mths\"   \"mths_since_last_record\"    \n",
       " [7] \"pub_rec_bankruptcies\"       \"dti\"                       \n",
       " [9] \"funded_amnt\"                \"loan_amnt\"                 \n",
       "[11] \"inq_last_6mths\"             \"int_rate\"                  \n",
       "[13] \"issue_d\"                    \"installment\"               \n",
       "[15] \"member_id\"                  \"funded_amnt_inv\"           \n",
       "[17] \"annual_inc\"                 \"fico_range_high\"           \n",
       "[19] \"num_tl_120dpd_2m\"           \"tot_coll_amt\"              \n",
       "[21] \"mths_since_last_delinq\"     \"grade\"                     \n",
       "[23] \"fico_range_low\"             \"num_tl_30dpd\"              "
      ]
     },
     "metadata": {},
     "output_type": "display_data"
    }
   ],
   "source": [
    "predictors(rfe.train)"
   ]
  },
  {
   "cell_type": "code",
   "execution_count": 56,
   "metadata": {
    "collapsed": false
   },
   "outputs": [
    {
     "data": {
      "text/plain": [
       "as.factor(default) ~ last_credit_pull_d + last_fico_range_low + \n",
       "    last_fico_range_high + collections_12_mths_ex_med + chargeoff_within_12_mths + \n",
       "    mths_since_last_record + pub_rec_bankruptcies + dti + funded_amnt + \n",
       "    loan_amnt + inq_last_6mths + int_rate + issue_d + installment + \n",
       "    member_id + funded_amnt_inv + annual_inc + fico_range_high + \n",
       "    num_tl_120dpd_2m + tot_coll_amt + mths_since_last_delinq + \n",
       "    grade + fico_range_low + num_tl_30dpd"
      ]
     },
     "metadata": {},
     "output_type": "display_data"
    }
   ],
   "source": [
    "predictors <- predictors(rfe.train)\n",
    "formula <- paste(\"as.factor(default)\",paste(predictors, collapse=\" + \"), sep=\"~\")\n",
    "formula <- as.formula(formula)\n",
    "formula"
   ]
  },
  {
   "cell_type": "markdown",
   "metadata": {},
   "source": [
    "#### Train Random Forest model Post-RFE and generate predictions"
   ]
  },
  {
   "cell_type": "code",
   "execution_count": 137,
   "metadata": {
    "collapsed": false
   },
   "outputs": [],
   "source": [
    "# Redo the Random Forest model with the optimal subset according to RFE\n",
    "set.seed(44)\n",
    "\n",
    "ptm <- proc.time()\n",
    "#########################\n",
    "rf.fit.opt <- randomForest(formula, data=lending_club.train, ntree=400, type='classification')\n",
    "\n",
    "lending_club.test$default.pred.opt <- predict(rf.fit.opt,lending_club.test)\n",
    "########################\n",
    "rf.post.time <- proc.time() - ptm"
   ]
  },
  {
   "cell_type": "markdown",
   "metadata": {},
   "source": [
    "#### Measure performance - Random Forest Post-RFE"
   ]
  },
  {
   "cell_type": "code",
   "execution_count": 138,
   "metadata": {
    "collapsed": false
   },
   "outputs": [
    {
     "data": {
      "text/plain": [
       "Confusion Matrix and Statistics\n",
       "\n",
       "          Reference\n",
       "Prediction     0     1\n",
       "         0 38173   667\n",
       "         1  2720  6091\n",
       "                                          \n",
       "               Accuracy : 0.9289          \n",
       "                 95% CI : (0.9266, 0.9312)\n",
       "    No Information Rate : 0.8582          \n",
       "    P-Value [Acc > NIR] : < 2.2e-16       \n",
       "                                          \n",
       "                  Kappa : 0.7409          \n",
       " Mcnemar's Test P-Value : < 2.2e-16       \n",
       "                                          \n",
       "            Sensitivity : 0.9335          \n",
       "            Specificity : 0.9013          \n",
       "         Pos Pred Value : 0.9828          \n",
       "         Neg Pred Value : 0.6913          \n",
       "             Prevalence : 0.8582          \n",
       "         Detection Rate : 0.8011          \n",
       "   Detection Prevalence : 0.8151          \n",
       "      Balanced Accuracy : 0.9174          \n",
       "                                          \n",
       "       'Positive' Class : 0               \n",
       "                                          "
      ]
     },
     "metadata": {},
     "output_type": "display_data"
    }
   ],
   "source": [
    "# Create Confusion Matrix\n",
    "cm.post_rfe <- confusionMatrix(lending_club.test$default.pred.opt,lending_club.test$default)\n",
    "cm.post_rfe\n",
    "\n",
    "# store Accuracy (PCC)\n",
    "#pcc_acc.post_rfe <- x$overall[1]\n",
    "\n",
    "# find area under a ROC curve\n",
    "#auc.post.rfe <- auc(lending_club.test$default,as.numeric(lending_club.test$default.pred.opt))"
   ]
  },
  {
   "cell_type": "markdown",
   "metadata": {},
   "source": [
    "### Bagged Decision Trees \n",
    "#### Create model and make predictions"
   ]
  },
  {
   "cell_type": "code",
   "execution_count": 139,
   "metadata": {
    "collapsed": false
   },
   "outputs": [],
   "source": [
    "set.seed(3)\n",
    "# BAGGED DECISION TREES\n",
    "library(rpart)\n",
    "#install.packages(\"adabag\", repos='http://cran.us.r-project.org',dependencies = TRUE)\n",
    "library(adabag)\n",
    "lending_club.train$default.factor <- as.factor(lending_club.train$default)\n",
    "lending_club.test$default.factor <- as.factor(lending_club.test$default)\n",
    "formula_bdt <- paste(\"default.factor\",paste(predictors,collapse=\" + \"),sep=\"~\")\n",
    "\n",
    "ptm <- proc.time()\n",
    "#########################\n",
    "# mfinal indicates total number of trees grown \n",
    "# and minsplit is the minimum number of observations that must exist in a node in order for a split to be attempted\n",
    "bdt.bagging <- bagging(formula_bdt, mfinal=500, control=rpart.control(minsplit = 50), data=lending_club.train)\n",
    "\n",
    "# make predictions\n",
    "bdt.bagging.pred <- predict.bagging(bdt.bagging, newdata=lending_club.test)\n",
    "########################\n",
    "bdt.time <- proc.time() - ptm"
   ]
  },
  {
   "cell_type": "markdown",
   "metadata": {},
   "source": [
    "#### Bagged Decision Trees - Measure Performance"
   ]
  },
  {
   "cell_type": "code",
   "execution_count": 140,
   "metadata": {
    "collapsed": false
   },
   "outputs": [
    {
     "data": {
      "text/plain": [
       "Confusion Matrix and Statistics\n",
       "\n",
       "          Reference\n",
       "Prediction     0     1\n",
       "         0 37255   809\n",
       "         1  3638  5949\n",
       "                                         \n",
       "               Accuracy : 0.9067         \n",
       "                 95% CI : (0.904, 0.9093)\n",
       "    No Information Rate : 0.8582         \n",
       "    P-Value [Acc > NIR] : < 2.2e-16      \n",
       "                                         \n",
       "                  Kappa : 0.6736         \n",
       " Mcnemar's Test P-Value : < 2.2e-16      \n",
       "                                         \n",
       "            Sensitivity : 0.9110         \n",
       "            Specificity : 0.8803         \n",
       "         Pos Pred Value : 0.9787         \n",
       "         Neg Pred Value : 0.6205         \n",
       "             Prevalence : 0.8582         \n",
       "         Detection Rate : 0.7818         \n",
       "   Detection Prevalence : 0.7988         \n",
       "      Balanced Accuracy : 0.8957         \n",
       "                                         \n",
       "       'Positive' Class : 0              \n",
       "                                         "
      ]
     },
     "metadata": {},
     "output_type": "display_data"
    }
   ],
   "source": [
    "# Create Confusion Matrix\n",
    "cm.bdt <- confusionMatrix(bdt.bagging.pred$class,lending_club.test$default)\n",
    "cm.bdt\n",
    "\n",
    "# find Area Under a ROC Curve (AUC)\n",
    "#auc(lending_club.test$default,as.numeric(bdt.bagging.pred$class))"
   ]
  },
  {
   "cell_type": "markdown",
   "metadata": {},
   "source": [
    "### Support Vector Machines"
   ]
  },
  {
   "cell_type": "code",
   "execution_count": 141,
   "metadata": {
    "collapsed": false
   },
   "outputs": [
    {
     "data": {
      "text/plain": [
       "Confusion Matrix and Statistics\n",
       "\n",
       "          Reference\n",
       "Prediction     0     1\n",
       "         0 37496  1123\n",
       "         1  3397  5635\n",
       "                                          \n",
       "               Accuracy : 0.9051          \n",
       "                 95% CI : (0.9025, 0.9078)\n",
       "    No Information Rate : 0.8582          \n",
       "    P-Value [Acc > NIR] : < 2.2e-16       \n",
       "                                          \n",
       "                  Kappa : 0.6583          \n",
       " Mcnemar's Test P-Value : < 2.2e-16       \n",
       "                                          \n",
       "            Sensitivity : 0.9169          \n",
       "            Specificity : 0.8338          \n",
       "         Pos Pred Value : 0.9709          \n",
       "         Neg Pred Value : 0.6239          \n",
       "             Prevalence : 0.8582          \n",
       "         Detection Rate : 0.7869          \n",
       "   Detection Prevalence : 0.8105          \n",
       "      Balanced Accuracy : 0.8754          \n",
       "                                          \n",
       "       'Positive' Class : 0               \n",
       "                                          "
      ]
     },
     "metadata": {},
     "output_type": "display_data"
    }
   ],
   "source": [
    "set.seed(10)\n",
    "\n",
    "ptm <- proc.time()\n",
    "#########################\n",
    "# create SVM model\n",
    "lc.svm.fit <- svm(formula, data=lending_club.train)\n",
    "\n",
    "# make predictons\n",
    "lending_club.test$default.pred.svm <- predict(lc.svm.fit,lending_club.test)\n",
    "########################\n",
    "svm.time <- proc.time() - ptm\n",
    "\n",
    "# Create Confusion Matrix\n",
    "cm.svm <- confusionMatrix(lending_club.test$default.pred.svm,lending_club.test$default)\n",
    "cm.svm\n",
    "\n",
    "# find Area Under a ROC Curve (AUC)\n",
    "#auc(lending_club.test$default,as.numeric(lending_club.test$default.pred.svm))"
   ]
  },
  {
   "cell_type": "markdown",
   "metadata": {},
   "source": [
    "#### Visualize the Prediction Model Using Conditional Inference Trees (CTree)"
   ]
  },
  {
   "cell_type": "code",
   "execution_count": 142,
   "metadata": {
    "collapsed": true
   },
   "outputs": [],
   "source": [
    "lending_club.init_sol <- lending_club_final\n",
    "\n",
    "# train and test datasets\n",
    "train_rows <- sample(nrow(lending_club.init_sol),(nrow(lending_club.init_sol)*0.7))\n",
    "lending_club.init_sol.train <- lending_club.init_sol[train_rows,]\n",
    "lending_club.init_sol.test <- lending_club.init_sol[-train_rows,]\n",
    "\n",
    "lending_club.init_sol.train$default <- factor(lending_club.init_sol.train$default, levels=c(0,1), labels=c('PAID', 'DEFAULT'))\n",
    "lending_club.init_sol.test$default <- factor(lending_club.init_sol.test$default, levels=c(0,1), labels=c('PAID', 'DEFAULT'))"
   ]
  },
  {
   "cell_type": "code",
   "execution_count": 143,
   "metadata": {
    "collapsed": false
   },
   "outputs": [
    {
     "data": {
      "text/html": [
       "<strong>png:</strong> 2"
      ],
      "text/latex": [
       "\\textbf{png:} 2"
      ],
      "text/markdown": [
       "**png:** 2"
      ],
      "text/plain": [
       "png \n",
       "  2 "
      ]
     },
     "metadata": {},
     "output_type": "display_data"
    }
   ],
   "source": [
    "# create model\n",
    "default_pred.ctree <- ctree(formula, data=lending_club.init_sol.train, \n",
    "                               controls=ctree_control(testtype=\"Bonferroni\", minsplit=4000, minbucket=4000))\n",
    "\n",
    "# save model of tree to disk\n",
    "png(\"ctree.png\", res=80, height=900, width=2000) \n",
    "   plot(default_pred.ctree) \n",
    "dev.off()"
   ]
  },
  {
   "cell_type": "markdown",
   "metadata": {},
   "source": [
    "#### Measure Accuracy - CTree"
   ]
  },
  {
   "cell_type": "code",
   "execution_count": 144,
   "metadata": {
    "collapsed": false
   },
   "outputs": [],
   "source": [
    "lending_club.init_sol.test$default.pred <- predict(default_pred.ctree, newdata=lending_club.init_sol.test, type='response')\n",
    "cm.ctree <- confusionMatrix(lending_club.init_sol.test$default.pred, lending_club.init_sol.test$default, positive=\"PAID\")"
   ]
  },
  {
   "cell_type": "markdown",
   "metadata": {},
   "source": [
    "#### Compile Prediction Performance Results"
   ]
  },
  {
   "cell_type": "code",
   "execution_count": 207,
   "metadata": {
    "collapsed": false
   },
   "outputs": [],
   "source": [
    "# poplulate Accuracy (PCC)\n",
    "acc <- cbind(as.numeric(cm.post_rfe$overall)[1],as.numeric(cm.bdt$overall)[1],as.numeric(cm.svm$overall)[1])\n",
    "\n",
    "# populate Kappa\n",
    "kap <- cbind(as.numeric(cm.post_rfe$overall)[2],as.numeric(cm.bdt$overall)[2],as.numeric(cm.svm$overall)[2])\n",
    "\n",
    "# populate Sensitivity\n",
    "sen <- cbind(as.numeric(cm.post_rfe$byClass)[1],as.numeric(cm.bdt$byClass)[1],as.numeric(cm.svm$byClass)[1])\n",
    "\n",
    "# populate Specificity\n",
    "spec <- cbind(as.numeric(cm.post_rfe$byClass)[2],as.numeric(cm.bdt$byClass)[2],as.numeric(cm.svm$byClass)[2])\n",
    "\n",
    "# populate AUC\n",
    "auc <- cbind(as.numeric(cm.post_rfe$byClass)[11],as.numeric(cm.bdt$byClass)[11],as.numeric(cm.svm$byClass)[11])\n",
    "\n",
    "perf.mat <- rbind(acc,kap,sen,spec,auc)\n",
    "rownames(perf.mat) <- c(\"PCC (1)\",\"Kappa (2)\",\"Sensitivity (3)\",\"Specificity (4)\",\"AUC (5)\")\n",
    "colnames(perf.mat) <- c(\"Random Forest - Post RFE\",\"Bagged Decision Trees\",\"SVM\")\n",
    "#perf.mat\n",
    "#matplot(perf.mat, type = c(\"b\"),pch=1,col = 2:4)\n",
    "#legend(\"bottomright\", legend = c(\"Random Forest - Post RFE\",\"Bagged Decision Trees\",\"SVM\"), col=2:4, pch=1) \n",
    "\n",
    "#res.vec <- as.vector(cbind(acc,kap,sen,spec,auc))\n",
    "#rec.struc <- structure(res.vec, .Dim=c(5L,3L), .Dimnames=list(c(\"PCC\",\"Kappa\",\"Sensitivity\",\"Specificity\",\"AUC\"),\n",
    "#                                                              c(\"Random Forest - Post RFE\",\"Bagged Decision Trees\",\"SVM\")))\n",
    "#rownames(rec.struc)\n",
    "#matplot(rownames(rec.struc), rec.struc, type='l')"
   ]
  },
  {
   "cell_type": "markdown",
   "metadata": {},
   "source": [
    "#### Compile Time Performance Results"
   ]
  },
  {
   "cell_type": "code",
   "execution_count": 146,
   "metadata": {
    "collapsed": false
   },
   "outputs": [],
   "source": [
    "rf.mat <- as.matrix(rf.post.time)\n",
    "svm.mat <- as.matrix(svm.time)\n",
    "bdt.mat <- as.matrix(bdt.time)\n",
    "\n",
    "et <- cbind(rf.mat[3], svm.mat[3], bdt.mat[3])\n",
    "colnames(et) <- c(\"Random Forests\",\"SVM\",\"Bagged DT\")\n",
    "#et\n",
    "#barplot(et, main=\"Classification Model Time Performance\", ylab=\"elapsed time in seconds\")"
   ]
  },
  {
   "cell_type": "markdown",
   "metadata": {},
   "source": [
    "## Results"
   ]
  },
  {
   "cell_type": "markdown",
   "metadata": {},
   "source": [
    "### Predictive Models Performance\n",
    "\n",
    "This section will summarize the results of the prediction performance measures for all of the classification algorithms covered in this project. The measures of performance to be compared are Accuracy (Percent Correctly Classified), Area Under a ROC Curve (AUC), as well as Sensitivity and Specificity."
   ]
  },
  {
   "cell_type": "code",
   "execution_count": 211,
   "metadata": {
    "collapsed": false
   },
   "outputs": [
    {
     "data": {
      "text/html": [
       "<table>\n",
       "<thead><tr><th></th><th scope=col>Random Forest - Post RFE</th><th scope=col>Bagged Decision Trees</th><th scope=col>SVM</th></tr></thead>\n",
       "<tbody>\n",
       "\t<tr><th scope=row>PCC (1)</th><td>0.9289207</td><td>0.9066756</td><td>0.9051436</td></tr>\n",
       "\t<tr><th scope=row>Kappa (2)</th><td>0.7408529</td><td>0.6736312</td><td>0.6583035</td></tr>\n",
       "\t<tr><th scope=row>Sensitivity (3)</th><td>0.9334849</td><td>0.9110361</td><td>0.9169295</td></tr>\n",
       "\t<tr><th scope=row>Specificity (4)</th><td>0.9013022</td><td>0.8802900</td><td>0.8338266</td></tr>\n",
       "\t<tr><th scope=row>AUC (5)</th><td>0.9173936</td><td>0.8956631</td><td>0.8753781</td></tr>\n",
       "</tbody>\n",
       "</table>\n"
      ],
      "text/latex": [
       "\\begin{tabular}{r|lll}\n",
       "  & Random Forest - Post RFE & Bagged Decision Trees & SVM\\\\\n",
       "\\hline\n",
       "\tPCC (1) & 0.9289207 & 0.9066756 & 0.9051436\\\\\n",
       "\tKappa (2) & 0.7408529 & 0.6736312 & 0.6583035\\\\\n",
       "\tSensitivity (3) & 0.9334849 & 0.9110361 & 0.9169295\\\\\n",
       "\tSpecificity (4) & 0.9013022 & 0.8802900 & 0.8338266\\\\\n",
       "\tAUC (5) & 0.9173936 & 0.8956631 & 0.8753781\\\\\n",
       "\\end{tabular}\n"
      ],
      "text/markdown": [
       "1. 0.928920694214182\n",
       "2. 0.740852918450095\n",
       "3. 0.933484948524197\n",
       "4. 0.901302160402486\n",
       "5. 0.917393554463342\n",
       "6. 0.906675620658538\n",
       "7. 0.673631181201983\n",
       "8. 0.911036118651114\n",
       "9. 0.880290026635099\n",
       "10. 0.895663072643107\n",
       "11. 0.905143648611782\n",
       "12. 0.658303474740132\n",
       "13. 0.916929547844374\n",
       "14. 0.833826575910033\n",
       "15. 0.875378061877203\n",
       "\n",
       "\n"
      ],
      "text/plain": [
       "                Random Forest - Post RFE Bagged Decision Trees       SVM\n",
       "PCC (1)                        0.9289207             0.9066756 0.9051436\n",
       "Kappa (2)                      0.7408529             0.6736312 0.6583035\n",
       "Sensitivity (3)                0.9334849             0.9110361 0.9169295\n",
       "Specificity (4)                0.9013022             0.8802900 0.8338266\n",
       "AUC (5)                        0.9173936             0.8956631 0.8753781"
      ]
     },
     "metadata": {},
     "output_type": "display_data"
    },
    {
     "data": {
      "image/png": "[encoded data removed]",
      "text/plain": [
       "Plot with title \"Predictive Models Performance Results\""
      ]
     },
     "metadata": {},
     "output_type": "display_data"
    }
   ],
   "source": [
    "matplot(perf.mat, type = c(\"b\"),pch=1,col = 2:4, ylab=\"rate\", main=\"Predictive Models Performance Results\")\n",
    "legend(\"bottomright\", legend = c(\"Random Forest - Post RFE\",\"Bagged Decision Trees\",\"SVM\"), col=2:4, pch=1) \n",
    "perf.mat"
   ]
  },
  {
   "cell_type": "markdown",
   "metadata": {},
   "source": [
    "#### Predictive Models Results Summary\n",
    "Over all of the metrics used, the best performer is Random Forests. Bagged Decision Trees came in second and SVM last. According to Benchmarking state-of-the-art classification algorithms for credit scoring: A ten-year update<sup>2</sup>, which compared Random Forests, Bagged Decision Trees and SVM among many others. According to the study, Random Forests and Bagged Decision Trees outperformed SVM and the results here further reinforce that. \n",
    "\n",
    "##### Description of Metrics Used\n",
    "The first metric is Percentage Correctly Classified (PCC), which measures the classified loans as a percentage of all loans. The second is Kappa, which is a measure of agreement between two raters. This measure is considered more robust than the others used here. The third is Sensitivity which is the proportion of borrowers who were predicted as not defaulting versus all the borrowers who actually did not default. In other words it measures the success rate of predicting who will not default. The fourth is Specificity which is the proportion of borrowers who were predicted as defaulting versus all the borrowers who did default. This metric is especially important since it captures the success rate of predicting who will default. The final metric is Area Under a ROC Curve which measures the relationship between the true positive rate (TPR) and the false positive rate (FPR). An AUC of 1 means that all borrowers predicted not default did not default in reality. An AUC of 0.5 would indicate that of the borrowers predicted not to default, half actually did while the other half did not."
   ]
  },
  {
   "cell_type": "markdown",
   "metadata": {},
   "source": [
    "### Time Performance\n",
    "This section will summarize the time performance for each predictive model."
   ]
  },
  {
   "cell_type": "code",
   "execution_count": 248,
   "metadata": {
    "collapsed": false
   },
   "outputs": [
    {
     "data": {
      "text/html": [
       "<table>\n",
       "<thead><tr><th scope=col>Random Forests</th><th scope=col>SVM</th><th scope=col>Bagged DT</th></tr></thead>\n",
       "<tbody>\n",
       "\t<tr><td> 124.52</td><td> 645.62</td><td>2100.86</td></tr>\n",
       "</tbody>\n",
       "</table>\n"
      ],
      "text/latex": [
       "\\begin{tabular}{lll}\n",
       " Random Forests & SVM & Bagged DT\\\\\n",
       "\\hline\n",
       "\t  124.52 &  645.62 & 2100.86\\\\\n",
       "\\end{tabular}\n"
      ],
      "text/markdown": [
       "1. 124.52\n",
       "2. 645.620000000003\n",
       "3. 2100.86\n",
       "\n",
       "\n"
      ],
      "text/plain": [
       "     Random Forests    SVM Bagged DT\n",
       "[1,]         124.52 645.62   2100.86"
      ]
     },
     "metadata": {},
     "output_type": "display_data"
    },
    {
     "data": {
      "image/png": "[encoded data removed]",
      "text/plain": [
       "Plot with title \"Classification Model Time Performance\""
      ]
     },
     "metadata": {},
     "output_type": "display_data"
    }
   ],
   "source": [
    "et\n",
    "barplot(et, main=\"Classification Model Time Performance\", ylab=\"elapsed time in seconds\")"
   ]
  },
  {
   "cell_type": "markdown",
   "metadata": {},
   "source": [
    "#### Time Performance Summary\n",
    "The time performance results show that Random Forests outperform Support Vector Machines and Bagged Decision Trees. Again, the best time performance comes from Random Forests meanwhile Bagged Decision Trees alogorithm unacceptably slow, especially for systems that require quick turnaround such as targeted display advertising. "
   ]
  },
  {
   "cell_type": "markdown",
   "metadata": {},
   "source": [
    "### Important Features for Prediction\n",
    "This section lists the features in the dataset which are the most important for predicting loan default as determined by Recursive Feature Elimination. These features should be collected for each potential borrower to accurately determine his/her likelihood of default."
   ]
  },
  {
   "cell_type": "code",
   "execution_count": 216,
   "metadata": {
    "collapsed": false
   },
   "outputs": [
    {
     "data": {
      "text/html": [
       "<table>\n",
       "<thead><tr><th></th><th scope=col>Feature</th><th scope=col>Description</th></tr></thead>\n",
       "<tbody>\n",
       "\t<tr><th scope=row>5</th><td>annual_inc                                                                   </td><td>The self-reported annual income provided by the borrower during registration.</td></tr>\n",
       "\t<tr><th scope=row>11</th><td>chargeoff_within_12_mths              </td><td>Number of charge-offs within 12 months</td></tr>\n",
       "\t<tr><th scope=row>13</th><td>collections_12_mths_ex_med                                      </td><td>Number of collections in 12 months excluding medical collections</td></tr>\n",
       "\t<tr><th scope=row>17</th><td>fico_range_high                                                             </td><td>The upper boundary range the borrower?s FICO at loan origination belongs to.</td></tr>\n",
       "\t<tr><th scope=row>18</th><td>fico_range_low                                                              </td><td>The lower boundary range the borrower?s FICO at loan origination belongs to.</td></tr>\n",
       "\t<tr><th scope=row>19</th><td>funded_amnt                                                   </td><td>The total amount committed to that loan at that point in time.</td></tr>\n",
       "\t<tr><th scope=row>20</th><td>funded_amnt_inv                                                             </td><td>The total amount committed by investors for that loan at that point in time.</td></tr>\n",
       "\t<tr><th scope=row>21</th><td>grade                 </td><td>LC assigned loan grade</td></tr>\n",
       "\t<tr><th scope=row>28</th><td>inq_last_6mths                                                                  </td><td>The number of inquiries in past 6 months (excluding auto and mortgage inquiries)</td></tr>\n",
       "\t<tr><th scope=row>29</th><td>installment                                                     </td><td>The monthly payment owed by the borrower if the loan originates.</td></tr>\n",
       "\t<tr><th scope=row>30</th><td>int_rate                 </td><td>Interest Rate on the loan</td></tr>\n",
       "\t<tr><th scope=row>31</th><td>issue_d                            </td><td>The month which the loan was funded</td></tr>\n",
       "\t<tr><th scope=row>32</th><td>last_credit_pull_d                                  </td><td>The most recent month LC pulled credit for this loan</td></tr>\n",
       "\t<tr><th scope=row>33</th><td>last_fico_range_high                                                </td><td>The upper boundary range the borrower?s last FICO pulled belongs to.</td></tr>\n",
       "\t<tr><th scope=row>34</th><td>last_fico_range_low                                                 </td><td>The lower boundary range the borrower?s last FICO pulled belongs to.</td></tr>\n",
       "\t<tr><th scope=row>37</th><td>loan_amnt                                                                                                                                                                 </td><td>The listed amount of the loan applied for by the borrower. If at some point in time the credit department reduces the loan amount then it will be reflected in this value.</td></tr>\n",
       "\t<tr><th scope=row>40</th><td>member_id                                       </td><td>A unique LC assigned Id for the borrower member.</td></tr>\n",
       "\t<tr><th scope=row>46</th><td>mths_since_last_delinq                                                                                                                                                                                                                                                                                                                                                                                                                                                                                                                                                                                                                                                                                                                                                                                                                                                                                                                                                                                                                                                                                                                                                                                                                                                                                                                                                                                                                                                                                                                                                                         </td><td>The number of months since the borrowers last delinquency.\n",
       "mths_since_last_major_derog,Months since most recent 90-day or worse rating\n",
       "mths_since_last_record,The number of months since the last public record.\n",
       "mths_since_rcnt_il,Months since most recent installment accounts opened\n",
       "mths_since_recent_bc,Months since most recent bankcard account opened.\n",
       "mths_since_recent_bc_dlq,Months since most recent bankcard delinquency\n",
       "mths_since_recent_inq,Months since most recent inquiry.\n",
       "mths_since_recent_revol_delinq,Months since most recent revolving delinquency.\n",
       "next_pymnt_d,Next scheduled payment date\n",
       "num_accts_ever_120_pd,Number of accounts ever 120 or more days past due\n",
       "num_actv_bc_tl,Number of currently active bankcard accounts\n",
       "num_actv_rev_tl,Number of currently active revolving trades\n",
       "num_bc_sats,Number of satisfactory bankcard accounts\n",
       "num_bc_tl,Number of bankcard accounts\n",
       "num_il_tl,Number of installment accounts\n",
       "num_op_rev_tl,Number of open revolving accounts\n",
       "num_rev_accts,Number of revolving accounts\n",
       "num_rev_tl_bal_gt_0,Number of revolving trades with balance &gt;0\n",
       "num_sats,Number of satisfactory accounts\n",
       "num_tl_120dpd_2m,Number of accounts currently 120 days past due (updated in past 2 months)\n",
       "num_tl_30dpd,Number of accounts currently 30 days past due (updated in past 2 months)\n",
       "num_tl_90g_dpd_24m,Number of accounts 90 or more days past due in last 24 months\n",
       "num_tl_op_past_12m,Number of accounts opened in past 12 months\n",
       "open_acc,The number of open credit lines in the borrowers credit file.</td></tr>\n",
       "\t<tr><th scope=row>59</th><td>pub_rec_bankruptcies                </td><td>Number of public record bankruptcies</td></tr>\n",
       "\t<tr><th scope=row>69</th><td>tot_coll_amt                      </td><td>Total collection amounts ever owed</td></tr>\n",
       "</tbody>\n",
       "</table>\n"
      ],
      "text/latex": [
       "\\begin{tabular}{r|ll}\n",
       "  & Feature & Description\\\\\n",
       "\\hline\n",
       "\t5 & annual\\_inc                                                                  & The self-reported annual income provided by the borrower during registration.\\\\\n",
       "\t11 & chargeoff\\_within\\_12\\_mths         & Number of charge-offs within 12 months\\\\\n",
       "\t13 & collections\\_12\\_mths\\_ex\\_med                               & Number of collections in 12 months excluding medical collections\\\\\n",
       "\t17 & fico\\_range\\_high                                                          & The upper boundary range the borrower?s FICO at loan origination belongs to.\\\\\n",
       "\t18 & fico\\_range\\_low                                                           & The lower boundary range the borrower?s FICO at loan origination belongs to.\\\\\n",
       "\t19 & funded\\_amnt                                                  & The total amount committed to that loan at that point in time.\\\\\n",
       "\t20 & funded\\_amnt\\_inv                                                          & The total amount committed by investors for that loan at that point in time.\\\\\n",
       "\t21 & grade                  & LC assigned loan grade\\\\\n",
       "\t28 & inq\\_last\\_6mths                                                               & The number of inquiries in past 6 months (excluding auto and mortgage inquiries)\\\\\n",
       "\t29 & installment                                                      & The monthly payment owed by the borrower if the loan originates.\\\\\n",
       "\t30 & int\\_rate                & Interest Rate on the loan\\\\\n",
       "\t31 & issue\\_d                           & The month which the loan was funded\\\\\n",
       "\t32 & last\\_credit\\_pull\\_d                             & The most recent month LC pulled credit for this loan\\\\\n",
       "\t33 & last\\_fico\\_range\\_high                                           & The upper boundary range the borrower?s last FICO pulled belongs to.\\\\\n",
       "\t34 & last\\_fico\\_range\\_low                                            & The lower boundary range the borrower?s last FICO pulled belongs to.\\\\\n",
       "\t37 & loan\\_amnt                                                                                                                                                                & The listed amount of the loan applied for by the borrower. If at some point in time the credit department reduces the loan amount then it will be reflected in this value.\\\\\n",
       "\t40 & member\\_id                                      & A unique LC assigned Id for the borrower member.\\\\\n",
       "\t46 & mths\\_since\\_last\\_delinq                                                                                                                                                                                                                                                                                                                                                                                                                                                                                                                                                                                                                                                                                                                                                                                                                                                                                                                                                                                                                                                                                                                                                                                                                                                                                                                                                                                                                                                                                                                                                                                                                                                                                                       & The number of months since the borrowers last delinquency.\n",
       "mths\\_since\\_last\\_major\\_derog,Months since most recent 90-day or worse rating\n",
       "mths\\_since\\_last\\_record,The number of months since the last public record.\n",
       "mths\\_since\\_rcnt\\_il,Months since most recent installment accounts opened\n",
       "mths\\_since\\_recent\\_bc,Months since most recent bankcard account opened.\n",
       "mths\\_since\\_recent\\_bc\\_dlq,Months since most recent bankcard delinquency\n",
       "mths\\_since\\_recent\\_inq,Months since most recent inquiry.\n",
       "mths\\_since\\_recent\\_revol\\_delinq,Months since most recent revolving delinquency.\n",
       "next\\_pymnt\\_d,Next scheduled payment date\n",
       "num\\_accts\\_ever\\_120\\_pd,Number of accounts ever 120 or more days past due\n",
       "num\\_actv\\_bc\\_tl,Number of currently active bankcard accounts\n",
       "num\\_actv\\_rev\\_tl,Number of currently active revolving trades\n",
       "num\\_bc\\_sats,Number of satisfactory bankcard accounts\n",
       "num\\_bc\\_tl,Number of bankcard accounts\n",
       "num\\_il\\_tl,Number of installment accounts\n",
       "num\\_op\\_rev\\_tl,Number of open revolving accounts\n",
       "num\\_rev\\_accts,Number of revolving accounts\n",
       "num\\_rev\\_tl\\_bal\\_gt\\_0,Number of revolving trades with balance >0\n",
       "num\\_sats,Number of satisfactory accounts\n",
       "num\\_tl\\_120dpd\\_2m,Number of accounts currently 120 days past due (updated in past 2 months)\n",
       "num\\_tl\\_30dpd,Number of accounts currently 30 days past due (updated in past 2 months)\n",
       "num\\_tl\\_90g\\_dpd\\_24m,Number of accounts 90 or more days past due in last 24 months\n",
       "num\\_tl\\_op\\_past\\_12m,Number of accounts opened in past 12 months\n",
       "open\\_acc,The number of open credit lines in the borrowers credit file.\\\\\n",
       "\t59 & pub\\_rec\\_bankruptcies             & Number of public record bankruptcies\\\\\n",
       "\t69 & tot\\_coll\\_amt                   & Total collection amounts ever owed\\\\\n",
       "\\end{tabular}\n"
      ],
      "text/plain": [
       "                      Feature\n",
       "5                  annual_inc\n",
       "11   chargeoff_within_12_mths\n",
       "13 collections_12_mths_ex_med\n",
       "17            fico_range_high\n",
       "18             fico_range_low\n",
       "19                funded_amnt\n",
       "20            funded_amnt_inv\n",
       "21                      grade\n",
       "28             inq_last_6mths\n",
       "29                installment\n",
       "30                   int_rate\n",
       "31                    issue_d\n",
       "32         last_credit_pull_d\n",
       "33       last_fico_range_high\n",
       "34        last_fico_range_low\n",
       "37                  loan_amnt\n",
       "40                  member_id\n",
       "46     mths_since_last_delinq\n",
       "59       pub_rec_bankruptcies\n",
       "69               tot_coll_amt\n",
       "                                                                                                                                                                                                                                                                                                                                                                                                                                                                                                                                                                                                                                                                                                                                                                                                                                                                                                                                                                                                                                                                                                                                                                                                                                                                                                                                                                                                                                                                                                                                                                                    Description\n",
       "5                                                                                                                                                                                                                                                                                                                                                                                                                                                                                                                                                                                                                                                                                                                                                                                                                                                                                                                                                                                                                                                                                                                                                                                                                                                                                                                                                                                                                                                                                                                 The self-reported annual income provided by the borrower during registration.\n",
       "11                                                                                                                                                                                                                                                                                                                                                                                                                                                                                                                                                                                                                                                                                                                                                                                                                                                                                                                                                                                                                                                                                                                                                                                                                                                                                                                                                                                                                                                                                                                                                       Number of charge-offs within 12 months\n",
       "13                                                                                                                                                                                                                                                                                                                                                                                                                                                                                                                                                                                                                                                                                                                                                                                                                                                                                                                                                                                                                                                                                                                                                                                                                                                                                                                                                                                                                                                                                                                             Number of collections in 12 months excluding medical collections\n",
       "17                                                                                                                                                                                                                                                                                                                                                                                                                                                                                                                                                                                                                                                                                                                                                                                                                                                                                                                                                                                                                                                                                                                                                                                                                                                                                                                                                                                                                                                                                                                 The upper boundary range the borrower?s FICO at loan origination belongs to.\n",
       "18                                                                                                                                                                                                                                                                                                                                                                                                                                                                                                                                                                                                                                                                                                                                                                                                                                                                                                                                                                                                                                                                                                                                                                                                                                                                                                                                                                                                                                                                                                                 The lower boundary range the borrower?s FICO at loan origination belongs to.\n",
       "19                                                                                                                                                                                                                                                                                                                                                                                                                                                                                                                                                                                                                                                                                                                                                                                                                                                                                                                                                                                                                                                                                                                                                                                                                                                                                                                                                                                                                                                                                                                               The total amount committed to that loan at that point in time.\n",
       "20                                                                                                                                                                                                                                                                                                                                                                                                                                                                                                                                                                                                                                                                                                                                                                                                                                                                                                                                                                                                                                                                                                                                                                                                                                                                                                                                                                                                                                                                                                                 The total amount committed by investors for that loan at that point in time.\n",
       "21                                                                                                                                                                                                                                                                                                                                                                                                                                                                                                                                                                                                                                                                                                                                                                                                                                                                                                                                                                                                                                                                                                                                                                                                                                                                                                                                                                                                                                                                                                                                                                       LC assigned loan grade\n",
       "28                                                                                                                                                                                                                                                                                                                                                                                                                                                                                                                                                                                                                                                                                                                                                                                                                                                                                                                                                                                                                                                                                                                                                                                                                                                                                                                                                                                                                                                                                                             The number of inquiries in past 6 months (excluding auto and mortgage inquiries)\n",
       "29                                                                                                                                                                                                                                                                                                                                                                                                                                                                                                                                                                                                                                                                                                                                                                                                                                                                                                                                                                                                                                                                                                                                                                                                                                                                                                                                                                                                                                                                                                                             The monthly payment owed by the borrower if the loan originates.\n",
       "30                                                                                                                                                                                                                                                                                                                                                                                                                                                                                                                                                                                                                                                                                                                                                                                                                                                                                                                                                                                                                                                                                                                                                                                                                                                                                                                                                                                                                                                                                                                                                                    Interest Rate on the loan\n",
       "31                                                                                                                                                                                                                                                                                                                                                                                                                                                                                                                                                                                                                                                                                                                                                                                                                                                                                                                                                                                                                                                                                                                                                                                                                                                                                                                                                                                                                                                                                                                                                          The month which the loan was funded\n",
       "32                                                                                                                                                                                                                                                                                                                                                                                                                                                                                                                                                                                                                                                                                                                                                                                                                                                                                                                                                                                                                                                                                                                                                                                                                                                                                                                                                                                                                                                                                                                                         The most recent month LC pulled credit for this loan\n",
       "33                                                                                                                                                                                                                                                                                                                                                                                                                                                                                                                                                                                                                                                                                                                                                                                                                                                                                                                                                                                                                                                                                                                                                                                                                                                                                                                                                                                                                                                                                                                         The upper boundary range the borrower?s last FICO pulled belongs to.\n",
       "34                                                                                                                                                                                                                                                                                                                                                                                                                                                                                                                                                                                                                                                                                                                                                                                                                                                                                                                                                                                                                                                                                                                                                                                                                                                                                                                                                                                                                                                                                                                         The lower boundary range the borrower?s last FICO pulled belongs to.\n",
       "37                                                                                                                                                                                                                                                                                                                                                                                                                                                                                                                                                                                                                                                                                                                                                                                                                                                                                                                                                                                                                                                                                                                                                                                                                                                                                                                                                                                                                   The listed amount of the loan applied for by the borrower. If at some point in time the credit department reduces the loan amount then it will be reflected in this value.\n",
       "40                                                                                                                                                                                                                                                                                                                                                                                                                                                                                                                                                                                                                                                                                                                                                                                                                                                                                                                                                                                                                                                                                                                                                                                                                                                                                                                                                                                                                                                                                                                                             A unique LC assigned Id for the borrower member.\n",
       "46 The number of months since the borrowers last delinquency.\\nmths_since_last_major_derog,Months since most recent 90-day or worse rating\\nmths_since_last_record,The number of months since the last public record.\\nmths_since_rcnt_il,Months since most recent installment accounts opened\\nmths_since_recent_bc,Months since most recent bankcard account opened.\\nmths_since_recent_bc_dlq,Months since most recent bankcard delinquency\\nmths_since_recent_inq,Months since most recent inquiry.\\nmths_since_recent_revol_delinq,Months since most recent revolving delinquency.\\nnext_pymnt_d,Next scheduled payment date\\nnum_accts_ever_120_pd,Number of accounts ever 120 or more days past due\\nnum_actv_bc_tl,Number of currently active bankcard accounts\\nnum_actv_rev_tl,Number of currently active revolving trades\\nnum_bc_sats,Number of satisfactory bankcard accounts\\nnum_bc_tl,Number of bankcard accounts\\nnum_il_tl,Number of installment accounts\\nnum_op_rev_tl,Number of open revolving accounts\\nnum_rev_accts,Number of revolving accounts\\nnum_rev_tl_bal_gt_0,Number of revolving trades with balance >0\\nnum_sats,Number of satisfactory accounts\\nnum_tl_120dpd_2m,Number of accounts currently 120 days past due (updated in past 2 months)\\nnum_tl_30dpd,Number of accounts currently 30 days past due (updated in past 2 months)\\nnum_tl_90g_dpd_24m,Number of accounts 90 or more days past due in last 24 months\\nnum_tl_op_past_12m,Number of accounts opened in past 12 months\\nopen_acc,The number of open credit lines in the borrowers credit file.\n",
       "59                                                                                                                                                                                                                                                                                                                                                                                                                                                                                                                                                                                                                                                                                                                                                                                                                                                                                                                                                                                                                                                                                                                                                                                                                                                                                                                                                                                                                                                                                                                                                         Number of public record bankruptcies\n",
       "69                                                                                                                                                                                                                                                                                                                                                                                                                                                                                                                                                                                                                                                                                                                                                                                                                                                                                                                                                                                                                                                                                                                                                                                                                                                                                                                                                                                                                                                                                                                                                           Total collection amounts ever owed"
      ]
     },
     "metadata": {},
     "output_type": "display_data"
    }
   ],
   "source": [
    "dataDict <- read.table(\"LCDataDictionary.csv\", header = TRUE, sep=\",\")\n",
    "dataDict[which(dataDict$Feature %in% predictors(rfe.train)),]"
   ]
  },
  {
   "cell_type": "markdown",
   "metadata": {},
   "source": [
    "### Loan Approval Decision Process"
   ]
  },
  {
   "cell_type": "markdown",
   "metadata": {},
   "source": [
    "<img src=\"images/ctree.png\" style=\"width: 1000px;\"/>"
   ]
  },
  {
   "cell_type": "markdown",
   "metadata": {},
   "source": [
    "This decision tree above can be used to predict whether a potential borrower will or will not default on their loan. By starting at the top node of the tree and by following the decisions you eventually arrive at a probability of default or non-default (paid). By studying this tree we can glean some important insights:\n",
    "\n",
    "The last credit pull date (last_credit_pull_d) is an indicitive feature when sizing up a potential borrower. If a potential borrower has had a credit pull within 4 years and 7 months ago or earlier this is of significant concern. \n",
    "\n",
    "Overall the most indicitive feature for default is the high range of the last FICO score (last_fico_range_high). If last_fico_range_high is greater than 649 the probability of default is minimal. The only exception to that would be when the borrower has had a credit pull within the last 4 years and 7 months. Meanwhile, if last_fico_range_high is less than 649 and the last credit pull date is 4 years and 7 months ago or earlier, then the probability of default is about 60% or higher.\n",
    "\n",
    "The most dangerous potential borrower is someone with a last_fico_range_high of less than 545. Potential borrowers with such a low FICO score are at least 70% likely to default.\n",
    "\n",
    "NOTES:\n",
    "**This tree is based on the Conditional Inference Trees model generated above (see heading \"Visualize the Prediction Model Using Conditional Inference Trees (CTree)\"). It's performance measures are displayed below.**\n",
    "\n",
    "This tree has been compressed and does not show all of the possible decision points. This has been done for display purposes.  A larger more detailed tree can be generated for a more in-depth analysis.\n",
    "\n",
    "*Please note that 147000960 translates to Jan. 27, 2012 and since the data is current to Sept. 1, 2016, it roughly translates to 4 years and 7 months ago."
   ]
  },
  {
   "cell_type": "code",
   "execution_count": 222,
   "metadata": {
    "collapsed": false
   },
   "outputs": [
    {
     "data": {
      "text/plain": [
       "Confusion Matrix and Statistics\n",
       "\n",
       "          Reference\n",
       "Prediction  PAID DEFAULT\n",
       "   PAID    28636     936\n",
       "   DEFAULT  2039    4128\n",
       "                                          \n",
       "               Accuracy : 0.9168          \n",
       "                 95% CI : (0.9138, 0.9196)\n",
       "    No Information Rate : 0.8583          \n",
       "    P-Value [Acc > NIR] : < 2.2e-16       \n",
       "                                          \n",
       "                  Kappa : 0.6863          \n",
       " Mcnemar's Test P-Value : < 2.2e-16       \n",
       "                                          \n",
       "            Sensitivity : 0.9335          \n",
       "            Specificity : 0.8152          \n",
       "         Pos Pred Value : 0.9683          \n",
       "         Neg Pred Value : 0.6694          \n",
       "             Prevalence : 0.8583          \n",
       "         Detection Rate : 0.8013          \n",
       "   Detection Prevalence : 0.8274          \n",
       "      Balanced Accuracy : 0.8743          \n",
       "                                          \n",
       "       'Positive' Class : PAID            \n",
       "                                          "
      ]
     },
     "metadata": {},
     "output_type": "display_data"
    }
   ],
   "source": [
    "cm.ctree"
   ]
  },
  {
   "cell_type": "markdown",
   "metadata": {},
   "source": [
    "## Conclusion\n",
    "\n",
    "The purpose of this project is to determine the characteristics or features of a borrower which are important in determining their creditworthiness and create a framework by which a lender could examine those features and determine whether a potential borrower is or is not likely to default. The characteristics/features provided above help a lender determine what kind of data he or she needs to compile in order to screen potential borrowers. These features are listed under the **Important Features for Prediction** section above. Once the lender has gathered all of the data he or she will need a framework to make decisions. The framework provided in this project is the decision tree provided in the **Loan Approval Decision Process** section above. By following the decision and asking each question at each node in regards to a potential borrower, the lender will eventually arrive at general probability of default. With this information, he or she can decide on whether or not to issue the loan. If the boroower decide to lend, the potential rate of default can inform how much and at what interest rate would be appropriate. In addition to creating a decision process for each potential new borrower, the decision tree provides general insights and these can be used for making quick descisions.\n",
    "\n",
    "Overall the best performing classification model was Random Forests.  With an accuracy rate of almost 93%, it can be generally relied upon for consistently accurate predictions. "
   ]
  },
  {
   "cell_type": "markdown",
   "metadata": {},
   "source": [
    "#### Real Life Example\n",
    "In this section I am going to take the important characteristics/features from a few individual borrowers in the Lending Club dataset and make a predictions using the Random Forest-Post RFE model."
   ]
  },
  {
   "cell_type": "code",
   "execution_count": 247,
   "metadata": {
    "collapsed": false
   },
   "outputs": [
    {
     "data": {
      "text/html": [
       "<ol class=list-inline>\n",
       "\t<li>0</li>\n",
       "\t<li>0</li>\n",
       "\t<li>0</li>\n",
       "\t<li>1</li>\n",
       "\t<li>0</li>\n",
       "\t<li>0</li>\n",
       "\t<li>0</li>\n",
       "\t<li>0</li>\n",
       "\t<li>0</li>\n",
       "\t<li>0</li>\n",
       "\t<li>0</li>\n",
       "\t<li>0</li>\n",
       "\t<li>0</li>\n",
       "\t<li>0</li>\n",
       "\t<li>0</li>\n",
       "</ol>\n"
      ],
      "text/latex": [
       "\\begin{enumerate*}\n",
       "\\item 0\n",
       "\\item 0\n",
       "\\item 0\n",
       "\\item 1\n",
       "\\item 0\n",
       "\\item 0\n",
       "\\item 0\n",
       "\\item 0\n",
       "\\item 0\n",
       "\\item 0\n",
       "\\item 0\n",
       "\\item 0\n",
       "\\item 0\n",
       "\\item 0\n",
       "\\item 0\n",
       "\\end{enumerate*}\n"
      ],
      "text/markdown": [
       "1. 0\n",
       "2. 0\n",
       "3. 0\n",
       "4. 1\n",
       "5. 0\n",
       "6. 0\n",
       "7. 0\n",
       "8. 0\n",
       "9. 0\n",
       "10. 0\n",
       "11. 0\n",
       "12. 0\n",
       "13. 0\n",
       "14. 0\n",
       "15. 0\n",
       "\n",
       "\n"
      ],
      "text/plain": [
       " [1] 0 0 0 1 0 0 0 0 0 0 0 0 0 0 0"
      ]
     },
     "metadata": {},
     "output_type": "display_data"
    },
    {
     "data": {
      "text/html": [
       "<table>\n",
       "<thead><tr><th></th><th scope=col>annual_inc</th><th scope=col>inq_last_6mths</th><th scope=col>mths_since_last_delinq</th><th scope=col>mths_since_last_record</th><th scope=col>collections_12_mths_ex_med</th><th scope=col>tot_coll_amt</th><th scope=col>chargeoff_within_12_mths</th><th scope=col>num_tl_120dpd_2m</th><th scope=col>num_tl_30dpd</th><th scope=col>pub_rec_bankruptcies</th><th scope=col>...</th><th scope=col>grade</th><th scope=col>issue_d</th><th scope=col>dti</th><th scope=col>fico_range_low</th><th scope=col>fico_range_high</th><th scope=col>last_credit_pull_d</th><th scope=col>last_fico_range_high</th><th scope=col>last_fico_range_low</th><th scope=col>default</th><th scope=col>default.pred</th></tr></thead>\n",
       "<tbody>\n",
       "\t<tr><th scope=row>149723</th><td>220000          </td><td>3               </td><td>36.1423584259484</td><td>74.666935483871 </td><td>0               </td><td>0               </td><td>0               </td><td>0               </td><td>0               </td><td>0               </td><td>...             </td><td>C               </td><td>1349049600      </td><td>2.99            </td><td>730             </td><td>734             </td><td>1472688000      </td><td>744             </td><td>740             </td><td>0               </td><td>0               </td></tr>\n",
       "\t<tr><th scope=row>140431</th><td>110000          </td><td>0               </td><td>36.1423584259484</td><td>74.666935483871 </td><td>0               </td><td>0               </td><td>0               </td><td>0               </td><td>0               </td><td>0               </td><td>...             </td><td>B               </td><td>1351728000      </td><td>13.54           </td><td>705             </td><td>709             </td><td>1472688000      </td><td>709             </td><td>705             </td><td>0               </td><td>0               </td></tr>\n",
       "\t<tr><th scope=row>139936</th><td>27400           </td><td>0               </td><td>36.1423584259484</td><td>74.666935483871 </td><td>0               </td><td>0               </td><td>0               </td><td>0               </td><td>0               </td><td>0               </td><td>...             </td><td>A               </td><td>1354320000      </td><td>19.09           </td><td>720             </td><td>724             </td><td>1448928000      </td><td>704             </td><td>700             </td><td>0               </td><td>0               </td></tr>\n",
       "\t<tr><th scope=row>28102</th><td>63624               </td><td>1                   </td><td>51                  </td><td>74.666935483871     </td><td>0                   </td><td>57.5087778735986    </td><td>0                   </td><td>0.000277196008377479</td><td>0.000615991129727732</td><td>0                   </td><td>...                 </td><td>D                   </td><td>1277942400          </td><td>5.68                </td><td>700                 </td><td>704                 </td><td>1472688000          </td><td>574                 </td><td>570                 </td><td>1                   </td><td>1                   </td></tr>\n",
       "\t<tr><th scope=row>178953</th><td>125000              </td><td>2                   </td><td>65                  </td><td>74.666935483871     </td><td>0                   </td><td>57.5087778735986    </td><td>0                   </td><td>0.000277196008377479</td><td>0.000615991129727732</td><td>0                   </td><td>...                 </td><td>C                   </td><td>1333238400          </td><td>11.91               </td><td>695                 </td><td>699                 </td><td>1427846400          </td><td>784                 </td><td>780                 </td><td>0                   </td><td>0                   </td></tr>\n",
       "\t<tr><th scope=row>151295</th><td>9500            </td><td>1               </td><td>36.1423584259484</td><td>74.666935483871 </td><td>0               </td><td>0               </td><td>0               </td><td>0               </td><td>0               </td><td>0               </td><td>...             </td><td>B               </td><td>1349049600      </td><td>32.08           </td><td>690             </td><td>694             </td><td>1472688000      </td><td>559             </td><td>555             </td><td>0               </td><td>1               </td></tr>\n",
       "\t<tr><th scope=row>157579</th><td>40000           </td><td>0               </td><td>36.1423584259484</td><td>74.666935483871 </td><td>0               </td><td>0               </td><td>0               </td><td>0               </td><td>0               </td><td>0               </td><td>...             </td><td>A               </td><td>1346457600      </td><td>20.28           </td><td>725             </td><td>729             </td><td>1472688000      </td><td>694             </td><td>690             </td><td>0               </td><td>0               </td></tr>\n",
       "\t<tr><th scope=row>9353</th><td>90000               </td><td>0                   </td><td>36.1423584259484    </td><td>74.666935483871     </td><td>0                   </td><td>57.5087778735986    </td><td>0                   </td><td>0.000277196008377479</td><td>0.000615991129727732</td><td>0                   </td><td>...                 </td><td>A                   </td><td>1312156800          </td><td>5.6                 </td><td>740                 </td><td>744                 </td><td>1472688000          </td><td>774                 </td><td>770                 </td><td>0                   </td><td>0                   </td></tr>\n",
       "\t<tr><th scope=row>145843</th><td>33600               </td><td>3                   </td><td>47                  </td><td>74.666935483871     </td><td>0                   </td><td>57.5087778735986    </td><td>0                   </td><td>0.000277196008377479</td><td>0.000615991129727732</td><td>0                   </td><td>...                 </td><td>C                   </td><td>1304208000          </td><td>18.11               </td><td>690                 </td><td>694                 </td><td>1383264000          </td><td>684                 </td><td>680                 </td><td>0                   </td><td>0                   </td></tr>\n",
       "\t<tr><th scope=row>38909</th><td>48000               </td><td>0                   </td><td>75                  </td><td>74.666935483871     </td><td>0                   </td><td>57.5087778735986    </td><td>0                   </td><td>0.000277196008377479</td><td>0.000615991129727732</td><td>0                   </td><td>...                 </td><td>B                   </td><td>1204329600          </td><td>17.65               </td><td>710                 </td><td>714                 </td><td>1443657600          </td><td>794                 </td><td>790                 </td><td>0                   </td><td>0                   </td></tr>\n",
       "\t<tr><th scope=row>2690</th><td>250000              </td><td>0                   </td><td>36.1423584259484    </td><td>74.666935483871     </td><td>0                   </td><td>57.5087778735986    </td><td>0                   </td><td>0.000277196008377479</td><td>0.000615991129727732</td><td>0                   </td><td>...                 </td><td>C                   </td><td>1320105600          </td><td>10.78               </td><td>710                 </td><td>714                 </td><td>1472688000          </td><td>714                 </td><td>710                 </td><td>0                   </td><td>0                   </td></tr>\n",
       "\t<tr><th scope=row>157620</th><td>32000           </td><td>0               </td><td>36.1423584259484</td><td>74.666935483871 </td><td>0               </td><td>0               </td><td>0               </td><td>0               </td><td>0               </td><td>0               </td><td>...             </td><td>B               </td><td>1346457600      </td><td>17.55           </td><td>685             </td><td>689             </td><td>1448928000      </td><td>674             </td><td>670             </td><td>0               </td><td>0               </td></tr>\n",
       "\t<tr><th scope=row>37277</th><td>54480               </td><td>0                   </td><td>30                  </td><td>112                 </td><td>0                   </td><td>57.5087778735986    </td><td>0                   </td><td>0.000277196008377479</td><td>0.000615991129727732</td><td>1                   </td><td>...                 </td><td>B                   </td><td>1235865600          </td><td>21.54               </td><td>730                 </td><td>734                 </td><td>1333238400          </td><td>499                 </td><td>0                   </td><td>0                   </td><td>0                   </td></tr>\n",
       "\t<tr><th scope=row>33701</th><td>50000               </td><td>1                   </td><td>36.1423584259484    </td><td>74.666935483871     </td><td>0                   </td><td>57.5087778735986    </td><td>0                   </td><td>0.000277196008377479</td><td>0.000615991129727732</td><td>0                   </td><td>...                 </td><td>B                   </td><td>1259625600          </td><td>14.83               </td><td>690                 </td><td>694                 </td><td>1438387200          </td><td>719                 </td><td>715                 </td><td>0                   </td><td>0                   </td></tr>\n",
       "\t<tr><th scope=row>184238</th><td>55000               </td><td>1                   </td><td>36.1423584259484    </td><td>74.666935483871     </td><td>0                   </td><td>57.5087778735986    </td><td>0                   </td><td>0.000277196008377479</td><td>0.000615991129727732</td><td>0                   </td><td>...                 </td><td>A                   </td><td>1328054400          </td><td>10.31               </td><td>740                 </td><td>744                 </td><td>1422748800          </td><td>669                 </td><td>665                 </td><td>0                   </td><td>0                   </td></tr>\n",
       "</tbody>\n",
       "</table>\n"
      ],
      "text/latex": [
       "\\begin{tabular}{r|llllllllllllllllllllllllll}\n",
       "  & annual\\_inc & inq\\_last\\_6mths & mths\\_since\\_last\\_delinq & mths\\_since\\_last\\_record & collections\\_12\\_mths\\_ex\\_med & tot\\_coll\\_amt & chargeoff\\_within\\_12\\_mths & num\\_tl\\_120dpd\\_2m & num\\_tl\\_30dpd & pub\\_rec\\_bankruptcies & ... & grade & issue\\_d & dti & fico\\_range\\_low & fico\\_range\\_high & last\\_credit\\_pull\\_d & last\\_fico\\_range\\_high & last\\_fico\\_range\\_low & default & default.pred\\\\\n",
       "\\hline\n",
       "\t149723 & 220000           & 3                & 36.1423584259484 & 74.666935483871  & 0                & 0                & 0                & 0                & 0                & 0                & ...              & C                & 1349049600       & 2.99             & 730              & 734              & 1472688000       & 744              & 740              & 0                & 0               \\\\\n",
       "\t140431 & 110000           & 0                & 36.1423584259484 & 74.666935483871  & 0                & 0                & 0                & 0                & 0                & 0                & ...              & B                & 1351728000       & 13.54            & 705              & 709              & 1472688000       & 709              & 705              & 0                & 0               \\\\\n",
       "\t139936 & 27400            & 0                & 36.1423584259484 & 74.666935483871  & 0                & 0                & 0                & 0                & 0                & 0                & ...              & A                & 1354320000       & 19.09            & 720              & 724              & 1448928000       & 704              & 700              & 0                & 0               \\\\\n",
       "\t28102 & 63624                & 1                    & 51                   & 74.666935483871      & 0                    & 57.5087778735986     & 0                    & 0.000277196008377479 & 0.000615991129727732 & 0                    & ...                  & D                    & 1277942400           & 5.68                 & 700                  & 704                  & 1472688000           & 574                  & 570                  & 1                    & 1                   \\\\\n",
       "\t178953 & 125000               & 2                    & 65                   & 74.666935483871      & 0                    & 57.5087778735986     & 0                    & 0.000277196008377479 & 0.000615991129727732 & 0                    & ...                  & C                    & 1333238400           & 11.91                & 695                  & 699                  & 1427846400           & 784                  & 780                  & 0                    & 0                   \\\\\n",
       "\t151295 & 9500             & 1                & 36.1423584259484 & 74.666935483871  & 0                & 0                & 0                & 0                & 0                & 0                & ...              & B                & 1349049600       & 32.08            & 690              & 694              & 1472688000       & 559              & 555              & 0                & 1               \\\\\n",
       "\t157579 & 40000            & 0                & 36.1423584259484 & 74.666935483871  & 0                & 0                & 0                & 0                & 0                & 0                & ...              & A                & 1346457600       & 20.28            & 725              & 729              & 1472688000       & 694              & 690              & 0                & 0               \\\\\n",
       "\t9353 & 90000                & 0                    & 36.1423584259484     & 74.666935483871      & 0                    & 57.5087778735986     & 0                    & 0.000277196008377479 & 0.000615991129727732 & 0                    & ...                  & A                    & 1312156800           & 5.6                  & 740                  & 744                  & 1472688000           & 774                  & 770                  & 0                    & 0                   \\\\\n",
       "\t145843 & 33600                & 3                    & 47                   & 74.666935483871      & 0                    & 57.5087778735986     & 0                    & 0.000277196008377479 & 0.000615991129727732 & 0                    & ...                  & C                    & 1304208000           & 18.11                & 690                  & 694                  & 1383264000           & 684                  & 680                  & 0                    & 0                   \\\\\n",
       "\t38909 & 48000                & 0                    & 75                   & 74.666935483871      & 0                    & 57.5087778735986     & 0                    & 0.000277196008377479 & 0.000615991129727732 & 0                    & ...                  & B                    & 1204329600           & 17.65                & 710                  & 714                  & 1443657600           & 794                  & 790                  & 0                    & 0                   \\\\\n",
       "\t2690 & 250000               & 0                    & 36.1423584259484     & 74.666935483871      & 0                    & 57.5087778735986     & 0                    & 0.000277196008377479 & 0.000615991129727732 & 0                    & ...                  & C                    & 1320105600           & 10.78                & 710                  & 714                  & 1472688000           & 714                  & 710                  & 0                    & 0                   \\\\\n",
       "\t157620 & 32000            & 0                & 36.1423584259484 & 74.666935483871  & 0                & 0                & 0                & 0                & 0                & 0                & ...              & B                & 1346457600       & 17.55            & 685              & 689              & 1448928000       & 674              & 670              & 0                & 0               \\\\\n",
       "\t37277 & 54480                & 0                    & 30                   & 112                  & 0                    & 57.5087778735986     & 0                    & 0.000277196008377479 & 0.000615991129727732 & 1                    & ...                  & B                    & 1235865600           & 21.54                & 730                  & 734                  & 1333238400           & 499                  & 0                    & 0                    & 0                   \\\\\n",
       "\t33701 & 50000                & 1                    & 36.1423584259484     & 74.666935483871      & 0                    & 57.5087778735986     & 0                    & 0.000277196008377479 & 0.000615991129727732 & 0                    & ...                  & B                    & 1259625600           & 14.83                & 690                  & 694                  & 1438387200           & 719                  & 715                  & 0                    & 0                   \\\\\n",
       "\t184238 & 55000                & 1                    & 36.1423584259484     & 74.666935483871      & 0                    & 57.5087778735986     & 0                    & 0.000277196008377479 & 0.000615991129727732 & 0                    & ...                  & A                    & 1328054400           & 10.31                & 740                  & 744                  & 1422748800           & 669                  & 665                  & 0                    & 0                   \\\\\n",
       "\\end{tabular}\n"
      ],
      "text/plain": [
       "       annual_inc inq_last_6mths mths_since_last_delinq mths_since_last_record\n",
       "149723     220000              3               36.14236               74.66694\n",
       "140431     110000              0               36.14236               74.66694\n",
       "139936      27400              0               36.14236               74.66694\n",
       "28102       63624              1               51.00000               74.66694\n",
       "178953     125000              2               65.00000               74.66694\n",
       "151295       9500              1               36.14236               74.66694\n",
       "157579      40000              0               36.14236               74.66694\n",
       "9353        90000              0               36.14236               74.66694\n",
       "145843      33600              3               47.00000               74.66694\n",
       "38909       48000              0               75.00000               74.66694\n",
       "2690       250000              0               36.14236               74.66694\n",
       "157620      32000              0               36.14236               74.66694\n",
       "37277       54480              0               30.00000              112.00000\n",
       "33701       50000              1               36.14236               74.66694\n",
       "184238      55000              1               36.14236               74.66694\n",
       "       collections_12_mths_ex_med tot_coll_amt chargeoff_within_12_mths\n",
       "149723                          0      0.00000                        0\n",
       "140431                          0      0.00000                        0\n",
       "139936                          0      0.00000                        0\n",
       "28102                           0     57.50878                        0\n",
       "178953                          0     57.50878                        0\n",
       "151295                          0      0.00000                        0\n",
       "157579                          0      0.00000                        0\n",
       "9353                            0     57.50878                        0\n",
       "145843                          0     57.50878                        0\n",
       "38909                           0     57.50878                        0\n",
       "2690                            0     57.50878                        0\n",
       "157620                          0      0.00000                        0\n",
       "37277                           0     57.50878                        0\n",
       "33701                           0     57.50878                        0\n",
       "184238                          0     57.50878                        0\n",
       "       num_tl_120dpd_2m num_tl_30dpd pub_rec_bankruptcies ... grade    issue_d\n",
       "149723      0.000000000 0.0000000000                    0 ...     C 1349049600\n",
       "140431      0.000000000 0.0000000000                    0 ...     B 1351728000\n",
       "139936      0.000000000 0.0000000000                    0 ...     A 1354320000\n",
       "28102       0.000277196 0.0006159911                    0 ...     D 1277942400\n",
       "178953      0.000277196 0.0006159911                    0 ...     C 1333238400\n",
       "151295      0.000000000 0.0000000000                    0 ...     B 1349049600\n",
       "157579      0.000000000 0.0000000000                    0 ...     A 1346457600\n",
       "9353        0.000277196 0.0006159911                    0 ...     A 1312156800\n",
       "145843      0.000277196 0.0006159911                    0 ...     C 1304208000\n",
       "38909       0.000277196 0.0006159911                    0 ...     B 1204329600\n",
       "2690        0.000277196 0.0006159911                    0 ...     C 1320105600\n",
       "157620      0.000000000 0.0000000000                    0 ...     B 1346457600\n",
       "37277       0.000277196 0.0006159911                    1 ...     B 1235865600\n",
       "33701       0.000277196 0.0006159911                    0 ...     B 1259625600\n",
       "184238      0.000277196 0.0006159911                    0 ...     A 1328054400\n",
       "         dti fico_range_low fico_range_high last_credit_pull_d\n",
       "149723  2.99            730             734         1472688000\n",
       "140431 13.54            705             709         1472688000\n",
       "139936 19.09            720             724         1448928000\n",
       "28102   5.68            700             704         1472688000\n",
       "178953 11.91            695             699         1427846400\n",
       "151295 32.08            690             694         1472688000\n",
       "157579 20.28            725             729         1472688000\n",
       "9353    5.60            740             744         1472688000\n",
       "145843 18.11            690             694         1383264000\n",
       "38909  17.65            710             714         1443657600\n",
       "2690   10.78            710             714         1472688000\n",
       "157620 17.55            685             689         1448928000\n",
       "37277  21.54            730             734         1333238400\n",
       "33701  14.83            690             694         1438387200\n",
       "184238 10.31            740             744         1422748800\n",
       "       last_fico_range_high last_fico_range_low default default.pred\n",
       "149723                  744                 740       0            0\n",
       "140431                  709                 705       0            0\n",
       "139936                  704                 700       0            0\n",
       "28102                   574                 570       1            1\n",
       "178953                  784                 780       0            0\n",
       "151295                  559                 555       0            1\n",
       "157579                  694                 690       0            0\n",
       "9353                    774                 770       0            0\n",
       "145843                  684                 680       0            0\n",
       "38909                   794                 790       0            0\n",
       "2690                    714                 710       0            0\n",
       "157620                  674                 670       0            0\n",
       "37277                   499                   0       0            0\n",
       "33701                   719                 715       0            0\n",
       "184238                  669                 665       0            0"
      ]
     },
     "metadata": {},
     "output_type": "display_data"
    }
   ],
   "source": [
    "lc_tiny_test <- lending_club.test[sample(nrow(lending_club.test),15),1:80]\n",
    "\n",
    "lc_tiny_test$default.pred <- predict(rf.fit.opt,lc_tiny_test)\n",
    "\n",
    "lc_tiny_test <- cbind(lc_tiny_test[,which(colnames(lc_tiny_test) %in% predictors(rfe.train))],\n",
    "                      default=lc_tiny_test[,80], default.pred=lc_tiny_test[,81])\n",
    "lc_tiny_test"
   ]
  },
  {
   "cell_type": "markdown",
   "metadata": {},
   "source": [
    "### Appendix A - Data Dictionary"
   ]
  },
  {
   "cell_type": "code",
   "execution_count": 217,
   "metadata": {
    "collapsed": false
   },
   "outputs": [
    {
     "data": {
      "text/html": [
       "<table>\n",
       "<thead><tr><th></th><th scope=col>Feature</th><th scope=col>Description</th></tr></thead>\n",
       "<tbody>\n",
       "\t<tr><th scope=row>1</th><td>acc_now_delinq                                                 </td><td>The number of accounts on which the borrower is now delinquent.</td></tr>\n",
       "\t<tr><th scope=row>2</th><td>acc_open_past_24mths                      </td><td>Number of trades opened in past 24 months.</td></tr>\n",
       "\t<tr><th scope=row>3</th><td>addr_state                                                </td><td>The state provided by the borrower in the loan application</td></tr>\n",
       "\t<tr><th scope=row>4</th><td>all_util                             </td><td>Balance to credit limit on all trades</td></tr>\n",
       "\t<tr><th scope=row>5</th><td>annual_inc                                                                   </td><td>The self-reported annual income provided by the borrower during registration.</td></tr>\n",
       "\t<tr><th scope=row>6</th><td>annual_inc_joint                                                                         </td><td>The combined self-reported annual income provided by the co-borrowers during registration</td></tr>\n",
       "\t<tr><th scope=row>7</th><td>application_type                                                                                    </td><td>Indicates whether the loan is an individual application or a joint application with two co-borrowers</td></tr>\n",
       "\t<tr><th scope=row>8</th><td>avg_cur_bal                            </td><td>Average current balance of all accounts</td></tr>\n",
       "\t<tr><th scope=row>9</th><td>bc_open_to_buy                           </td><td>Total open to buy on revolving bankcards.</td></tr>\n",
       "\t<tr><th scope=row>10</th><td>bc_util                                                                              </td><td>Ratio of total current balance to high credit/credit limit for all bankcard accounts.</td></tr>\n",
       "\t<tr><th scope=row>11</th><td>chargeoff_within_12_mths              </td><td>Number of charge-offs within 12 months</td></tr>\n",
       "\t<tr><th scope=row>12</th><td>collection_recovery_fee       </td><td>post charge off collection fee</td></tr>\n",
       "\t<tr><th scope=row>13</th><td>collections_12_mths_ex_med                                      </td><td>Number of collections in 12 months excluding medical collections</td></tr>\n",
       "\t<tr><th scope=row>14</th><td>delinq_2yrs                                                                                                                                                                                                                                                                                                                                                                                                                                                                                                                                                                                                                                                                                                                                                                         </td><td>The number of 30+ days past-due incidences of delinquency in the borrowers credit file for the past 2 years\n",
       "delinq_amnt,The past-due amount owed for the accounts on which the borrower is now delinquent.\n",
       "desc,Loan description provided by the borrower\n",
       "dti,A ratio calculated using the borrower?s total monthly debt payments on the total debt obligations excluding mortgage and the requested LC loan divided by the borrower?s self-reported monthly income.\n",
       "dti_joint,A ratio calculated using the co-borrowers total monthly payments on the total debt obligations excluding mortgages and the requested LC loan divided by the co-borrowers combined self-reported monthly income\n",
       "earliest_cr_line,The month the borrowers earliest reported credit line was opened</td></tr>\n",
       "\t<tr><th scope=row>15</th><td>emp_length                                                                                                                        </td><td>Employment length in years. Possible values are between 0 and 10 where 0 means less than one year and 10 means ten or more years. </td></tr>\n",
       "\t<tr><th scope=row>16</th><td>emp_title                                                          </td><td>The job title supplied by the Borrower when applying for the loan.*</td></tr>\n",
       "\t<tr><th scope=row>17</th><td>fico_range_high                                                             </td><td>The upper boundary range the borrower?s FICO at loan origination belongs to.</td></tr>\n",
       "\t<tr><th scope=row>18</th><td>fico_range_low                                                              </td><td>The lower boundary range the borrower?s FICO at loan origination belongs to.</td></tr>\n",
       "\t<tr><th scope=row>19</th><td>funded_amnt                                                   </td><td>The total amount committed to that loan at that point in time.</td></tr>\n",
       "\t<tr><th scope=row>20</th><td>funded_amnt_inv                                                             </td><td>The total amount committed by investors for that loan at that point in time.</td></tr>\n",
       "\t<tr><th scope=row>21</th><td>grade                 </td><td>LC assigned loan grade</td></tr>\n",
       "\t<tr><th scope=row>22</th><td>home_ownership                                                                                                  </td><td>The home ownership status provided by the borrower during registration. Our values are: RENT OWN MORTGAGE OTHER.</td></tr>\n",
       "\t<tr><th scope=row>23</th><td>id                                           </td><td>A unique LC assigned ID for the loan listing.</td></tr>\n",
       "\t<tr><th scope=row>24</th><td>il_util                                                                       </td><td>Ratio of total current balance to high credit/credit limit on all install acct</td></tr>\n",
       "\t<tr><th scope=row>25</th><td>initial_list_status                                              </td><td>The initial listing status of the loan. Possible values are ? W F</td></tr>\n",
       "\t<tr><th scope=row>26</th><td>inq_fi                              </td><td>Number of personal finance inquiries</td></tr>\n",
       "\t<tr><th scope=row>27</th><td>inq_last_12m                                </td><td>Number of credit inquiries in past 12 months</td></tr>\n",
       "\t<tr><th scope=row>28</th><td>inq_last_6mths                                                                  </td><td>The number of inquiries in past 6 months (excluding auto and mortgage inquiries)</td></tr>\n",
       "\t<tr><th scope=row>29</th><td>installment                                                     </td><td>The monthly payment owed by the borrower if the loan originates.</td></tr>\n",
       "\t<tr><th scope=row>30</th><td>int_rate                 </td><td>Interest Rate on the loan</td></tr>\n",
       "\t<tr><th scope=row>...</th><td>...</td><td>...</td></tr>\n",
       "\t<tr><th scope=row>44</th><td>mo_sin_rcnt_tl                         </td><td>Months since most recent account opened</td></tr>\n",
       "\t<tr><th scope=row>45</th><td>mort_acc                    </td><td>Number of mortgage accounts.</td></tr>\n",
       "\t<tr><th scope=row>46</th><td>mths_since_last_delinq                                                                                                                                                                                                                                                                                                                                                                                                                                                                                                                                                                                                                                                                                                                                                                                                                                                                                                                                                                                                                                                                                                                                                                                                                                                                                                                                                                                                                                                                                                                                                                         </td><td>The number of months since the borrowers last delinquency.\n",
       "mths_since_last_major_derog,Months since most recent 90-day or worse rating\n",
       "mths_since_last_record,The number of months since the last public record.\n",
       "mths_since_rcnt_il,Months since most recent installment accounts opened\n",
       "mths_since_recent_bc,Months since most recent bankcard account opened.\n",
       "mths_since_recent_bc_dlq,Months since most recent bankcard delinquency\n",
       "mths_since_recent_inq,Months since most recent inquiry.\n",
       "mths_since_recent_revol_delinq,Months since most recent revolving delinquency.\n",
       "next_pymnt_d,Next scheduled payment date\n",
       "num_accts_ever_120_pd,Number of accounts ever 120 or more days past due\n",
       "num_actv_bc_tl,Number of currently active bankcard accounts\n",
       "num_actv_rev_tl,Number of currently active revolving trades\n",
       "num_bc_sats,Number of satisfactory bankcard accounts\n",
       "num_bc_tl,Number of bankcard accounts\n",
       "num_il_tl,Number of installment accounts\n",
       "num_op_rev_tl,Number of open revolving accounts\n",
       "num_rev_accts,Number of revolving accounts\n",
       "num_rev_tl_bal_gt_0,Number of revolving trades with balance &gt;0\n",
       "num_sats,Number of satisfactory accounts\n",
       "num_tl_120dpd_2m,Number of accounts currently 120 days past due (updated in past 2 months)\n",
       "num_tl_30dpd,Number of accounts currently 30 days past due (updated in past 2 months)\n",
       "num_tl_90g_dpd_24m,Number of accounts 90 or more days past due in last 24 months\n",
       "num_tl_op_past_12m,Number of accounts opened in past 12 months\n",
       "open_acc,The number of open credit lines in the borrowers credit file.</td></tr>\n",
       "\t<tr><th scope=row>47</th><td>open_acc_6m                           </td><td>Number of open trades in last 6 months</td></tr>\n",
       "\t<tr><th scope=row>48</th><td>open_il_12m                                            </td><td>Number of installment accounts opened in past 12 months</td></tr>\n",
       "\t<tr><th scope=row>49</th><td>open_il_24m                                            </td><td>Number of installment accounts opened in past 24 months</td></tr>\n",
       "\t<tr><th scope=row>50</th><td>open_il_6m                                   </td><td>Number of currently active installment trades</td></tr>\n",
       "\t<tr><th scope=row>51</th><td>open_rv_12m                                        </td><td>Number of revolving trades opened in past 12 months</td></tr>\n",
       "\t<tr><th scope=row>52</th><td>open_rv_24m                                        </td><td>Number of revolving trades opened in past 24 months</td></tr>\n",
       "\t<tr><th scope=row>53</th><td>out_prncp                                              </td><td>Remaining outstanding principal for total amount funded</td></tr>\n",
       "\t<tr><th scope=row>54</th><td>out_prncp_inv                                                                  </td><td>Remaining outstanding principal for portion of total amount funded by investors</td></tr>\n",
       "\t<tr><th scope=row>55</th><td>pct_tl_nvr_dlq                    </td><td>Percent of trades never delinquent</td></tr>\n",
       "\t<tr><th scope=row>56</th><td>percent_bc_gt_75                                      </td><td>Percentage of all bankcard accounts &gt; 75% of limit.</td></tr>\n",
       "\t<tr><th scope=row>57</th><td>policy_code                                                                        </td><td>publicly available policy_code=1\n",
       "new products not publicly available policy_code=2</td></tr>\n",
       "\t<tr><th scope=row>58</th><td>pub_rec                            </td><td>Number of derogatory public records</td></tr>\n",
       "\t<tr><th scope=row>59</th><td>pub_rec_bankruptcies                </td><td>Number of public record bankruptcies</td></tr>\n",
       "\t<tr><th scope=row>60</th><td>purpose                                                   </td><td>A category provided by the borrower for the loan request. </td></tr>\n",
       "\t<tr><th scope=row>61</th><td>pymnt_plan                                                    </td><td>Indicates if a payment plan has been put in place for the loan</td></tr>\n",
       "\t<tr><th scope=row>62</th><td>recoveries                    </td><td>post charge off gross recovery</td></tr>\n",
       "\t<tr><th scope=row>63</th><td>revol_bal                     </td><td>Total credit revolving balance</td></tr>\n",
       "\t<tr><th scope=row>64</th><td>revol_util                                                                                                               </td><td>Revolving line utilization rate or the amount of credit the borrower is using relative to all available revolving credit.</td></tr>\n",
       "\t<tr><th scope=row>65</th><td>sub_grade                </td><td>LC assigned loan subgrade</td></tr>\n",
       "\t<tr><th scope=row>66</th><td>tax_liens          </td><td>Number of tax liens</td></tr>\n",
       "\t<tr><th scope=row>67</th><td>term                                                                                </td><td>The number of payments on the loan. Values are in months and can be either 36 or 60.</td></tr>\n",
       "\t<tr><th scope=row>68</th><td>title                                  </td><td>The loan title provided by the borrower</td></tr>\n",
       "\t<tr><th scope=row>69</th><td>tot_coll_amt                      </td><td>Total collection amounts ever owed</td></tr>\n",
       "\t<tr><th scope=row>70</th><td>tot_cur_bal                          </td><td>Total current balance of all accounts</td></tr>\n",
       "\t<tr><th scope=row>71</th><td>tot_hi_cred_lim               </td><td>Total high credit/credit limit</td></tr>\n",
       "\t<tr><th scope=row>72</th><td>total_acc                                                                                                                                                                                                                                                                                                                                                                                                                                                                                                                                                                                                                                                                                                                                                                                                                                                                                                                                                                                                                          </td><td>The total number of credit lines currently in the borrowers credit file\n",
       "total_bal_ex_mort,Total credit balance excluding mortgage\n",
       "total_bal_il,Total current balance of all installment accounts\n",
       "total_bc_limit,Total bankcard high credit/credit limit\n",
       "total_cu_tl,Number of finance trades\n",
       "total_il_high_credit_limit,Total installment high credit/credit limit\n",
       "total_pymnt,Payments received to date for total amount funded\n",
       "total_pymnt_inv,Payments received to date for portion of total amount funded by investors\n",
       "total_rec_int,Interest received to date\n",
       "total_rec_late_fee,Late fees received to date\n",
       "total_rec_prncp,Principal received to date\n",
       "total_rev_hi_lim ÿ,Total revolving high credit/credit limit\n",
       "url,URL for the LC page with listing data.\n",
       "verification_status,Indicates if income was verified by LC not verified or if the income source was verified\n",
       "verified_status_joint,Indicates if the co-borrowers joint income was verified by LC not verified or if the income source was verified</td></tr>\n",
       "\t<tr><th scope=row>73</th><td>zip_code                                                                             </td><td>The first 3 numbers of the zip code provided by the borrower in the loan application.</td></tr>\n",
       "</tbody>\n",
       "</table>\n"
      ],
      "text/latex": [
       "\\begin{tabular}{r|ll}\n",
       "  & Feature & Description\\\\\n",
       "\\hline\n",
       "\t1 & acc\\_now\\_delinq                                              & The number of accounts on which the borrower is now delinquent.\\\\\n",
       "\t2 & acc\\_open\\_past\\_24mths                 & Number of trades opened in past 24 months.\\\\\n",
       "\t3 & addr\\_state                                               & The state provided by the borrower in the loan application\\\\\n",
       "\t4 & all\\_util                            & Balance to credit limit on all trades\\\\\n",
       "\t5 & annual\\_inc                                                                  & The self-reported annual income provided by the borrower during registration.\\\\\n",
       "\t6 & annual\\_inc\\_joint                                                                      & The combined self-reported annual income provided by the co-borrowers during registration\\\\\n",
       "\t7 & application\\_type                                                                                   & Indicates whether the loan is an individual application or a joint application with two co-borrowers\\\\\n",
       "\t8 & avg\\_cur\\_bal                         & Average current balance of all accounts\\\\\n",
       "\t9 & bc\\_open\\_to\\_buy                      & Total open to buy on revolving bankcards.\\\\\n",
       "\t10 & bc\\_util                                                                             & Ratio of total current balance to high credit/credit limit for all bankcard accounts.\\\\\n",
       "\t11 & chargeoff\\_within\\_12\\_mths         & Number of charge-offs within 12 months\\\\\n",
       "\t12 & collection\\_recovery\\_fee    & post charge off collection fee\\\\\n",
       "\t13 & collections\\_12\\_mths\\_ex\\_med                               & Number of collections in 12 months excluding medical collections\\\\\n",
       "\t14 & delinq\\_2yrs                                                                                                                                                                                                                                                                                                                                                                                                                                                                                                                                                                                                                                                                                                                                                                                & The number of 30+ days past-due incidences of delinquency in the borrowers credit file for the past 2 years\n",
       "delinq\\_amnt,The past-due amount owed for the accounts on which the borrower is now delinquent.\n",
       "desc,Loan description provided by the borrower\n",
       "dti,A ratio calculated using the borrower?s total monthly debt payments on the total debt obligations excluding mortgage and the requested LC loan divided by the borrower?s self-reported monthly income.\n",
       "dti\\_joint,A ratio calculated using the co-borrowers total monthly payments on the total debt obligations excluding mortgages and the requested LC loan divided by the co-borrowers combined self-reported monthly income\n",
       "earliest\\_cr\\_line,The month the borrowers earliest reported credit line was opened\\\\\n",
       "\t15 & emp\\_length                                                                                                                       & Employment length in years. Possible values are between 0 and 10 where 0 means less than one year and 10 means ten or more years. \\\\\n",
       "\t16 & emp\\_title                                                         & The job title supplied by the Borrower when applying for the loan.*\\\\\n",
       "\t17 & fico\\_range\\_high                                                          & The upper boundary range the borrower?s FICO at loan origination belongs to.\\\\\n",
       "\t18 & fico\\_range\\_low                                                           & The lower boundary range the borrower?s FICO at loan origination belongs to.\\\\\n",
       "\t19 & funded\\_amnt                                                  & The total amount committed to that loan at that point in time.\\\\\n",
       "\t20 & funded\\_amnt\\_inv                                                          & The total amount committed by investors for that loan at that point in time.\\\\\n",
       "\t21 & grade                  & LC assigned loan grade\\\\\n",
       "\t22 & home\\_ownership                                                                                                 & The home ownership status provided by the borrower during registration. Our values are: RENT OWN MORTGAGE OTHER.\\\\\n",
       "\t23 & id                                            & A unique LC assigned ID for the loan listing.\\\\\n",
       "\t24 & il\\_util                                                                      & Ratio of total current balance to high credit/credit limit on all install acct\\\\\n",
       "\t25 & initial\\_list\\_status                                           & The initial listing status of the loan. Possible values are ? W F\\\\\n",
       "\t26 & inq\\_fi                             & Number of personal finance inquiries\\\\\n",
       "\t27 & inq\\_last\\_12m                             & Number of credit inquiries in past 12 months\\\\\n",
       "\t28 & inq\\_last\\_6mths                                                               & The number of inquiries in past 6 months (excluding auto and mortgage inquiries)\\\\\n",
       "\t29 & installment                                                      & The monthly payment owed by the borrower if the loan originates.\\\\\n",
       "\t30 & int\\_rate                & Interest Rate on the loan\\\\\n",
       "\t... & ... & ...\\\\\n",
       "\t44 & mo\\_sin\\_rcnt\\_tl                    & Months since most recent account opened\\\\\n",
       "\t45 & mort\\_acc                   & Number of mortgage accounts.\\\\\n",
       "\t46 & mths\\_since\\_last\\_delinq                                                                                                                                                                                                                                                                                                                                                                                                                                                                                                                                                                                                                                                                                                                                                                                                                                                                                                                                                                                                                                                                                                                                                                                                                                                                                                                                                                                                                                                                                                                                                                                                                                                                                                       & The number of months since the borrowers last delinquency.\n",
       "mths\\_since\\_last\\_major\\_derog,Months since most recent 90-day or worse rating\n",
       "mths\\_since\\_last\\_record,The number of months since the last public record.\n",
       "mths\\_since\\_rcnt\\_il,Months since most recent installment accounts opened\n",
       "mths\\_since\\_recent\\_bc,Months since most recent bankcard account opened.\n",
       "mths\\_since\\_recent\\_bc\\_dlq,Months since most recent bankcard delinquency\n",
       "mths\\_since\\_recent\\_inq,Months since most recent inquiry.\n",
       "mths\\_since\\_recent\\_revol\\_delinq,Months since most recent revolving delinquency.\n",
       "next\\_pymnt\\_d,Next scheduled payment date\n",
       "num\\_accts\\_ever\\_120\\_pd,Number of accounts ever 120 or more days past due\n",
       "num\\_actv\\_bc\\_tl,Number of currently active bankcard accounts\n",
       "num\\_actv\\_rev\\_tl,Number of currently active revolving trades\n",
       "num\\_bc\\_sats,Number of satisfactory bankcard accounts\n",
       "num\\_bc\\_tl,Number of bankcard accounts\n",
       "num\\_il\\_tl,Number of installment accounts\n",
       "num\\_op\\_rev\\_tl,Number of open revolving accounts\n",
       "num\\_rev\\_accts,Number of revolving accounts\n",
       "num\\_rev\\_tl\\_bal\\_gt\\_0,Number of revolving trades with balance >0\n",
       "num\\_sats,Number of satisfactory accounts\n",
       "num\\_tl\\_120dpd\\_2m,Number of accounts currently 120 days past due (updated in past 2 months)\n",
       "num\\_tl\\_30dpd,Number of accounts currently 30 days past due (updated in past 2 months)\n",
       "num\\_tl\\_90g\\_dpd\\_24m,Number of accounts 90 or more days past due in last 24 months\n",
       "num\\_tl\\_op\\_past\\_12m,Number of accounts opened in past 12 months\n",
       "open\\_acc,The number of open credit lines in the borrowers credit file.\\\\\n",
       "\t47 & open\\_acc\\_6m                        & Number of open trades in last 6 months\\\\\n",
       "\t48 & open\\_il\\_12m                                         & Number of installment accounts opened in past 12 months\\\\\n",
       "\t49 & open\\_il\\_24m                                         & Number of installment accounts opened in past 24 months\\\\\n",
       "\t50 & open\\_il\\_6m                                & Number of currently active installment trades\\\\\n",
       "\t51 & open\\_rv\\_12m                                     & Number of revolving trades opened in past 12 months\\\\\n",
       "\t52 & open\\_rv\\_24m                                     & Number of revolving trades opened in past 24 months\\\\\n",
       "\t53 & out\\_prncp                                             & Remaining outstanding principal for total amount funded\\\\\n",
       "\t54 & out\\_prncp\\_inv                                                               & Remaining outstanding principal for portion of total amount funded by investors\\\\\n",
       "\t55 & pct\\_tl\\_nvr\\_dlq               & Percent of trades never delinquent\\\\\n",
       "\t56 & percent\\_bc\\_gt\\_75                                & Percentage of all bankcard accounts > 75\\% of limit.\\\\\n",
       "\t57 & policy\\_code                                                                           & publicly available policy\\_code=1\n",
       "new products not publicly available policy\\_code=2\\\\\n",
       "\t58 & pub\\_rec                           & Number of derogatory public records\\\\\n",
       "\t59 & pub\\_rec\\_bankruptcies             & Number of public record bankruptcies\\\\\n",
       "\t60 & purpose                                                    & A category provided by the borrower for the loan request. \\\\\n",
       "\t61 & pymnt\\_plan                                                   & Indicates if a payment plan has been put in place for the loan\\\\\n",
       "\t62 & recoveries                     & post charge off gross recovery\\\\\n",
       "\t63 & revol\\_bal                    & Total credit revolving balance\\\\\n",
       "\t64 & revol\\_util                                                                                                              & Revolving line utilization rate or the amount of credit the borrower is using relative to all available revolving credit.\\\\\n",
       "\t65 & sub\\_grade               & LC assigned loan subgrade\\\\\n",
       "\t66 & tax\\_liens         & Number of tax liens\\\\\n",
       "\t67 & term                                                                                 & The number of payments on the loan. Values are in months and can be either 36 or 60.\\\\\n",
       "\t68 & title                                   & The loan title provided by the borrower\\\\\n",
       "\t69 & tot\\_coll\\_amt                   & Total collection amounts ever owed\\\\\n",
       "\t70 & tot\\_cur\\_bal                       & Total current balance of all accounts\\\\\n",
       "\t71 & tot\\_hi\\_cred\\_lim          & Total high credit/credit limit\\\\\n",
       "\t72 & total\\_acc                                                                                                                                                                                                                                                                                                                                                                                                                                                                                                                                                                                                                                                                                                                                                                                                                                                                                                                                                                                                                                                                                   & The total number of credit lines currently in the borrowers credit file\n",
       "total\\_bal\\_ex\\_mort,Total credit balance excluding mortgage\n",
       "total\\_bal\\_il,Total current balance of all installment accounts\n",
       "total\\_bc\\_limit,Total bankcard high credit/credit limit\n",
       "total\\_cu\\_tl,Number of finance trades\n",
       "total\\_il\\_high\\_credit\\_limit,Total installment high credit/credit limit\n",
       "total\\_pymnt,Payments received to date for total amount funded\n",
       "total\\_pymnt\\_inv,Payments received to date for portion of total amount funded by investors\n",
       "total\\_rec\\_int,Interest received to date\n",
       "total\\_rec\\_late\\_fee,Late fees received to date\n",
       "total\\_rec\\_prncp,Principal received to date\n",
       "total\\_rev\\_hi\\_lim ÿ,Total revolving high credit/credit limit\n",
       "url,URL for the LC page with listing data.\n",
       "verification\\_status,Indicates if income was verified by LC not verified or if the income source was verified\n",
       "verified\\_status\\_joint,Indicates if the co-borrowers joint income was verified by LC not verified or if the income source was verified\\\\\n",
       "\t73 & zip\\_code                                                                            & The first 3 numbers of the zip code provided by the borrower in the loan application.\\\\\n",
       "\\end{tabular}\n"
      ],
      "text/plain": [
       "                       Feature\n",
       "1               acc_now_delinq\n",
       "2         acc_open_past_24mths\n",
       "3                   addr_state\n",
       "4                     all_util\n",
       "5                   annual_inc\n",
       "6             annual_inc_joint\n",
       "7             application_type\n",
       "8                  avg_cur_bal\n",
       "9               bc_open_to_buy\n",
       "10                     bc_util\n",
       "11    chargeoff_within_12_mths\n",
       "12     collection_recovery_fee\n",
       "13  collections_12_mths_ex_med\n",
       "14                 delinq_2yrs\n",
       "15                  emp_length\n",
       "16                   emp_title\n",
       "17             fico_range_high\n",
       "18              fico_range_low\n",
       "19                 funded_amnt\n",
       "20             funded_amnt_inv\n",
       "21                       grade\n",
       "22              home_ownership\n",
       "23                          id\n",
       "24                     il_util\n",
       "25         initial_list_status\n",
       "26                      inq_fi\n",
       "27                inq_last_12m\n",
       "28              inq_last_6mths\n",
       "29                 installment\n",
       "30                    int_rate\n",
       "...                        ...\n",
       "44              mo_sin_rcnt_tl\n",
       "45                    mort_acc\n",
       "46      mths_since_last_delinq\n",
       "47                 open_acc_6m\n",
       "48                 open_il_12m\n",
       "49                 open_il_24m\n",
       "50                  open_il_6m\n",
       "51                 open_rv_12m\n",
       "52                 open_rv_24m\n",
       "53                   out_prncp\n",
       "54               out_prncp_inv\n",
       "55              pct_tl_nvr_dlq\n",
       "56            percent_bc_gt_75\n",
       "57                 policy_code\n",
       "58                     pub_rec\n",
       "59        pub_rec_bankruptcies\n",
       "60                     purpose\n",
       "61                  pymnt_plan\n",
       "62                  recoveries\n",
       "63                   revol_bal\n",
       "64                  revol_util\n",
       "65                   sub_grade\n",
       "66                   tax_liens\n",
       "67                        term\n",
       "68                       title\n",
       "69                tot_coll_amt\n",
       "70                 tot_cur_bal\n",
       "71             tot_hi_cred_lim\n",
       "72                   total_acc\n",
       "73                    zip_code\n",
       "                                                                                                                                                                                                                                                                                                                                                                                                                                                                                                                                                                                                                                                                                                                                                                                                                                                                                                                                                                                                                                                                                                                                                                                                                                                                                                                                                                                                                                                                                                                                                                                     Description\n",
       "1                                                                                                                                                                                                                                                                                                                                                                                                                                                                                                                                                                                                                                                                                                                                                                                                                                                                                                                                                                                                                                                                                                                                                                                                                                                                                                                                                                                                                                                                                                                                The number of accounts on which the borrower is now delinquent.\n",
       "2                                                                                                                                                                                                                                                                                                                                                                                                                                                                                                                                                                                                                                                                                                                                                                                                                                                                                                                                                                                                                                                                                                                                                                                                                                                                                                                                                                                                                                                                                                                                                     Number of trades opened in past 24 months.\n",
       "3                                                                                                                                                                                                                                                                                                                                                                                                                                                                                                                                                                                                                                                                                                                                                                                                                                                                                                                                                                                                                                                                                                                                                                                                                                                                                                                                                                                                                                                                                                                                     The state provided by the borrower in the loan application\n",
       "4                                                                                                                                                                                                                                                                                                                                                                                                                                                                                                                                                                                                                                                                                                                                                                                                                                                                                                                                                                                                                                                                                                                                                                                                                                                                                                                                                                                                                                                                                                                                                          Balance to credit limit on all trades\n",
       "5                                                                                                                                                                                                                                                                                                                                                                                                                                                                                                                                                                                                                                                                                                                                                                                                                                                                                                                                                                                                                                                                                                                                                                                                                                                                                                                                                                                                                                                                                                                  The self-reported annual income provided by the borrower during registration.\n",
       "6                                                                                                                                                                                                                                                                                                                                                                                                                                                                                                                                                                                                                                                                                                                                                                                                                                                                                                                                                                                                                                                                                                                                                                                                                                                                                                                                                                                                                                                                                                      The combined self-reported annual income provided by the co-borrowers during registration\n",
       "7                                                                                                                                                                                                                                                                                                                                                                                                                                                                                                                                                                                                                                                                                                                                                                                                                                                                                                                                                                                                                                                                                                                                                                                                                                                                                                                                                                                                                                                                                           Indicates whether the loan is an individual application or a joint application with two co-borrowers\n",
       "8                                                                                                                                                                                                                                                                                                                                                                                                                                                                                                                                                                                                                                                                                                                                                                                                                                                                                                                                                                                                                                                                                                                                                                                                                                                                                                                                                                                                                                                                                                                                                        Average current balance of all accounts\n",
       "9                                                                                                                                                                                                                                                                                                                                                                                                                                                                                                                                                                                                                                                                                                                                                                                                                                                                                                                                                                                                                                                                                                                                                                                                                                                                                                                                                                                                                                                                                                                                                      Total open to buy on revolving bankcards.\n",
       "10                                                                                                                                                                                                                                                                                                                                                                                                                                                                                                                                                                                                                                                                                                                                                                                                                                                                                                                                                                                                                                                                                                                                                                                                                                                                                                                                                                                                                                                                                                         Ratio of total current balance to high credit/credit limit for all bankcard accounts.\n",
       "11                                                                                                                                                                                                                                                                                                                                                                                                                                                                                                                                                                                                                                                                                                                                                                                                                                                                                                                                                                                                                                                                                                                                                                                                                                                                                                                                                                                                                                                                                                                                                        Number of charge-offs within 12 months\n",
       "12                                                                                                                                                                                                                                                                                                                                                                                                                                                                                                                                                                                                                                                                                                                                                                                                                                                                                                                                                                                                                                                                                                                                                                                                                                                                                                                                                                                                                                                                                                                                                                post charge off collection fee\n",
       "13                                                                                                                                                                                                                                                                                                                                                                                                                                                                                                                                                                                                                                                                                                                                                                                                                                                                                                                                                                                                                                                                                                                                                                                                                                                                                                                                                                                                                                                                                                                              Number of collections in 12 months excluding medical collections\n",
       "14                                                                                                                                                                                                                                                                                                                                                                                                                                                                                                                                                                                                                                                                                                                                                                                                          The number of 30+ days past-due incidences of delinquency in the borrowers credit file for the past 2 years\\ndelinq_amnt,The past-due amount owed for the accounts on which the borrower is now delinquent.\\ndesc,Loan description provided by the borrower\\ndti,A ratio calculated using the borrower?s total monthly debt payments on the total debt obligations excluding mortgage and the requested LC loan divided by the borrower?s self-reported monthly income.\\ndti_joint,A ratio calculated using the co-borrowers total monthly payments on the total debt obligations excluding mortgages and the requested LC loan divided by the co-borrowers combined self-reported monthly income\\nearliest_cr_line,The month the borrowers earliest reported credit line was opened\n",
       "15                                                                                                                                                                                                                                                                                                                                                                                                                                                                                                                                                                                                                                                                                                                                                                                                                                                                                                                                                                                                                                                                                                                                                                                                                                                                                                                                                                                                                                                            Employment length in years. Possible values are between 0 and 10 where 0 means less than one year and 10 means ten or more years. \n",
       "16                                                                                                                                                                                                                                                                                                                                                                                                                                                                                                                                                                                                                                                                                                                                                                                                                                                                                                                                                                                                                                                                                                                                                                                                                                                                                                                                                                                                                                                                                                                           The job title supplied by the Borrower when applying for the loan.*\n",
       "17                                                                                                                                                                                                                                                                                                                                                                                                                                                                                                                                                                                                                                                                                                                                                                                                                                                                                                                                                                                                                                                                                                                                                                                                                                                                                                                                                                                                                                                                                                                  The upper boundary range the borrower?s FICO at loan origination belongs to.\n",
       "18                                                                                                                                                                                                                                                                                                                                                                                                                                                                                                                                                                                                                                                                                                                                                                                                                                                                                                                                                                                                                                                                                                                                                                                                                                                                                                                                                                                                                                                                                                                  The lower boundary range the borrower?s FICO at loan origination belongs to.\n",
       "19                                                                                                                                                                                                                                                                                                                                                                                                                                                                                                                                                                                                                                                                                                                                                                                                                                                                                                                                                                                                                                                                                                                                                                                                                                                                                                                                                                                                                                                                                                                                The total amount committed to that loan at that point in time.\n",
       "20                                                                                                                                                                                                                                                                                                                                                                                                                                                                                                                                                                                                                                                                                                                                                                                                                                                                                                                                                                                                                                                                                                                                                                                                                                                                                                                                                                                                                                                                                                                  The total amount committed by investors for that loan at that point in time.\n",
       "21                                                                                                                                                                                                                                                                                                                                                                                                                                                                                                                                                                                                                                                                                                                                                                                                                                                                                                                                                                                                                                                                                                                                                                                                                                                                                                                                                                                                                                                                                                                                                                        LC assigned loan grade\n",
       "22                                                                                                                                                                                                                                                                                                                                                                                                                                                                                                                                                                                                                                                                                                                                                                                                                                                                                                                                                                                                                                                                                                                                                                                                                                                                                                                                                                                                                                                                              The home ownership status provided by the borrower during registration. Our values are: RENT OWN MORTGAGE OTHER.\n",
       "23                                                                                                                                                                                                                                                                                                                                                                                                                                                                                                                                                                                                                                                                                                                                                                                                                                                                                                                                                                                                                                                                                                                                                                                                                                                                                                                                                                                                                                                                                                                                                 A unique LC assigned ID for the loan listing.\n",
       "24                                                                                                                                                                                                                                                                                                                                                                                                                                                                                                                                                                                                                                                                                                                                                                                                                                                                                                                                                                                                                                                                                                                                                                                                                                                                                                                                                                                                                                                                                                                Ratio of total current balance to high credit/credit limit on all install acct\n",
       "25                                                                                                                                                                                                                                                                                                                                                                                                                                                                                                                                                                                                                                                                                                                                                                                                                                                                                                                                                                                                                                                                                                                                                                                                                                                                                                                                                                                                                                                                                                                             The initial listing status of the loan. Possible values are ? W F\n",
       "26                                                                                                                                                                                                                                                                                                                                                                                                                                                                                                                                                                                                                                                                                                                                                                                                                                                                                                                                                                                                                                                                                                                                                                                                                                                                                                                                                                                                                                                                                                                                                          Number of personal finance inquiries\n",
       "27                                                                                                                                                                                                                                                                                                                                                                                                                                                                                                                                                                                                                                                                                                                                                                                                                                                                                                                                                                                                                                                                                                                                                                                                                                                                                                                                                                                                                                                                                                                                                  Number of credit inquiries in past 12 months\n",
       "28                                                                                                                                                                                                                                                                                                                                                                                                                                                                                                                                                                                                                                                                                                                                                                                                                                                                                                                                                                                                                                                                                                                                                                                                                                                                                                                                                                                                                                                                                                              The number of inquiries in past 6 months (excluding auto and mortgage inquiries)\n",
       "29                                                                                                                                                                                                                                                                                                                                                                                                                                                                                                                                                                                                                                                                                                                                                                                                                                                                                                                                                                                                                                                                                                                                                                                                                                                                                                                                                                                                                                                                                                                              The monthly payment owed by the borrower if the loan originates.\n",
       "30                                                                                                                                                                                                                                                                                                                                                                                                                                                                                                                                                                                                                                                                                                                                                                                                                                                                                                                                                                                                                                                                                                                                                                                                                                                                                                                                                                                                                                                                                                                                                                     Interest Rate on the loan\n",
       "...                                                                                                                                                                                                                                                                                                                                                                                                                                                                                                                                                                                                                                                                                                                                                                                                                                                                                                                                                                                                                                                                                                                                                                                                                                                                                                                                                                                                                                                                                                                                                                                          ...\n",
       "44                                                                                                                                                                                                                                                                                                                                                                                                                                                                                                                                                                                                                                                                                                                                                                                                                                                                                                                                                                                                                                                                                                                                                                                                                                                                                                                                                                                                                                                                                                                                                       Months since most recent account opened\n",
       "45                                                                                                                                                                                                                                                                                                                                                                                                                                                                                                                                                                                                                                                                                                                                                                                                                                                                                                                                                                                                                                                                                                                                                                                                                                                                                                                                                                                                                                                                                                                                                                  Number of mortgage accounts.\n",
       "46  The number of months since the borrowers last delinquency.\\nmths_since_last_major_derog,Months since most recent 90-day or worse rating\\nmths_since_last_record,The number of months since the last public record.\\nmths_since_rcnt_il,Months since most recent installment accounts opened\\nmths_since_recent_bc,Months since most recent bankcard account opened.\\nmths_since_recent_bc_dlq,Months since most recent bankcard delinquency\\nmths_since_recent_inq,Months since most recent inquiry.\\nmths_since_recent_revol_delinq,Months since most recent revolving delinquency.\\nnext_pymnt_d,Next scheduled payment date\\nnum_accts_ever_120_pd,Number of accounts ever 120 or more days past due\\nnum_actv_bc_tl,Number of currently active bankcard accounts\\nnum_actv_rev_tl,Number of currently active revolving trades\\nnum_bc_sats,Number of satisfactory bankcard accounts\\nnum_bc_tl,Number of bankcard accounts\\nnum_il_tl,Number of installment accounts\\nnum_op_rev_tl,Number of open revolving accounts\\nnum_rev_accts,Number of revolving accounts\\nnum_rev_tl_bal_gt_0,Number of revolving trades with balance >0\\nnum_sats,Number of satisfactory accounts\\nnum_tl_120dpd_2m,Number of accounts currently 120 days past due (updated in past 2 months)\\nnum_tl_30dpd,Number of accounts currently 30 days past due (updated in past 2 months)\\nnum_tl_90g_dpd_24m,Number of accounts 90 or more days past due in last 24 months\\nnum_tl_op_past_12m,Number of accounts opened in past 12 months\\nopen_acc,The number of open credit lines in the borrowers credit file.\n",
       "47                                                                                                                                                                                                                                                                                                                                                                                                                                                                                                                                                                                                                                                                                                                                                                                                                                                                                                                                                                                                                                                                                                                                                                                                                                                                                                                                                                                                                                                                                                                                                        Number of open trades in last 6 months\n",
       "48                                                                                                                                                                                                                                                                                                                                                                                                                                                                                                                                                                                                                                                                                                                                                                                                                                                                                                                                                                                                                                                                                                                                                                                                                                                                                                                                                                                                                                                                                                                                       Number of installment accounts opened in past 12 months\n",
       "49                                                                                                                                                                                                                                                                                                                                                                                                                                                                                                                                                                                                                                                                                                                                                                                                                                                                                                                                                                                                                                                                                                                                                                                                                                                                                                                                                                                                                                                                                                                                       Number of installment accounts opened in past 24 months\n",
       "50                                                                                                                                                                                                                                                                                                                                                                                                                                                                                                                                                                                                                                                                                                                                                                                                                                                                                                                                                                                                                                                                                                                                                                                                                                                                                                                                                                                                                                                                                                                                                 Number of currently active installment trades\n",
       "51                                                                                                                                                                                                                                                                                                                                                                                                                                                                                                                                                                                                                                                                                                                                                                                                                                                                                                                                                                                                                                                                                                                                                                                                                                                                                                                                                                                                                                                                                                                                           Number of revolving trades opened in past 12 months\n",
       "52                                                                                                                                                                                                                                                                                                                                                                                                                                                                                                                                                                                                                                                                                                                                                                                                                                                                                                                                                                                                                                                                                                                                                                                                                                                                                                                                                                                                                                                                                                                                           Number of revolving trades opened in past 24 months\n",
       "53                                                                                                                                                                                                                                                                                                                                                                                                                                                                                                                                                                                                                                                                                                                                                                                                                                                                                                                                                                                                                                                                                                                                                                                                                                                                                                                                                                                                                                                                                                                                       Remaining outstanding principal for total amount funded\n",
       "54                                                                                                                                                                                                                                                                                                                                                                                                                                                                                                                                                                                                                                                                                                                                                                                                                                                                                                                                                                                                                                                                                                                                                                                                                                                                                                                                                                                                                                                                                                               Remaining outstanding principal for portion of total amount funded by investors\n",
       "55                                                                                                                                                                                                                                                                                                                                                                                                                                                                                                                                                                                                                                                                                                                                                                                                                                                                                                                                                                                                                                                                                                                                                                                                                                                                                                                                                                                                                                                                                                                                                            Percent of trades never delinquent\n",
       "56                                                                                                                                                                                                                                                                                                                                                                                                                                                                                                                                                                                                                                                                                                                                                                                                                                                                                                                                                                                                                                                                                                                                                                                                                                                                                                                                                                                                                                                                                                                                           Percentage of all bankcard accounts > 75% of limit.\n",
       "57                                                                                                                                                                                                                                                                                                                                                                                                                                                                                                                                                                                                                                                                                                                                                                                                                                                                                                                                                                                                                                                                                                                                                                                                                                                                                                                                                                                                                                                                                                           publicly available policy_code=1\\nnew products not publicly available policy_code=2\n",
       "58                                                                                                                                                                                                                                                                                                                                                                                                                                                                                                                                                                                                                                                                                                                                                                                                                                                                                                                                                                                                                                                                                                                                                                                                                                                                                                                                                                                                                                                                                                                                                           Number of derogatory public records\n",
       "59                                                                                                                                                                                                                                                                                                                                                                                                                                                                                                                                                                                                                                                                                                                                                                                                                                                                                                                                                                                                                                                                                                                                                                                                                                                                                                                                                                                                                                                                                                                                                          Number of public record bankruptcies\n",
       "60                                                                                                                                                                                                                                                                                                                                                                                                                                                                                                                                                                                                                                                                                                                                                                                                                                                                                                                                                                                                                                                                                                                                                                                                                                                                                                                                                                                                                                                                                                                                    A category provided by the borrower for the loan request. \n",
       "61                                                                                                                                                                                                                                                                                                                                                                                                                                                                                                                                                                                                                                                                                                                                                                                                                                                                                                                                                                                                                                                                                                                                                                                                                                                                                                                                                                                                                                                                                                                                Indicates if a payment plan has been put in place for the loan\n",
       "62                                                                                                                                                                                                                                                                                                                                                                                                                                                                                                                                                                                                                                                                                                                                                                                                                                                                                                                                                                                                                                                                                                                                                                                                                                                                                                                                                                                                                                                                                                                                                                post charge off gross recovery\n",
       "63                                                                                                                                                                                                                                                                                                                                                                                                                                                                                                                                                                                                                                                                                                                                                                                                                                                                                                                                                                                                                                                                                                                                                                                                                                                                                                                                                                                                                                                                                                                                                                Total credit revolving balance\n",
       "64                                                                                                                                                                                                                                                                                                                                                                                                                                                                                                                                                                                                                                                                                                                                                                                                                                                                                                                                                                                                                                                                                                                                                                                                                                                                                                                                                                                                                                                                     Revolving line utilization rate or the amount of credit the borrower is using relative to all available revolving credit.\n",
       "65                                                                                                                                                                                                                                                                                                                                                                                                                                                                                                                                                                                                                                                                                                                                                                                                                                                                                                                                                                                                                                                                                                                                                                                                                                                                                                                                                                                                                                                                                                                                                                     LC assigned loan subgrade\n",
       "66                                                                                                                                                                                                                                                                                                                                                                                                                                                                                                                                                                                                                                                                                                                                                                                                                                                                                                                                                                                                                                                                                                                                                                                                                                                                                                                                                                                                                                                                                                                                                                           Number of tax liens\n",
       "67                                                                                                                                                                                                                                                                                                                                                                                                                                                                                                                                                                                                                                                                                                                                                                                                                                                                                                                                                                                                                                                                                                                                                                                                                                                                                                                                                                                                                                                                                                          The number of payments on the loan. Values are in months and can be either 36 or 60.\n",
       "68                                                                                                                                                                                                                                                                                                                                                                                                                                                                                                                                                                                                                                                                                                                                                                                                                                                                                                                                                                                                                                                                                                                                                                                                                                                                                                                                                                                                                                                                                                                                                       The loan title provided by the borrower\n",
       "69                                                                                                                                                                                                                                                                                                                                                                                                                                                                                                                                                                                                                                                                                                                                                                                                                                                                                                                                                                                                                                                                                                                                                                                                                                                                                                                                                                                                                                                                                                                                                            Total collection amounts ever owed\n",
       "70                                                                                                                                                                                                                                                                                                                                                                                                                                                                                                                                                                                                                                                                                                                                                                                                                                                                                                                                                                                                                                                                                                                                                                                                                                                                                                                                                                                                                                                                                                                                                         Total current balance of all accounts\n",
       "71                                                                                                                                                                                                                                                                                                                                                                                                                                                                                                                                                                                                                                                                                                                                                                                                                                                                                                                                                                                                                                                                                                                                                                                                                                                                                                                                                                                                                                                                                                                                                                Total high credit/credit limit\n",
       "72                                                                                                                                                                                                                                                                                                                                                                                                                                                                                                                                                           The total number of credit lines currently in the borrowers credit file\\ntotal_bal_ex_mort,Total credit balance excluding mortgage\\ntotal_bal_il,Total current balance of all installment accounts\\ntotal_bc_limit,Total bankcard high credit/credit limit\\ntotal_cu_tl,Number of finance trades\\ntotal_il_high_credit_limit,Total installment high credit/credit limit\\ntotal_pymnt,Payments received to date for total amount funded\\ntotal_pymnt_inv,Payments received to date for portion of total amount funded by investors\\ntotal_rec_int,Interest received to date\\ntotal_rec_late_fee,Late fees received to date\\ntotal_rec_prncp,Principal received to date\\ntotal_rev_hi_lim ÿ,Total revolving high credit/credit limit\\nurl,URL for the LC page with listing data.\\nverification_status,Indicates if income was verified by LC not verified or if the income source was verified\\nverified_status_joint,Indicates if the co-borrowers joint income was verified by LC not verified or if the income source was verified\n",
       "73                                                                                                                                                                                                                                                                                                                                                                                                                                                                                                                                                                                                                                                                                                                                                                                                                                                                                                                                                                                                                                                                                                                                                                                                                                                                                                                                                                                                                                                                                                         The first 3 numbers of the zip code provided by the borrower in the loan application."
      ]
     },
     "metadata": {},
     "output_type": "display_data"
    }
   ],
   "source": [
    "dataDict"
   ]
  },
  {
   "cell_type": "markdown",
   "metadata": {
    "collapsed": true
   },
   "source": [
    "## References\n",
    "\n",
    "1. Baesens, B., Van Gestel, T., Viaene, S., Stepanova,\n",
    "M., Suykens, J., & Vanthienen, J. (2003). Benchmarking state-of-the-art classification algorithms\n",
    "for credit scoring. Journal of the Operational Research Society, 54(6), 627-635.\n",
    "2. Lessmann, S., Seow, H., Baesens, B. and Thomas, L. (2013). Benchmarking state-of-the-art classification algorithms for credit scoring: A ten-year update. 1st ed. [ebook] pp.1-32. Available at: http://www.business-school.ed.ac.uk/waf/crc_archive/2013/42.pdf [Accessed 15 Sep. 2016].\n",
    "3. Caruana, R. and Niculescu-Mizil, A. (2006). An Empirical Comparison of Supervised Learning Algorithms. 1st ed. [ebook] Pittsburgh, Pennsylvania, USA: Cornell University, pp.1-7. Available at: https://www.cs.cornell.edu/~caruana/ctp/ct.papers/caruana.icml06.pdf [Accessed 16 Sep. 2016]."
   ]
  },
  {
   "cell_type": "code",
   "execution_count": null,
   "metadata": {
    "collapsed": true
   },
   "outputs": [],
   "source": []
  }
 ],
 "metadata": {
  "anaconda-cloud": {},
  "kernelspec": {
   "display_name": "R",
   "language": "R",
   "name": "ir"
  },
  "language_info": {
   "codemirror_mode": "r",
   "file_extension": ".r",
   "mimetype": "text/x-r-source",
   "name": "R",
   "pygments_lexer": "r",
   "version": "3.3.1"
  }
 },
 "nbformat": 4,
 "nbformat_minor": 1
}
